{
 "cells": [
  {
   "cell_type": "markdown",
   "metadata": {
    "id": "mTt7qGUTCcFs"
   },
   "source": [
    "# car seat 매출 예측"
   ]
  },
  {
   "cell_type": "markdown",
   "metadata": {
    "id": "7usNzsAVsGbi"
   },
   "source": [
    "![](https://cdn.images.express.co.uk/img/dynamic/24/590x/child-car-seat-986556.jpg?r=1532946857754)"
   ]
  },
  {
   "cell_type": "markdown",
   "metadata": {
    "id": "nKwWO4QmTzvp"
   },
   "source": [
    "* 비즈니스 상황\n",
    "    * 고객사는 국내(미국)와 국외에서 카시트를 판매하는 회사로 가정한다.\n",
    "    * 최근 경쟁사의 공격적인 마케팅으로 매출이 감소하고 있는 상황이다.\n",
    "    * 이를 해결하고자 예측 모델링을 해보고자 한다."
   ]
  },
  {
   "cell_type": "markdown",
   "metadata": {
    "id": "zYKHwYHatC4k"
   },
   "source": [
    "|\t변수명\t|\t설명\t|\t구분\t|\n",
    "|\t----\t|\t----\t|\t----\t|\n",
    "|\tSales \t|\t 각 지역 판매액(단위 : 1000달러)\t|\tTarget\t|\n",
    "|\tCompPrice \t|\t지역별 경쟁사 판매가격(달러)\t|\tfeature\t|\n",
    "|\tAdvertising \t|\t 각 지역, 회사의 광고 예산(단위 : 1000달러)\t|\tfeature\t|\n",
    "|\tPopulation \t|\t 지역 인구수(단위 : 1000명)\t|\tfeature\t|\n",
    "|\tPrice \t|\t 자사 지역별 판매가격(달러)\t|\tfeature\t|\n",
    "|\tShelveLoc \t|\t 진열상태\t|\tfeature\t|\n",
    "|\tAge \t|\t 지역 인구의 평균 연령\t|\tfeature\t|\n",
    "|\tUS \t|\t 매장이 미국에 있는지 여부\t|\tfeature\t|\n",
    "|\tUrban \t|\t 매장이 도시에 있는지 여부\t|\tfeature\t|\n",
    "|\tEducation \t|\t 평균학력수준(범주 : 11~17)\t|\tfeature\t|\n",
    "| Income| "
   ]
  },
  {
   "cell_type": "markdown",
   "metadata": {
    "id": "WNKs9rKAQqa5"
   },
   "source": [
    "* 데이터\n",
    "    * data : 학습과 검증용\n",
    "    * test : **팀과제용** \n",
    "        * feature만 있습니다.\n",
    "        * 운영에서 발생된 데이터로 간주하고, 예측한 후에 Kaggle에 업로드합니다.\n",
    "\n",
    "* 주의사항\n",
    "    * data 에 대해 수행한 전처리 코드를 **순서에 맞춰** test에도 적용해야 함."
   ]
  },
  {
   "cell_type": "markdown",
   "metadata": {
    "id": "3cKmWSTZ8uwC"
   },
   "source": [
    "## 0.환경준비"
   ]
  },
  {
   "cell_type": "markdown",
   "metadata": {
    "id": "ryA0ffqNS44P"
   },
   "source": [
    "### 0.1 Import"
   ]
  },
  {
   "cell_type": "code",
   "execution_count": 4,
   "metadata": {
    "id": "GVvCef6A8uv6"
   },
   "outputs": [],
   "source": [
    "# 기본 라이브러리 가져오기\n",
    "import pandas as pd\n",
    "import numpy as np\n",
    "\n",
    "import matplotlib.pyplot as plt\n",
    "import seaborn as sns\n",
    "\n",
    "from sklearn.model_selection import train_test_split    "
   ]
  },
  {
   "cell_type": "markdown",
   "metadata": {
    "id": "4uZziFNcsUmw"
   },
   "source": [
    "### 0.2 Data Loading"
   ]
  },
  {
   "cell_type": "code",
   "execution_count": 5,
   "metadata": {
    "id": "QG28HshT8SfH"
   },
   "outputs": [
    {
     "data": {
      "text/html": [
       "<div>\n",
       "<style scoped>\n",
       "    .dataframe tbody tr th:only-of-type {\n",
       "        vertical-align: middle;\n",
       "    }\n",
       "\n",
       "    .dataframe tbody tr th {\n",
       "        vertical-align: top;\n",
       "    }\n",
       "\n",
       "    .dataframe thead th {\n",
       "        text-align: right;\n",
       "    }\n",
       "</style>\n",
       "<table border=\"1\" class=\"dataframe\">\n",
       "  <thead>\n",
       "    <tr style=\"text-align: right;\">\n",
       "      <th></th>\n",
       "      <th>Sales</th>\n",
       "      <th>CompPrice</th>\n",
       "      <th>Income</th>\n",
       "      <th>Advertising</th>\n",
       "      <th>Population</th>\n",
       "      <th>Price</th>\n",
       "      <th>ShelveLoc</th>\n",
       "      <th>Age</th>\n",
       "      <th>Education</th>\n",
       "      <th>Urban</th>\n",
       "      <th>US</th>\n",
       "    </tr>\n",
       "  </thead>\n",
       "  <tbody>\n",
       "    <tr>\n",
       "      <th>0</th>\n",
       "      <td>3.72</td>\n",
       "      <td>139.0</td>\n",
       "      <td>111.0</td>\n",
       "      <td>5</td>\n",
       "      <td>310</td>\n",
       "      <td>132</td>\n",
       "      <td>Bad</td>\n",
       "      <td>62</td>\n",
       "      <td>13</td>\n",
       "      <td>Yes</td>\n",
       "      <td>Yes</td>\n",
       "    </tr>\n",
       "    <tr>\n",
       "      <th>1</th>\n",
       "      <td>2.93</td>\n",
       "      <td>143.0</td>\n",
       "      <td>21.0</td>\n",
       "      <td>5</td>\n",
       "      <td>81</td>\n",
       "      <td>160</td>\n",
       "      <td>Medium</td>\n",
       "      <td>67</td>\n",
       "      <td>12</td>\n",
       "      <td>No</td>\n",
       "      <td>Yes</td>\n",
       "    </tr>\n",
       "    <tr>\n",
       "      <th>2</th>\n",
       "      <td>4.53</td>\n",
       "      <td>114.0</td>\n",
       "      <td>NaN</td>\n",
       "      <td>0</td>\n",
       "      <td>97</td>\n",
       "      <td>125</td>\n",
       "      <td>Medium</td>\n",
       "      <td>29</td>\n",
       "      <td>12</td>\n",
       "      <td>Yes</td>\n",
       "      <td>No</td>\n",
       "    </tr>\n",
       "    <tr>\n",
       "      <th>3</th>\n",
       "      <td>8.47</td>\n",
       "      <td>119.0</td>\n",
       "      <td>88.0</td>\n",
       "      <td>10</td>\n",
       "      <td>170</td>\n",
       "      <td>101</td>\n",
       "      <td>Medium</td>\n",
       "      <td>61</td>\n",
       "      <td>13</td>\n",
       "      <td>Yes</td>\n",
       "      <td>Yes</td>\n",
       "    </tr>\n",
       "    <tr>\n",
       "      <th>4</th>\n",
       "      <td>11.85</td>\n",
       "      <td>136.0</td>\n",
       "      <td>81.0</td>\n",
       "      <td>15</td>\n",
       "      <td>425</td>\n",
       "      <td>120</td>\n",
       "      <td>Good</td>\n",
       "      <td>67</td>\n",
       "      <td>10</td>\n",
       "      <td>Yes</td>\n",
       "      <td>Yes</td>\n",
       "    </tr>\n",
       "  </tbody>\n",
       "</table>\n",
       "</div>"
      ],
      "text/plain": [
       "   Sales  CompPrice  Income  Advertising  Population  Price ShelveLoc  Age  \\\n",
       "0   3.72      139.0   111.0            5         310    132       Bad   62   \n",
       "1   2.93      143.0    21.0            5          81    160    Medium   67   \n",
       "2   4.53      114.0     NaN            0          97    125    Medium   29   \n",
       "3   8.47      119.0    88.0           10         170    101    Medium   61   \n",
       "4  11.85      136.0    81.0           15         425    120      Good   67   \n",
       "\n",
       "   Education Urban   US  \n",
       "0         13   Yes  Yes  \n",
       "1         12    No  Yes  \n",
       "2         12   Yes   No  \n",
       "3         13   Yes  Yes  \n",
       "4         10   Yes  Yes  "
      ]
     },
     "execution_count": 5,
     "metadata": {},
     "output_type": "execute_result"
    }
   ],
   "source": [
    "path = 'https://raw.githubusercontent.com/DA4BAM/dataset/master/Carseat_train.csv'\n",
    "data = pd.read_csv(path)\n",
    "data.head()"
   ]
  },
  {
   "cell_type": "markdown",
   "metadata": {
    "id": "YKhS-1s83W6B"
   },
   "source": [
    "* 아래 데이터는 **팀 과제** 데이터"
   ]
  },
  {
   "cell_type": "code",
   "execution_count": 3,
   "metadata": {
    "id": "vHny68G6ws_H"
   },
   "outputs": [
    {
     "data": {
      "text/html": [
       "<div>\n",
       "<style scoped>\n",
       "    .dataframe tbody tr th:only-of-type {\n",
       "        vertical-align: middle;\n",
       "    }\n",
       "\n",
       "    .dataframe tbody tr th {\n",
       "        vertical-align: top;\n",
       "    }\n",
       "\n",
       "    .dataframe thead th {\n",
       "        text-align: right;\n",
       "    }\n",
       "</style>\n",
       "<table border=\"1\" class=\"dataframe\">\n",
       "  <thead>\n",
       "    <tr style=\"text-align: right;\">\n",
       "      <th></th>\n",
       "      <th>CompPrice</th>\n",
       "      <th>Income</th>\n",
       "      <th>Advertising</th>\n",
       "      <th>Population</th>\n",
       "      <th>Price</th>\n",
       "      <th>ShelveLoc</th>\n",
       "      <th>Age</th>\n",
       "      <th>Education</th>\n",
       "      <th>Urban</th>\n",
       "      <th>US</th>\n",
       "    </tr>\n",
       "  </thead>\n",
       "  <tbody>\n",
       "    <tr>\n",
       "      <th>0</th>\n",
       "      <td>131.0</td>\n",
       "      <td>111.0</td>\n",
       "      <td>13</td>\n",
       "      <td>33</td>\n",
       "      <td>80</td>\n",
       "      <td>Bad</td>\n",
       "      <td>68</td>\n",
       "      <td>18</td>\n",
       "      <td>Yes</td>\n",
       "      <td>Yes</td>\n",
       "    </tr>\n",
       "    <tr>\n",
       "      <th>1</th>\n",
       "      <td>123.0</td>\n",
       "      <td>57.0</td>\n",
       "      <td>0</td>\n",
       "      <td>66</td>\n",
       "      <td>105</td>\n",
       "      <td>Medium</td>\n",
       "      <td>39</td>\n",
       "      <td>11</td>\n",
       "      <td>Yes</td>\n",
       "      <td>No</td>\n",
       "    </tr>\n",
       "    <tr>\n",
       "      <th>2</th>\n",
       "      <td>136.0</td>\n",
       "      <td>60.0</td>\n",
       "      <td>7</td>\n",
       "      <td>303</td>\n",
       "      <td>147</td>\n",
       "      <td>Medium</td>\n",
       "      <td>41</td>\n",
       "      <td>10</td>\n",
       "      <td>Yes</td>\n",
       "      <td>Yes</td>\n",
       "    </tr>\n",
       "    <tr>\n",
       "      <th>3</th>\n",
       "      <td>143.0</td>\n",
       "      <td>77.0</td>\n",
       "      <td>25</td>\n",
       "      <td>448</td>\n",
       "      <td>156</td>\n",
       "      <td>Medium</td>\n",
       "      <td>43</td>\n",
       "      <td>17</td>\n",
       "      <td>Yes</td>\n",
       "      <td>Yes</td>\n",
       "    </tr>\n",
       "    <tr>\n",
       "      <th>4</th>\n",
       "      <td>111.0</td>\n",
       "      <td>75.0</td>\n",
       "      <td>1</td>\n",
       "      <td>377</td>\n",
       "      <td>108</td>\n",
       "      <td>Good</td>\n",
       "      <td>25</td>\n",
       "      <td>12</td>\n",
       "      <td>Yes</td>\n",
       "      <td>No</td>\n",
       "    </tr>\n",
       "  </tbody>\n",
       "</table>\n",
       "</div>"
      ],
      "text/plain": [
       "   CompPrice  Income  Advertising  Population  Price ShelveLoc  Age  \\\n",
       "0      131.0   111.0           13          33     80       Bad   68   \n",
       "1      123.0    57.0            0          66    105    Medium   39   \n",
       "2      136.0    60.0            7         303    147    Medium   41   \n",
       "3      143.0    77.0           25         448    156    Medium   43   \n",
       "4      111.0    75.0            1         377    108      Good   25   \n",
       "\n",
       "   Education Urban   US  \n",
       "0         18   Yes  Yes  \n",
       "1         11   Yes   No  \n",
       "2         10   Yes  Yes  \n",
       "3         17   Yes  Yes  \n",
       "4         12   Yes   No  "
      ]
     },
     "execution_count": 3,
     "metadata": {},
     "output_type": "execute_result"
    }
   ],
   "source": [
    "path = 'https://raw.githubusercontent.com/DA4BAM/dataset/master/Carseat_test_x.csv'\n",
    "\n",
    "test = pd.read_csv(path)\n",
    "test.head()"
   ]
  },
  {
   "cell_type": "markdown",
   "metadata": {
    "id": "Ge5eTWab_921"
   },
   "source": [
    "## 1.데이터 탐색"
   ]
  },
  {
   "cell_type": "code",
   "execution_count": 6,
   "metadata": {},
   "outputs": [
    {
     "name": "stdout",
     "output_type": "stream",
     "text": [
      "<class 'pandas.core.frame.DataFrame'>\n",
      "RangeIndex: 300 entries, 0 to 299\n",
      "Data columns (total 11 columns):\n",
      " #   Column       Non-Null Count  Dtype  \n",
      "---  ------       --------------  -----  \n",
      " 0   Sales        300 non-null    float64\n",
      " 1   CompPrice    287 non-null    float64\n",
      " 2   Income       288 non-null    float64\n",
      " 3   Advertising  300 non-null    int64  \n",
      " 4   Population   300 non-null    int64  \n",
      " 5   Price        300 non-null    int64  \n",
      " 6   ShelveLoc    300 non-null    object \n",
      " 7   Age          300 non-null    int64  \n",
      " 8   Education    300 non-null    int64  \n",
      " 9   Urban        300 non-null    object \n",
      " 10  US           300 non-null    object \n",
      "dtypes: float64(3), int64(5), object(3)\n",
      "memory usage: 25.9+ KB\n"
     ]
    }
   ],
   "source": [
    "data.info()"
   ]
  },
  {
   "cell_type": "code",
   "execution_count": 7,
   "metadata": {},
   "outputs": [
    {
     "data": {
      "image/png": "[encoded data removed]",
      "text/plain": [
       "<Figure size 1152x576 with 2 Axes>"
      ]
     },
     "metadata": {
      "needs_background": "light"
     },
     "output_type": "display_data"
    }
   ],
   "source": [
    "plt.figure(figsize=(16, 8))\n",
    "sns.heatmap(data.corr(), cmap='Blues', fmt='g', annot=True)\n",
    "plt.show()\n",
    "\n",
    "# 상관관계를 통해 먼저 데이터간의 관계에서 price와 CompPrice간의 관계가 강한것이 확인됨."
   ]
  },
  {
   "cell_type": "markdown",
   "metadata": {
    "id": "PRXJWyibZTJN"
   },
   "source": [
    "## 2.데이터 전처리 "
   ]
  },
  {
   "cell_type": "code",
   "execution_count": 6,
   "metadata": {
    "id": "vtn0hI98urCt"
   },
   "outputs": [],
   "source": [
    "target = 'Sales'"
   ]
  },
  {
   "cell_type": "markdown",
   "metadata": {
    "id": "BHWYbtBdZTJN"
   },
   "source": [
    "### 2.1 데이터를 feature와 , target으로 분할"
   ]
  },
  {
   "cell_type": "code",
   "execution_count": null,
   "metadata": {
    "id": "WvyeHRNWEMBF"
   },
   "outputs": [],
   "source": [
    "# x = data.drop(target, axis = 1)\n",
    "# y = data.loc[:, target]"
   ]
  },
  {
   "cell_type": "markdown",
   "metadata": {
    "id": "umpv1ug6ZTJO"
   },
   "source": [
    "### 2.2 NaN에 대한 조치\n",
    "* 데이터에 포함된 NaN에 대해서 조치 방법을 결정하고 적용합니다.\n",
    "* 조치방법을 결정한 이유를 주석으로 기술합니다."
   ]
  },
  {
   "cell_type": "code",
   "execution_count": 7,
   "metadata": {
    "id": "8epD0jT6vL51"
   },
   "outputs": [
    {
     "data": {
      "text/plain": [
       "Sales           0\n",
       "CompPrice      13\n",
       "Income         12\n",
       "Advertising     0\n",
       "Population      0\n",
       "Price           0\n",
       "ShelveLoc       0\n",
       "Age             0\n",
       "Education       0\n",
       "Urban           0\n",
       "US              0\n",
       "dtype: int64"
      ]
     },
     "execution_count": 7,
     "metadata": {},
     "output_type": "execute_result"
    }
   ],
   "source": [
    "data.isna().sum()"
   ]
  },
  {
   "cell_type": "code",
   "execution_count": 8,
   "metadata": {
    "id": "gcn7jb2_JpUX"
   },
   "outputs": [],
   "source": [
    "# 데이터 갯수가 많지 않아 결측치 삭제보단 평균값으로 채움\n",
    "data['CompPrice'].fillna(data['CompPrice'].mean(), inplace=True)\n",
    "data['Income'].fillna(data['Income'].mean(), inplace=True)"
   ]
  },
  {
   "cell_type": "code",
   "execution_count": 9,
   "metadata": {
    "scrolled": true
   },
   "outputs": [
    {
     "data": {
      "text/plain": [
       "Sales          0\n",
       "CompPrice      0\n",
       "Income         0\n",
       "Advertising    0\n",
       "Population     0\n",
       "Price          0\n",
       "ShelveLoc      0\n",
       "Age            0\n",
       "Education      0\n",
       "Urban          0\n",
       "US             0\n",
       "dtype: int64"
      ]
     },
     "execution_count": 9,
     "metadata": {},
     "output_type": "execute_result"
    }
   ],
   "source": [
    "data.isna().sum()"
   ]
  },
  {
   "cell_type": "markdown",
   "metadata": {},
   "source": [
    "참고)KNN Imputer로 채우는 것도 가능(가변수화 된 상태에서 사용가능)"
   ]
  },
  {
   "cell_type": "markdown",
   "metadata": {
    "id": "zFJ23LikV8A_"
   },
   "source": [
    "### 2.3 가변수화\n",
    "* 범주형 데이터이면서 값이 0,1 로 되어 있는 것이 아니라면, 가변수화를 수행해야 합니다."
   ]
  },
  {
   "cell_type": "code",
   "execution_count": 10,
   "metadata": {
    "id": "ETUeL5XmV8A_"
   },
   "outputs": [],
   "source": [
    "cols = ['ShelveLoc','Education','Urban','US']\n",
    "data = pd.get_dummies(data, columns=cols, drop_first=True)"
   ]
  },
  {
   "cell_type": "markdown",
   "metadata": {},
   "source": [
    "- ShelveLoc', 'Urban', 'US', 'Education' 변수가 범주형으로써 0, 1로 구분이 안되어 있어 가변수화 실시"
   ]
  },
  {
   "cell_type": "code",
   "execution_count": 11,
   "metadata": {
    "id": "kbLyzF96KDuQ"
   },
   "outputs": [
    {
     "data": {
      "text/html": [
       "<div>\n",
       "<style scoped>\n",
       "    .dataframe tbody tr th:only-of-type {\n",
       "        vertical-align: middle;\n",
       "    }\n",
       "\n",
       "    .dataframe tbody tr th {\n",
       "        vertical-align: top;\n",
       "    }\n",
       "\n",
       "    .dataframe thead th {\n",
       "        text-align: right;\n",
       "    }\n",
       "</style>\n",
       "<table border=\"1\" class=\"dataframe\">\n",
       "  <thead>\n",
       "    <tr style=\"text-align: right;\">\n",
       "      <th></th>\n",
       "      <th>Sales</th>\n",
       "      <th>CompPrice</th>\n",
       "      <th>Income</th>\n",
       "      <th>Advertising</th>\n",
       "      <th>Population</th>\n",
       "      <th>Price</th>\n",
       "      <th>Age</th>\n",
       "      <th>ShelveLoc_Good</th>\n",
       "      <th>ShelveLoc_Medium</th>\n",
       "      <th>Education_11</th>\n",
       "      <th>Education_12</th>\n",
       "      <th>Education_13</th>\n",
       "      <th>Education_14</th>\n",
       "      <th>Education_15</th>\n",
       "      <th>Education_16</th>\n",
       "      <th>Education_17</th>\n",
       "      <th>Education_18</th>\n",
       "      <th>Urban_Yes</th>\n",
       "      <th>US_Yes</th>\n",
       "    </tr>\n",
       "  </thead>\n",
       "  <tbody>\n",
       "    <tr>\n",
       "      <th>0</th>\n",
       "      <td>3.72</td>\n",
       "      <td>139.0</td>\n",
       "      <td>111.000000</td>\n",
       "      <td>5</td>\n",
       "      <td>310</td>\n",
       "      <td>132</td>\n",
       "      <td>62</td>\n",
       "      <td>0</td>\n",
       "      <td>0</td>\n",
       "      <td>0</td>\n",
       "      <td>0</td>\n",
       "      <td>1</td>\n",
       "      <td>0</td>\n",
       "      <td>0</td>\n",
       "      <td>0</td>\n",
       "      <td>0</td>\n",
       "      <td>0</td>\n",
       "      <td>1</td>\n",
       "      <td>1</td>\n",
       "    </tr>\n",
       "    <tr>\n",
       "      <th>1</th>\n",
       "      <td>2.93</td>\n",
       "      <td>143.0</td>\n",
       "      <td>21.000000</td>\n",
       "      <td>5</td>\n",
       "      <td>81</td>\n",
       "      <td>160</td>\n",
       "      <td>67</td>\n",
       "      <td>0</td>\n",
       "      <td>1</td>\n",
       "      <td>0</td>\n",
       "      <td>1</td>\n",
       "      <td>0</td>\n",
       "      <td>0</td>\n",
       "      <td>0</td>\n",
       "      <td>0</td>\n",
       "      <td>0</td>\n",
       "      <td>0</td>\n",
       "      <td>0</td>\n",
       "      <td>1</td>\n",
       "    </tr>\n",
       "    <tr>\n",
       "      <th>2</th>\n",
       "      <td>4.53</td>\n",
       "      <td>114.0</td>\n",
       "      <td>68.673611</td>\n",
       "      <td>0</td>\n",
       "      <td>97</td>\n",
       "      <td>125</td>\n",
       "      <td>29</td>\n",
       "      <td>0</td>\n",
       "      <td>1</td>\n",
       "      <td>0</td>\n",
       "      <td>1</td>\n",
       "      <td>0</td>\n",
       "      <td>0</td>\n",
       "      <td>0</td>\n",
       "      <td>0</td>\n",
       "      <td>0</td>\n",
       "      <td>0</td>\n",
       "      <td>1</td>\n",
       "      <td>0</td>\n",
       "    </tr>\n",
       "    <tr>\n",
       "      <th>3</th>\n",
       "      <td>8.47</td>\n",
       "      <td>119.0</td>\n",
       "      <td>88.000000</td>\n",
       "      <td>10</td>\n",
       "      <td>170</td>\n",
       "      <td>101</td>\n",
       "      <td>61</td>\n",
       "      <td>0</td>\n",
       "      <td>1</td>\n",
       "      <td>0</td>\n",
       "      <td>0</td>\n",
       "      <td>1</td>\n",
       "      <td>0</td>\n",
       "      <td>0</td>\n",
       "      <td>0</td>\n",
       "      <td>0</td>\n",
       "      <td>0</td>\n",
       "      <td>1</td>\n",
       "      <td>1</td>\n",
       "    </tr>\n",
       "    <tr>\n",
       "      <th>4</th>\n",
       "      <td>11.85</td>\n",
       "      <td>136.0</td>\n",
       "      <td>81.000000</td>\n",
       "      <td>15</td>\n",
       "      <td>425</td>\n",
       "      <td>120</td>\n",
       "      <td>67</td>\n",
       "      <td>1</td>\n",
       "      <td>0</td>\n",
       "      <td>0</td>\n",
       "      <td>0</td>\n",
       "      <td>0</td>\n",
       "      <td>0</td>\n",
       "      <td>0</td>\n",
       "      <td>0</td>\n",
       "      <td>0</td>\n",
       "      <td>0</td>\n",
       "      <td>1</td>\n",
       "      <td>1</td>\n",
       "    </tr>\n",
       "  </tbody>\n",
       "</table>\n",
       "</div>"
      ],
      "text/plain": [
       "   Sales  CompPrice      Income  Advertising  Population  Price  Age  \\\n",
       "0   3.72      139.0  111.000000            5         310    132   62   \n",
       "1   2.93      143.0   21.000000            5          81    160   67   \n",
       "2   4.53      114.0   68.673611            0          97    125   29   \n",
       "3   8.47      119.0   88.000000           10         170    101   61   \n",
       "4  11.85      136.0   81.000000           15         425    120   67   \n",
       "\n",
       "   ShelveLoc_Good  ShelveLoc_Medium  Education_11  Education_12  Education_13  \\\n",
       "0               0                 0             0             0             1   \n",
       "1               0                 1             0             1             0   \n",
       "2               0                 1             0             1             0   \n",
       "3               0                 1             0             0             1   \n",
       "4               1                 0             0             0             0   \n",
       "\n",
       "   Education_14  Education_15  Education_16  Education_17  Education_18  \\\n",
       "0             0             0             0             0             0   \n",
       "1             0             0             0             0             0   \n",
       "2             0             0             0             0             0   \n",
       "3             0             0             0             0             0   \n",
       "4             0             0             0             0             0   \n",
       "\n",
       "   Urban_Yes  US_Yes  \n",
       "0          1       1  \n",
       "1          0       1  \n",
       "2          1       0  \n",
       "3          1       1  \n",
       "4          1       1  "
      ]
     },
     "execution_count": 11,
     "metadata": {},
     "output_type": "execute_result"
    }
   ],
   "source": [
    "data.head()"
   ]
  },
  {
   "cell_type": "markdown",
   "metadata": {
    "id": "NC48TbT7FoYM"
   },
   "source": [
    "### 2.4 추가변수 도출\n",
    "* 데이터 탐색시 'CompPrice'와 'Price'가 서로 연관이 있었음\n",
    "* 자사와 경쟁사 판매가격 차를 추가변수로 추가"
   ]
  },
  {
   "cell_type": "code",
   "execution_count": 12,
   "metadata": {
    "id": "eEi54e5ZFnU1"
   },
   "outputs": [],
   "source": [
    "data['diff'] = data['CompPrice'] - data['Price']"
   ]
  },
  {
   "cell_type": "code",
   "execution_count": 13,
   "metadata": {
    "id": "WDiZkMCkU1Bf"
   },
   "outputs": [
    {
     "data": {
      "text/html": [
       "<div>\n",
       "<style scoped>\n",
       "    .dataframe tbody tr th:only-of-type {\n",
       "        vertical-align: middle;\n",
       "    }\n",
       "\n",
       "    .dataframe tbody tr th {\n",
       "        vertical-align: top;\n",
       "    }\n",
       "\n",
       "    .dataframe thead th {\n",
       "        text-align: right;\n",
       "    }\n",
       "</style>\n",
       "<table border=\"1\" class=\"dataframe\">\n",
       "  <thead>\n",
       "    <tr style=\"text-align: right;\">\n",
       "      <th></th>\n",
       "      <th>Sales</th>\n",
       "      <th>CompPrice</th>\n",
       "      <th>Income</th>\n",
       "      <th>Advertising</th>\n",
       "      <th>Population</th>\n",
       "      <th>Price</th>\n",
       "      <th>Age</th>\n",
       "      <th>ShelveLoc_Good</th>\n",
       "      <th>ShelveLoc_Medium</th>\n",
       "      <th>Education_11</th>\n",
       "      <th>Education_12</th>\n",
       "      <th>Education_13</th>\n",
       "      <th>Education_14</th>\n",
       "      <th>Education_15</th>\n",
       "      <th>Education_16</th>\n",
       "      <th>Education_17</th>\n",
       "      <th>Education_18</th>\n",
       "      <th>Urban_Yes</th>\n",
       "      <th>US_Yes</th>\n",
       "      <th>diff</th>\n",
       "    </tr>\n",
       "  </thead>\n",
       "  <tbody>\n",
       "    <tr>\n",
       "      <th>0</th>\n",
       "      <td>3.72</td>\n",
       "      <td>139.0</td>\n",
       "      <td>111.000000</td>\n",
       "      <td>5</td>\n",
       "      <td>310</td>\n",
       "      <td>132</td>\n",
       "      <td>62</td>\n",
       "      <td>0</td>\n",
       "      <td>0</td>\n",
       "      <td>0</td>\n",
       "      <td>0</td>\n",
       "      <td>1</td>\n",
       "      <td>0</td>\n",
       "      <td>0</td>\n",
       "      <td>0</td>\n",
       "      <td>0</td>\n",
       "      <td>0</td>\n",
       "      <td>1</td>\n",
       "      <td>1</td>\n",
       "      <td>7.0</td>\n",
       "    </tr>\n",
       "    <tr>\n",
       "      <th>1</th>\n",
       "      <td>2.93</td>\n",
       "      <td>143.0</td>\n",
       "      <td>21.000000</td>\n",
       "      <td>5</td>\n",
       "      <td>81</td>\n",
       "      <td>160</td>\n",
       "      <td>67</td>\n",
       "      <td>0</td>\n",
       "      <td>1</td>\n",
       "      <td>0</td>\n",
       "      <td>1</td>\n",
       "      <td>0</td>\n",
       "      <td>0</td>\n",
       "      <td>0</td>\n",
       "      <td>0</td>\n",
       "      <td>0</td>\n",
       "      <td>0</td>\n",
       "      <td>0</td>\n",
       "      <td>1</td>\n",
       "      <td>-17.0</td>\n",
       "    </tr>\n",
       "    <tr>\n",
       "      <th>2</th>\n",
       "      <td>4.53</td>\n",
       "      <td>114.0</td>\n",
       "      <td>68.673611</td>\n",
       "      <td>0</td>\n",
       "      <td>97</td>\n",
       "      <td>125</td>\n",
       "      <td>29</td>\n",
       "      <td>0</td>\n",
       "      <td>1</td>\n",
       "      <td>0</td>\n",
       "      <td>1</td>\n",
       "      <td>0</td>\n",
       "      <td>0</td>\n",
       "      <td>0</td>\n",
       "      <td>0</td>\n",
       "      <td>0</td>\n",
       "      <td>0</td>\n",
       "      <td>1</td>\n",
       "      <td>0</td>\n",
       "      <td>-11.0</td>\n",
       "    </tr>\n",
       "    <tr>\n",
       "      <th>3</th>\n",
       "      <td>8.47</td>\n",
       "      <td>119.0</td>\n",
       "      <td>88.000000</td>\n",
       "      <td>10</td>\n",
       "      <td>170</td>\n",
       "      <td>101</td>\n",
       "      <td>61</td>\n",
       "      <td>0</td>\n",
       "      <td>1</td>\n",
       "      <td>0</td>\n",
       "      <td>0</td>\n",
       "      <td>1</td>\n",
       "      <td>0</td>\n",
       "      <td>0</td>\n",
       "      <td>0</td>\n",
       "      <td>0</td>\n",
       "      <td>0</td>\n",
       "      <td>1</td>\n",
       "      <td>1</td>\n",
       "      <td>18.0</td>\n",
       "    </tr>\n",
       "    <tr>\n",
       "      <th>4</th>\n",
       "      <td>11.85</td>\n",
       "      <td>136.0</td>\n",
       "      <td>81.000000</td>\n",
       "      <td>15</td>\n",
       "      <td>425</td>\n",
       "      <td>120</td>\n",
       "      <td>67</td>\n",
       "      <td>1</td>\n",
       "      <td>0</td>\n",
       "      <td>0</td>\n",
       "      <td>0</td>\n",
       "      <td>0</td>\n",
       "      <td>0</td>\n",
       "      <td>0</td>\n",
       "      <td>0</td>\n",
       "      <td>0</td>\n",
       "      <td>0</td>\n",
       "      <td>1</td>\n",
       "      <td>1</td>\n",
       "      <td>16.0</td>\n",
       "    </tr>\n",
       "  </tbody>\n",
       "</table>\n",
       "</div>"
      ],
      "text/plain": [
       "   Sales  CompPrice      Income  Advertising  Population  Price  Age  \\\n",
       "0   3.72      139.0  111.000000            5         310    132   62   \n",
       "1   2.93      143.0   21.000000            5          81    160   67   \n",
       "2   4.53      114.0   68.673611            0          97    125   29   \n",
       "3   8.47      119.0   88.000000           10         170    101   61   \n",
       "4  11.85      136.0   81.000000           15         425    120   67   \n",
       "\n",
       "   ShelveLoc_Good  ShelveLoc_Medium  Education_11  Education_12  Education_13  \\\n",
       "0               0                 0             0             0             1   \n",
       "1               0                 1             0             1             0   \n",
       "2               0                 1             0             1             0   \n",
       "3               0                 1             0             0             1   \n",
       "4               1                 0             0             0             0   \n",
       "\n",
       "   Education_14  Education_15  Education_16  Education_17  Education_18  \\\n",
       "0             0             0             0             0             0   \n",
       "1             0             0             0             0             0   \n",
       "2             0             0             0             0             0   \n",
       "3             0             0             0             0             0   \n",
       "4             0             0             0             0             0   \n",
       "\n",
       "   Urban_Yes  US_Yes  diff  \n",
       "0          1       1   7.0  \n",
       "1          0       1 -17.0  \n",
       "2          1       0 -11.0  \n",
       "3          1       1  18.0  \n",
       "4          1       1  16.0  "
      ]
     },
     "execution_count": 13,
     "metadata": {},
     "output_type": "execute_result"
    }
   ],
   "source": [
    "data.head()"
   ]
  },
  {
   "cell_type": "markdown",
   "metadata": {
    "id": "-dgcE6vBZTJQ"
   },
   "source": [
    "### 2.5 데이터 분할"
   ]
  },
  {
   "cell_type": "code",
   "execution_count": 14,
   "metadata": {
    "id": "rrJdDjMiIa1d"
   },
   "outputs": [],
   "source": [
    "x = data.drop(target, axis = 1)\n",
    "y = data.loc[:, target]"
   ]
  },
  {
   "cell_type": "code",
   "execution_count": 15,
   "metadata": {
    "id": "0Lda-ShMKJhY"
   },
   "outputs": [],
   "source": [
    "x_train, x_test, y_train, y_test= train_test_split(x,y, test_size=0.2, random_state=2022)"
   ]
  },
  {
   "cell_type": "markdown",
   "metadata": {
    "id": "2Lwk03PSZTJP"
   },
   "source": [
    "### 2.6 (옵션)스케일링 \n",
    "* 스케일링을 필요로 하는 알고리즘이 있기에 스케일링을 해준다"
   ]
  },
  {
   "cell_type": "code",
   "execution_count": null,
   "metadata": {
    "id": "oAVSU7XucCvn"
   },
   "outputs": [],
   "source": [
    "# x = (x-x.min()) / (x.max() - x.min())"
   ]
  },
  {
   "cell_type": "code",
   "execution_count": 34,
   "metadata": {},
   "outputs": [],
   "source": [
    "max_x = x_train.max()\n",
    "min_x = x_train.min()"
   ]
  },
  {
   "cell_type": "code",
   "execution_count": 37,
   "metadata": {
    "id": "GZ-wq6pcKJzP"
   },
   "outputs": [],
   "source": [
    "x_train_sc = (x_train - min_x) / (max_x - min_x)\n",
    "x_test_sc = (x_test - min_x) / (max_x - min_x)"
   ]
  },
  {
   "cell_type": "code",
   "execution_count": 38,
   "metadata": {},
   "outputs": [
    {
     "data": {
      "text/plain": [
       "((240, 19), (60, 19), (240,), (60,))"
      ]
     },
     "execution_count": 38,
     "metadata": {},
     "output_type": "execute_result"
    }
   ],
   "source": [
    "x_train_sc.shape, x_test_sc.shape"
   ]
  },
  {
   "cell_type": "code",
   "execution_count": null,
   "metadata": {},
   "outputs": [],
   "source": [
    "# from sklearn.preprocessing import MinMaxScaler\n",
    "\n",
    "# scaler = MinMaxScaler()\n",
    "# x_train_s = scaler.fit_transform(x_train)\n",
    "# x_test_s = scaler.transform(x_test)"
   ]
  },
  {
   "cell_type": "markdown",
   "metadata": {
    "id": "ZghJJ7yLEpDA"
   },
   "source": [
    "## 3.모델링1 : 머신러닝"
   ]
  },
  {
   "cell_type": "markdown",
   "metadata": {
    "id": "NFDAfi7-5Xhu"
   },
   "source": [
    "### 3.1 모델링을 위한 함수 불러오기"
   ]
  },
  {
   "cell_type": "code",
   "execution_count": 33,
   "metadata": {
    "id": "zlHHnr2-5cwD"
   },
   "outputs": [],
   "source": [
    "# 사용할 알고리즘\n",
    "from sklearn.tree import DecisionTreeRegressor\n",
    "from sklearn.neighbors import KNeighborsRegressor\n",
    "from sklearn.ensemble import RandomForestRegressor\n",
    "from sklearn.svm import SVR\n",
    "from sklearn.linear_model import LinearRegression\n",
    "from xgboost import XGBRegressor\n",
    "\n",
    "\n",
    "# 성능 검증용\n",
    "from sklearn.model_selection import GridSearchCV\n",
    "from sklearn.model_selection import RandomizedSearchCV\n",
    "\n",
    "# 성능 평가용\n",
    "from sklearn.metrics import mean_absolute_error,r2_score\n",
    "from sklearn.metrics import mean_absolute_error,r2_score"
   ]
  },
  {
   "cell_type": "markdown",
   "metadata": {
    "id": "t-gnca2jZTJQ"
   },
   "source": [
    "### 3.2 모델링"
   ]
  },
  {
   "cell_type": "markdown",
   "metadata": {
    "id": "1j8zehMIIqpv"
   },
   "source": [
    "#### (1) Linear Regression 모델링"
   ]
  },
  {
   "cell_type": "code",
   "execution_count": 109,
   "metadata": {
    "id": "afL0_rKpEoTz"
   },
   "outputs": [
    {
     "name": "stdout",
     "output_type": "stream",
     "text": [
      "0.9792731621619262\n"
     ]
    }
   ],
   "source": [
    "# 1. 모델 선언하기\n",
    "model_lr = LinearRegression()\n",
    "\n",
    "# 2. 모델 학습하기\n",
    "model_lr.fit(x_train, y_train)\n",
    "\n",
    "# 3. 모델 예측하기\n",
    "y_pred = model_lr.predict(x_test)\n",
    "\n",
    "# 4. 모델 평가하기\n",
    "result = {}\n",
    "result['Linear Regression'] = mean_absolute_error(y_test,y_pred)\n",
    "print(mean_absolute_error(y_test,y_pred))"
   ]
  },
  {
   "cell_type": "code",
   "execution_count": 110,
   "metadata": {
    "id": "Um7zx9GQEoNk"
   },
   "outputs": [
    {
     "data": {
      "image/png": "[encoded data removed]",
      "text/plain": [
       "<Figure size 432x288 with 1 Axes>"
      ]
     },
     "metadata": {
      "needs_background": "light"
     },
     "output_type": "display_data"
    }
   ],
   "source": [
    "# 변수 가중치 시각화\n",
    "plt.barh(y=list(x), width=model_lr.coef_.reshape(-1))\n",
    "plt.show()"
   ]
  },
  {
   "cell_type": "code",
   "execution_count": 111,
   "metadata": {},
   "outputs": [
    {
     "data": {
      "image/png": "[encoded data removed]",
      "text/plain": [
       "<Figure size 1152x576 with 1 Axes>"
      ]
     },
     "metadata": {
      "needs_background": "light"
     },
     "output_type": "display_data"
    }
   ],
   "source": [
    "# 시각화\n",
    "plt.figure(figsize=(16, 8))\n",
    "\n",
    "plt.plot(y_pred, label='predicted')\n",
    "plt.plot(y_test.values, label='validation')\n",
    "\n",
    "plt.legend()\n",
    "plt.show()"
   ]
  },
  {
   "cell_type": "markdown",
   "metadata": {},
   "source": [
    "- Linear Regression은 따로 튜닝할 파라미터가 없기 때문에 단순 모델링을 진행함.\n",
    "- 시각화를 통해 알 수 있듯이 실제 값을 잘 예측하고 있음."
   ]
  },
  {
   "cell_type": "markdown",
   "metadata": {
    "id": "ZwstDzzpe5Rg"
   },
   "source": [
    "#### (2) Decision Tree 모델링"
   ]
  },
  {
   "cell_type": "code",
   "execution_count": 115,
   "metadata": {
    "id": "9KBjAg2Ue5nI"
   },
   "outputs": [],
   "source": [
    "model_dt = DecisionTreeRegressor(random_state=2022)\n",
    "param = {'max_depth' : range(1,51) }\n",
    "\n",
    "model = GridSearchCV(model_dt, param, cv=5, scoring='r2')"
   ]
  },
  {
   "cell_type": "code",
   "execution_count": 116,
   "metadata": {
    "id": "cQUS0axYfKZI"
   },
   "outputs": [
    {
     "data": {
      "text/plain": [
       "GridSearchCV(cv=5, estimator=DecisionTreeRegressor(random_state=2022),\n",
       "             param_grid={'max_depth': range(1, 51)}, scoring='r2')"
      ]
     },
     "execution_count": 116,
     "metadata": {},
     "output_type": "execute_result"
    }
   ],
   "source": [
    "model.fit(x_train, y_train)"
   ]
  },
  {
   "cell_type": "code",
   "execution_count": 117,
   "metadata": {
    "id": "40N90iKAfa9j"
   },
   "outputs": [
    {
     "name": "stdout",
     "output_type": "stream",
     "text": [
      "DecisionTreeRegressor(max_depth=5, random_state=2022)\n",
      "파라미터:  {'max_depth': 5}\n",
      "성능:  0.554739826285321\n"
     ]
    }
   ],
   "source": [
    "# 최적의 파라미터 확인\n",
    "print(model.best_estimator_)\n",
    "print('파라미터: ', model.best_params_)\n",
    "print('성능: ', model.best_score_)"
   ]
  },
  {
   "cell_type": "code",
   "execution_count": 118,
   "metadata": {},
   "outputs": [],
   "source": [
    "y_pred = model.predict(x_test)"
   ]
  },
  {
   "cell_type": "code",
   "execution_count": 119,
   "metadata": {},
   "outputs": [
    {
     "name": "stdout",
     "output_type": "stream",
     "text": [
      "1.4714420420848993\n"
     ]
    }
   ],
   "source": [
    "result['Decision Tree'] = mean_absolute_error(y_test,y_pred)\n",
    "print(mean_absolute_error(y_test,y_pred))"
   ]
  },
  {
   "cell_type": "markdown",
   "metadata": {},
   "source": [
    "파라미터 바꾸면서 MAE 작은 값 구함"
   ]
  },
  {
   "cell_type": "code",
   "execution_count": 91,
   "metadata": {},
   "outputs": [
    {
     "name": "stdout",
     "output_type": "stream",
     "text": [
      "1.413333333333333\n"
     ]
    }
   ],
   "source": [
    "model_dt = DecisionTreeRegressor(max_depth = 5)\n",
    "model_dt.fit(x_train, y_train)\n",
    "y_pred = model_dt.predict(x_test)\n",
    "result['Decision Tree'] = mean_absolute_error(y_test,y_pred)\n",
    "print(mean_absolute_error(y_test,y_pred))"
   ]
  },
  {
   "cell_type": "code",
   "execution_count": 113,
   "metadata": {},
   "outputs": [
    {
     "data": {
      "image/png": "[encoded data removed]",
      "text/plain": [
       "<Figure size 1152x576 with 1 Axes>"
      ]
     },
     "metadata": {
      "needs_background": "light"
     },
     "output_type": "display_data"
    }
   ],
   "source": [
    "# 시각화\n",
    "plt.figure(figsize=(16, 8))\n",
    "\n",
    "plt.plot(y_pred, label='predicted')\n",
    "plt.plot(y_test.values, label='validation')\n",
    "\n",
    "plt.legend()\n",
    "plt.show()"
   ]
  },
  {
   "cell_type": "markdown",
   "metadata": {},
   "source": [
    "- Decision Tree의 경우 대표적인 파라미터인 max_depth를 튜닝함.\n",
    "- 그리드서치를 통해 적합한 트리의 높이를 찾아보았지만 성능이 상당히 떨어짐을 알 수 있음.\n",
    "- 튜닝 결과 최종 모델의 성능은 회귀 모델보다 떨어짐을 볼 수 있음."
   ]
  },
  {
   "cell_type": "code",
   "execution_count": 30,
   "metadata": {},
   "outputs": [
    {
     "data": {
      "image/png": "[encoded data removed]",
      "text/plain": [
       "<Figure size 1800x720 with 1 Axes>"
      ]
     },
     "metadata": {
      "needs_background": "light"
     },
     "output_type": "display_data"
    }
   ],
   "source": [
    "# 시각화\n",
    "from sklearn.tree import plot_tree\n",
    "\n",
    "plt.figure(figsize=(25, 10))\n",
    "plot_tree(model.best_estimator_,\n",
    "         filled=True,\n",
    "         feature_names=list(x),\n",
    "         fontsize=6)\n",
    "plt.show()"
   ]
  },
  {
   "cell_type": "code",
   "execution_count": 32,
   "metadata": {},
   "outputs": [
    {
     "data": {
      "image/png": "[encoded data removed]",
      "text/plain": [
       "<Figure size 360x504 with 1 Axes>"
      ]
     },
     "metadata": {
      "needs_background": "light"
     },
     "output_type": "display_data"
    }
   ],
   "source": [
    "plt.figure(figsize=(5,7))\n",
    "plt.barh(y=list(x), width=model.best_estimator_.feature_importances_)\n",
    "plt.show()"
   ]
  },
  {
   "cell_type": "markdown",
   "metadata": {},
   "source": [
    "- 급여차(diff)가 카시트 판매량에 가장 많은 영향을 끼치고, 그 다음 진열 상태가 좋은 것들이 영향을 끼침\n",
    "- Education 이 중요하지 않은 변수 같아서 삭제 해도 될 것 같음."
   ]
  },
  {
   "cell_type": "markdown",
   "metadata": {
    "id": "b7sweeGMWYO1"
   },
   "source": [
    "#### (3) KNN 모델링\n",
    "- 스케일링(정규화) 필요"
   ]
  },
  {
   "cell_type": "code",
   "execution_count": 203,
   "metadata": {
    "id": "hHLzHD5KWYO6"
   },
   "outputs": [],
   "source": [
    "model_knn = KNeighborsRegressor()\n",
    "param = {'n_neighbors':range(1,51)}\n",
    "model = GridSearchCV(model_knn,\n",
    "                    param,\n",
    "                    cv=5,\n",
    "                    scoring='r2')"
   ]
  },
  {
   "cell_type": "code",
   "execution_count": 204,
   "metadata": {},
   "outputs": [
    {
     "data": {
      "text/plain": [
       "GridSearchCV(cv=5, estimator=KNeighborsRegressor(),\n",
       "             param_grid={'n_neighbors': range(1, 51)}, scoring='r2')"
      ]
     },
     "execution_count": 204,
     "metadata": {},
     "output_type": "execute_result"
    }
   ],
   "source": [
    "model.fit(x_train_sc, y_train)"
   ]
  },
  {
   "cell_type": "code",
   "execution_count": 205,
   "metadata": {},
   "outputs": [
    {
     "name": "stdout",
     "output_type": "stream",
     "text": [
      "최적파라미터:  {'n_neighbors': 10}\n",
      "성능:  0.36813750700789516\n"
     ]
    }
   ],
   "source": [
    "# 최적파라미터, 성능 확인\n",
    "print('최적파라미터: ', model.best_params_)\n",
    "print('성능: ', model.best_score_)"
   ]
  },
  {
   "cell_type": "code",
   "execution_count": 206,
   "metadata": {
    "id": "C0wxfihLWYO6"
   },
   "outputs": [],
   "source": [
    "y_pred = model.predict(x_test_sc)"
   ]
  },
  {
   "cell_type": "code",
   "execution_count": 207,
   "metadata": {
    "id": "rn6oLQAbWYO6"
   },
   "outputs": [
    {
     "name": "stdout",
     "output_type": "stream",
     "text": [
      "1.9907\n"
     ]
    }
   ],
   "source": [
    "result['KNN'] = mean_absolute_error(y_test,y_pred)\n",
    "print(mean_absolute_error(y_test,y_pred))"
   ]
  },
  {
   "cell_type": "markdown",
   "metadata": {
    "id": "JB7CrBcM3j4g"
   },
   "source": [
    "#### (4) SVM 모델링\n",
    "- 스케일링(정규화) 필요"
   ]
  },
  {
   "cell_type": "code",
   "execution_count": 125,
   "metadata": {
    "id": "_zJ10b6AKV6y"
   },
   "outputs": [],
   "source": [
    "model_svm = SVR()\n",
    "param={\n",
    "    'C':[1,10,100,1000,10000],\n",
    "    'epsilon':[0.0001,0.001,0.01,1,10],\n",
    "    'gamma':[0.00001, 0.0001, 0.001, 0.01, 1, 10, 100]\n",
    "}\n",
    "\n",
    "model = GridSearchCV(model_svm,\n",
    "                    param,\n",
    "                    cv=10,\n",
    "                    scoring='r2')"
   ]
  },
  {
   "cell_type": "code",
   "execution_count": 126,
   "metadata": {
    "id": "Z-Apu7XoKVwd"
   },
   "outputs": [
    {
     "data": {
      "text/plain": [
       "GridSearchCV(cv=10, estimator=SVR(),\n",
       "             param_grid={'C': [1, 10, 100, 1000, 10000],\n",
       "                         'epsilon': [0.0001, 0.001, 0.01, 1, 10],\n",
       "                         'gamma': [1e-05, 0.0001, 0.001, 0.01, 1, 10, 100]},\n",
       "             scoring='r2')"
      ]
     },
     "execution_count": 126,
     "metadata": {},
     "output_type": "execute_result"
    }
   ],
   "source": [
    "model.fit(x_train_sc, y_train)"
   ]
  },
  {
   "cell_type": "code",
   "execution_count": 127,
   "metadata": {
    "id": "RXmN99FjKVrZ"
   },
   "outputs": [
    {
     "name": "stdout",
     "output_type": "stream",
     "text": [
      "최적파라미터:  {'C': 10000, 'epsilon': 1, 'gamma': 0.001}\n",
      "성능:  0.8198032721283972\n"
     ]
    }
   ],
   "source": [
    "# 최적파라미터, 성능 확인\n",
    "print('최적파라미터: ', model.best_params_)\n",
    "print('성능: ', model.best_score_)"
   ]
  },
  {
   "cell_type": "code",
   "execution_count": 128,
   "metadata": {},
   "outputs": [],
   "source": [
    "y_pred = model.predict(x_test_sc)"
   ]
  },
  {
   "cell_type": "code",
   "execution_count": 129,
   "metadata": {},
   "outputs": [
    {
     "name": "stdout",
     "output_type": "stream",
     "text": [
      "1.0310712724384035\n"
     ]
    }
   ],
   "source": [
    "result['SVM'] = mean_absolute_error(y_test,y_pred)\n",
    "print(mean_absolute_error(y_test,y_pred))"
   ]
  },
  {
   "cell_type": "code",
   "execution_count": 153,
   "metadata": {},
   "outputs": [
    {
     "name": "stdout",
     "output_type": "stream",
     "text": [
      "0.8977557551785895\n"
     ]
    }
   ],
   "source": [
    "# 최종 모델\n",
    "\n",
    "model = SVR(C=480, epsilon=0.1, gamma=0.001)\n",
    "model.fit(x_train_sc, y_train)\n",
    "y_pred = model.predict(x_test_sc)\n",
    "result['SVM'] = mean_absolute_error(y_test,y_pred)\n",
    "print(mean_absolute_error(y_test,y_pred))"
   ]
  },
  {
   "cell_type": "markdown",
   "metadata": {
    "id": "FNAN5h5ZjxET"
   },
   "source": [
    "#### (5) Random Forest 모델링"
   ]
  },
  {
   "cell_type": "code",
   "execution_count": 164,
   "metadata": {
    "id": "EnDLOQh3KW7X"
   },
   "outputs": [],
   "source": [
    "model_rf = RandomForestRegressor(random_state=2022)\n",
    "param = {'max_depth' : range(1, 5),\n",
    "         'n_estimators' : range(1, 10)}\n",
    "model= GridSearchCV(model_rf,\n",
    "                    param,\n",
    "                    cv=10,\n",
    "                    scoring='r2',\n",
    "                    verbose=1)"
   ]
  },
  {
   "cell_type": "code",
   "execution_count": 165,
   "metadata": {
    "id": "wqIKNc1pKWsP"
   },
   "outputs": [
    {
     "name": "stdout",
     "output_type": "stream",
     "text": [
      "Fitting 10 folds for each of 36 candidates, totalling 360 fits\n"
     ]
    },
    {
     "data": {
      "text/plain": [
       "GridSearchCV(cv=10, estimator=RandomForestRegressor(random_state=2022),\n",
       "             param_grid={'max_depth': range(1, 5),\n",
       "                         'n_estimators': range(1, 10)},\n",
       "             scoring='r2', verbose=1)"
      ]
     },
     "execution_count": 165,
     "metadata": {},
     "output_type": "execute_result"
    }
   ],
   "source": [
    "model.fit(x_train, y_train)"
   ]
  },
  {
   "cell_type": "code",
   "execution_count": 166,
   "metadata": {},
   "outputs": [
    {
     "name": "stdout",
     "output_type": "stream",
     "text": [
      "최적파라미터:  {'max_depth': 4, 'n_estimators': 7}\n",
      "성능:  0.6149447763839644\n"
     ]
    }
   ],
   "source": [
    "# 최적파라미터, 성능 확인\n",
    "print('최적파라미터: ', model.best_params_)\n",
    "print('성능: ', model.best_score_)"
   ]
  },
  {
   "cell_type": "code",
   "execution_count": 167,
   "metadata": {
    "id": "lB6gCjZjkKB9"
   },
   "outputs": [],
   "source": [
    "y_pred = model.predict(x_test)"
   ]
  },
  {
   "cell_type": "code",
   "execution_count": 168,
   "metadata": {},
   "outputs": [
    {
     "name": "stdout",
     "output_type": "stream",
     "text": [
      "1.4902918804899223\n"
     ]
    }
   ],
   "source": [
    "result['Random Forest'] = mean_absolute_error(y_test,y_pred)\n",
    "print(mean_absolute_error(y_test, y_pred))"
   ]
  },
  {
   "cell_type": "code",
   "execution_count": 186,
   "metadata": {},
   "outputs": [
    {
     "name": "stdout",
     "output_type": "stream",
     "text": [
      "1.263837539220039\n"
     ]
    }
   ],
   "source": [
    "model = RandomForestRegressor(random_state=2022, max_depth=12,n_estimators=20 )\n",
    "model.fit(x_train, y_train)\n",
    "y_pred = model.predict(x_test)\n",
    "result['Random Forest'] = mean_absolute_error(y_test,y_pred)\n",
    "print(mean_absolute_error(y_test, y_pred))"
   ]
  },
  {
   "cell_type": "markdown",
   "metadata": {
    "id": "EuRaZc7OkRJN"
   },
   "source": [
    "#### (6) XGB 모델링"
   ]
  },
  {
   "cell_type": "code",
   "execution_count": 158,
   "metadata": {
    "id": "g6HxAbuqnnsO"
   },
   "outputs": [],
   "source": [
    "model_xgb = XGBRegressor(random_state=2022)\n",
    "\n",
    "param = {\n",
    "    'max_depth':range(1, 51),\n",
    "    'learning_rate':[1, 0.1, 0.01],\n",
    "}\n",
    "model = GridSearchCV(model_xgb,\n",
    "                    param,\n",
    "                    cv=5,\n",
    "                    scoring='r2')"
   ]
  },
  {
   "cell_type": "code",
   "execution_count": 159,
   "metadata": {
    "id": "eqVqwahhAfET"
   },
   "outputs": [
    {
     "data": {
      "text/plain": [
       "GridSearchCV(cv=5,\n",
       "             estimator=XGBRegressor(base_score=None, booster=None,\n",
       "                                    colsample_bylevel=None,\n",
       "                                    colsample_bynode=None,\n",
       "                                    colsample_bytree=None,\n",
       "                                    enable_categorical=False,\n",
       "                                    eval_metric='mlogloss', gamma=None,\n",
       "                                    gpu_id=None, importance_type=None,\n",
       "                                    interaction_constraints=None,\n",
       "                                    learning_rate=None, max_delta_step=None,\n",
       "                                    max_depth=None, min_child_weight=None,\n",
       "                                    missing=nan, monotone_constraints=None,\n",
       "                                    n_estimators=100, n_jobs=None,\n",
       "                                    num_parallel_tree=None, predictor=None,\n",
       "                                    random_state=2022, reg_alpha=None,\n",
       "                                    reg_lambda=None, scale_pos_weight=None,\n",
       "                                    subsample=None, tree_method=None,\n",
       "                                    validate_parameters=None, verbosity=None),\n",
       "             param_grid={'learning_rate': [1, 0.1, 0.01],\n",
       "                         'max_depth': range(1, 51)},\n",
       "             scoring='r2')"
      ]
     },
     "execution_count": 159,
     "metadata": {},
     "output_type": "execute_result"
    }
   ],
   "source": [
    "model.fit(x_train, y_train)"
   ]
  },
  {
   "cell_type": "code",
   "execution_count": 161,
   "metadata": {
    "id": "yh-2Fmud9RMa"
   },
   "outputs": [
    {
     "name": "stdout",
     "output_type": "stream",
     "text": [
      "최적파라미터:  {'learning_rate': 0.1, 'max_depth': 2}\n",
      "성능:  0.7917543653095533\n"
     ]
    }
   ],
   "source": [
    "# 최적파라미터, 성능 확인\n",
    "print('최적파라미터: ', model.best_params_)\n",
    "print('성능: ', model.best_score_)"
   ]
  },
  {
   "cell_type": "code",
   "execution_count": 162,
   "metadata": {},
   "outputs": [],
   "source": [
    "y_pred = model.predict(x_test)"
   ]
  },
  {
   "cell_type": "code",
   "execution_count": 163,
   "metadata": {},
   "outputs": [
    {
     "name": "stdout",
     "output_type": "stream",
     "text": [
      "1.1665624388058982\n"
     ]
    }
   ],
   "source": [
    "result['XGB'] = mean_absolute_error(y_test,y_pred)\n",
    "print(mean_absolute_error(y_test, y_pred))"
   ]
  },
  {
   "cell_type": "code",
   "execution_count": 201,
   "metadata": {},
   "outputs": [
    {
     "name": "stdout",
     "output_type": "stream",
     "text": [
      "1.093070149789254\n"
     ]
    }
   ],
   "source": [
    "model = XGBRegressor(random_state=2022,learning_rate=0.7, max_depth=1 )\n",
    "model.fit(x_train, y_train)\n",
    "y_pred = model.predict(x_test)\n",
    "result['XGB'] = mean_absolute_error(y_test,y_pred)\n",
    "print(mean_absolute_error(y_test, y_pred))"
   ]
  },
  {
   "cell_type": "markdown",
   "metadata": {
    "id": "IRsH_UjrXNiW"
   },
   "source": [
    "## 4.모델링2 : 딥러닝"
   ]
  },
  {
   "cell_type": "markdown",
   "metadata": {
    "id": "b9kRyQ6K6CIW"
   },
   "source": [
    "### 4.1 모델링을 위한 함수 불러오기"
   ]
  },
  {
   "cell_type": "code",
   "execution_count": 215,
   "metadata": {
    "id": "_BDNB7hM9_hz"
   },
   "outputs": [],
   "source": [
    "import tensorflow as tf\n",
    "from tensorflow import keras"
   ]
  },
  {
   "cell_type": "markdown",
   "metadata": {
    "id": "QEe9g-0DXNia"
   },
   "source": [
    "### 4.2 모델 설계\n",
    "* 다양한 구조의 모델 3개 이상을 설계\n",
    "- 스케일링(정규화) 필요"
   ]
  },
  {
   "cell_type": "code",
   "execution_count": 213,
   "metadata": {},
   "outputs": [
    {
     "data": {
      "text/plain": [
       "((240, 19), (240,))"
      ]
     },
     "execution_count": 213,
     "metadata": {},
     "output_type": "execute_result"
    }
   ],
   "source": [
    "x_train_sc.shape, y_train_sc.shape"
   ]
  },
  {
   "cell_type": "markdown",
   "metadata": {
    "id": "yAaMF07mHz_q"
   },
   "source": [
    "* 모델1 "
   ]
  },
  {
   "cell_type": "code",
   "execution_count": 251,
   "metadata": {
    "id": "i-boLYXkXdpj"
   },
   "outputs": [
    {
     "name": "stdout",
     "output_type": "stream",
     "text": [
      "Model: \"model\"\n",
      "_________________________________________________________________\n",
      " Layer (type)                Output Shape              Param #   \n",
      "=================================================================\n",
      " input_1 (InputLayer)        [(None, 19)]              0         \n",
      "                                                                 \n",
      " dense (Dense)               (None, 128)               2560      \n",
      "                                                                 \n",
      " dense_1 (Dense)             (None, 64)                8256      \n",
      "                                                                 \n",
      " dense_2 (Dense)             (None, 32)                2080      \n",
      "                                                                 \n",
      " dense_3 (Dense)             (None, 1)                 33        \n",
      "                                                                 \n",
      "=================================================================\n",
      "Total params: 12,929\n",
      "Trainable params: 12,929\n",
      "Non-trainable params: 0\n",
      "_________________________________________________________________\n"
     ]
    }
   ],
   "source": [
    "# Funtional API\n",
    "\n",
    "keras.backend.clear_session()\n",
    "\n",
    "il = keras.layers.Input(shape=(19,))\n",
    "hl = keras.layers.Dense(128, activation='relu')(il)\n",
    "hl = keras.layers.Dense(64, activation='relu')(hl)\n",
    "hl = keras.layers.Dense(32, activation='relu')(hl)\n",
    "ol = keras.layers.Dense(1)(hl)\n",
    "\n",
    "DL_1 = keras.models.Model(il,ol)\n",
    "\n",
    "DL_1.compile(loss='mae', optimizer='adam')\n",
    "DL_1.summary()"
   ]
  },
  {
   "cell_type": "code",
   "execution_count": null,
   "metadata": {},
   "outputs": [],
   "source": [
    "from tensorflow.keras.utils import plot_model\n",
    "plot_model(model, show_shapes=True)"
   ]
  },
  {
   "cell_type": "markdown",
   "metadata": {
    "id": "gU1_UtFlH3sY"
   },
   "source": [
    "* 모델2"
   ]
  },
  {
   "cell_type": "code",
   "execution_count": 231,
   "metadata": {
    "id": "bjcO9q9mH3sY"
   },
   "outputs": [
    {
     "name": "stdout",
     "output_type": "stream",
     "text": [
      "Model: \"sequential\"\n",
      "_________________________________________________________________\n",
      " Layer (type)                Output Shape              Param #   \n",
      "=================================================================\n",
      " dense (Dense)               (None, 256)               5120      \n",
      "                                                                 \n",
      " dense_1 (Dense)             (None, 128)               32896     \n",
      "                                                                 \n",
      " dense_2 (Dense)             (None, 64)                8256      \n",
      "                                                                 \n",
      " dense_3 (Dense)             (None, 1)                 65        \n",
      "                                                                 \n",
      "=================================================================\n",
      "Total params: 46,337\n",
      "Trainable params: 46,337\n",
      "Non-trainable params: 0\n",
      "_________________________________________________________________\n"
     ]
    }
   ],
   "source": [
    "# Sequential API\n",
    "\n",
    "keras.backend.clear_session()\n",
    "\n",
    "DL_2 = keras.models.Sequential()\n",
    "\n",
    "DL_2.add(keras.layers.Input(shape=(19,)))\n",
    "DL_2.add(keras.layers.Dense(256, activation = 'relu'))\n",
    "DL_2.add(keras.layers.Dense(128, activation = 'relu'))\n",
    "DL_2.add(keras.layers.Dense(64, activation = 'relu'))\n",
    "DL_2.add(keras.layers.Dense(1))\n",
    "\n",
    "DL_2.compile(loss='mae', optimizer = 'adam')\n",
    "\n",
    "DL_2.summary()"
   ]
  },
  {
   "cell_type": "markdown",
   "metadata": {
    "id": "iXOlv7oSKLlt"
   },
   "source": [
    "* 모델3"
   ]
  },
  {
   "cell_type": "code",
   "execution_count": 258,
   "metadata": {
    "id": "rlTLt04PKLlz"
   },
   "outputs": [
    {
     "name": "stdout",
     "output_type": "stream",
     "text": [
      "Model: \"sequential\"\n",
      "_________________________________________________________________\n",
      " Layer (type)                Output Shape              Param #   \n",
      "=================================================================\n",
      " dense (Dense)               (None, 1)                 20        \n",
      "                                                                 \n",
      "=================================================================\n",
      "Total params: 20\n",
      "Trainable params: 20\n",
      "Non-trainable params: 0\n",
      "_________________________________________________________________\n"
     ]
    }
   ],
   "source": [
    "# Sequential API\n",
    "\n",
    "keras.backend.clear_session()\n",
    "\n",
    "DL_3 = keras.models.Sequential()\n",
    "\n",
    "DL_3.add(keras.layers.Input(shape=(19,)))\n",
    "DL_3.add(keras.layers.Dense(1))\n",
    "\n",
    "DL_3.compile(loss='mae', optimizer = 'adam')\n",
    "\n",
    "DL_3.summary()"
   ]
  },
  {
   "cell_type": "markdown",
   "metadata": {
    "id": "cDWdsBV_XgM3"
   },
   "source": [
    "### 4.3 학습 및 최적화\n",
    "* 다양한 학습조건으로 모델링 수행후 성능을 비교해 봅시다.\n"
   ]
  },
  {
   "cell_type": "code",
   "execution_count": 217,
   "metadata": {
    "id": "aa-dyU-WXgM3"
   },
   "outputs": [],
   "source": [
    "from tensorflow.keras.callbacks import EarlyStopping"
   ]
  },
  {
   "cell_type": "code",
   "execution_count": 218,
   "metadata": {
    "id": "AM6SUa42XqIV"
   },
   "outputs": [],
   "source": [
    "es = EarlyStopping(monitor='val_loss', min_delta=0, patience=5, verbose=1,restore_best_weights=True)"
   ]
  },
  {
   "cell_type": "markdown",
   "metadata": {},
   "source": [
    "- 모델 1"
   ]
  },
  {
   "cell_type": "code",
   "execution_count": 252,
   "metadata": {
    "collapsed": true,
    "id": "cLJB_a8iXqFW",
    "jupyter": {
     "outputs_hidden": true
    }
   },
   "outputs": [
    {
     "name": "stdout",
     "output_type": "stream",
     "text": [
      "Epoch 1/1000\n",
      "12/12 [==============================] - 0s 16ms/step - loss: 6.9237 - val_loss: 6.0838\n",
      "Epoch 2/1000\n",
      "12/12 [==============================] - 0s 3ms/step - loss: 5.3834 - val_loss: 3.9568\n",
      "Epoch 3/1000\n",
      "12/12 [==============================] - 0s 4ms/step - loss: 2.8535 - val_loss: 2.1703\n",
      "Epoch 4/1000\n",
      "12/12 [==============================] - 0s 4ms/step - loss: 2.5038 - val_loss: 2.0078\n",
      "Epoch 5/1000\n",
      "12/12 [==============================] - 0s 4ms/step - loss: 2.1066 - val_loss: 1.9387\n",
      "Epoch 6/1000\n",
      "12/12 [==============================] - 0s 3ms/step - loss: 1.9596 - val_loss: 1.8367\n",
      "Epoch 7/1000\n",
      "12/12 [==============================] - 0s 4ms/step - loss: 1.8082 - val_loss: 1.7764\n",
      "Epoch 8/1000\n",
      "12/12 [==============================] - 0s 3ms/step - loss: 1.7137 - val_loss: 1.7313\n",
      "Epoch 9/1000\n",
      "12/12 [==============================] - 0s 4ms/step - loss: 1.6373 - val_loss: 1.6188\n",
      "Epoch 10/1000\n",
      "12/12 [==============================] - 0s 4ms/step - loss: 1.5011 - val_loss: 1.5441\n",
      "Epoch 11/1000\n",
      "12/12 [==============================] - 0s 4ms/step - loss: 1.4029 - val_loss: 1.4814\n",
      "Epoch 12/1000\n",
      "12/12 [==============================] - 0s 4ms/step - loss: 1.3180 - val_loss: 1.4183\n",
      "Epoch 13/1000\n",
      "12/12 [==============================] - 0s 4ms/step - loss: 1.1617 - val_loss: 1.3100\n",
      "Epoch 14/1000\n",
      "12/12 [==============================] - 0s 4ms/step - loss: 1.0275 - val_loss: 1.2443\n",
      "Epoch 15/1000\n",
      "12/12 [==============================] - 0s 4ms/step - loss: 0.9412 - val_loss: 1.1933\n",
      "Epoch 16/1000\n",
      "12/12 [==============================] - 0s 4ms/step - loss: 0.8733 - val_loss: 1.1315\n",
      "Epoch 17/1000\n",
      "12/12 [==============================] - 0s 4ms/step - loss: 0.8419 - val_loss: 1.0560\n",
      "Epoch 18/1000\n",
      "12/12 [==============================] - 0s 4ms/step - loss: 0.8103 - val_loss: 1.0571\n",
      "Epoch 19/1000\n",
      "12/12 [==============================] - 0s 4ms/step - loss: 0.8350 - val_loss: 1.0500\n",
      "Epoch 20/1000\n",
      "12/12 [==============================] - 0s 4ms/step - loss: 0.7942 - val_loss: 1.0294\n",
      "Epoch 21/1000\n",
      "12/12 [==============================] - 0s 4ms/step - loss: 0.7945 - val_loss: 1.0260\n",
      "Epoch 22/1000\n",
      "12/12 [==============================] - 0s 3ms/step - loss: 0.7607 - val_loss: 1.0465\n",
      "Epoch 23/1000\n",
      "12/12 [==============================] - 0s 4ms/step - loss: 0.7946 - val_loss: 1.0149\n",
      "Epoch 24/1000\n",
      "12/12 [==============================] - 0s 4ms/step - loss: 0.7429 - val_loss: 1.0533\n",
      "Epoch 25/1000\n",
      "12/12 [==============================] - 0s 4ms/step - loss: 0.7056 - val_loss: 1.0402\n",
      "Epoch 26/1000\n",
      "12/12 [==============================] - 0s 4ms/step - loss: 0.7054 - val_loss: 1.0411\n",
      "Epoch 27/1000\n",
      "12/12 [==============================] - 0s 4ms/step - loss: 0.6862 - val_loss: 1.0268\n",
      "Epoch 28/1000\n",
      "12/12 [==============================] - 0s 4ms/step - loss: 0.6827 - val_loss: 1.0066\n",
      "Epoch 29/1000\n",
      "12/12 [==============================] - 0s 4ms/step - loss: 0.6663 - val_loss: 1.0201\n",
      "Epoch 30/1000\n",
      "12/12 [==============================] - 0s 4ms/step - loss: 0.6918 - val_loss: 1.0765\n",
      "Epoch 31/1000\n",
      "12/12 [==============================] - 0s 3ms/step - loss: 0.6748 - val_loss: 1.0404\n",
      "Epoch 32/1000\n",
      "12/12 [==============================] - 0s 4ms/step - loss: 0.6749 - val_loss: 1.0335\n",
      "Epoch 33/1000\n",
      "12/12 [==============================] - 0s 3ms/step - loss: 0.6338 - val_loss: 0.9872\n",
      "Epoch 34/1000\n",
      "12/12 [==============================] - 0s 4ms/step - loss: 0.6242 - val_loss: 1.0229\n",
      "Epoch 35/1000\n",
      "12/12 [==============================] - 0s 4ms/step - loss: 0.6207 - val_loss: 1.0088\n",
      "Epoch 36/1000\n",
      "12/12 [==============================] - 0s 3ms/step - loss: 0.6170 - val_loss: 0.9919\n",
      "Epoch 37/1000\n",
      "12/12 [==============================] - 0s 4ms/step - loss: 0.6239 - val_loss: 1.0377\n",
      "Epoch 38/1000\n",
      " 1/12 [=>............................] - ETA: 0s - loss: 0.8126Restoring model weights from the end of the best epoch: 33.\n",
      "12/12 [==============================] - 0s 4ms/step - loss: 0.6450 - val_loss: 1.0180\n",
      "Epoch 38: early stopping\n"
     ]
    }
   ],
   "source": [
    "hist1 = DL_1.fit(x_train_sc, y_train, epochs=1000, verbose=1, callbacks=[es],\n",
    "        validation_split=0.2, batch_size=16)"
   ]
  },
  {
   "cell_type": "code",
   "execution_count": 254,
   "metadata": {},
   "outputs": [
    {
     "name": "stdout",
     "output_type": "stream",
     "text": [
      "0.9981297098000845\n"
     ]
    }
   ],
   "source": [
    "y_pred= DL_1.predict(x_test_sc)\n",
    "result['DL_1']=mean_absolute_error(y_test, y_pred)\n",
    "print(mean_absolute_error(y_test, y_pred))"
   ]
  },
  {
   "cell_type": "markdown",
   "metadata": {},
   "source": [
    "- 모델 2"
   ]
  },
  {
   "cell_type": "code",
   "execution_count": 232,
   "metadata": {
    "collapsed": true,
    "jupyter": {
     "outputs_hidden": true
    }
   },
   "outputs": [
    {
     "name": "stdout",
     "output_type": "stream",
     "text": [
      "Epoch 1/1000\n",
      "12/12 [==============================] - 0s 13ms/step - loss: 6.8930 - val_loss: 5.2226\n",
      "Epoch 2/1000\n",
      "12/12 [==============================] - 0s 4ms/step - loss: 3.5272 - val_loss: 2.3112\n",
      "Epoch 3/1000\n",
      "12/12 [==============================] - 0s 4ms/step - loss: 2.4327 - val_loss: 1.9085\n",
      "Epoch 4/1000\n",
      "12/12 [==============================] - 0s 4ms/step - loss: 1.9761 - val_loss: 1.7658\n",
      "Epoch 5/1000\n",
      "12/12 [==============================] - 0s 4ms/step - loss: 1.8131 - val_loss: 1.7259\n",
      "Epoch 6/1000\n",
      "12/12 [==============================] - 0s 4ms/step - loss: 1.6595 - val_loss: 1.6343\n",
      "Epoch 7/1000\n",
      "12/12 [==============================] - 0s 4ms/step - loss: 1.4186 - val_loss: 1.5502\n",
      "Epoch 8/1000\n",
      "12/12 [==============================] - 0s 4ms/step - loss: 1.3391 - val_loss: 1.4935\n",
      "Epoch 9/1000\n",
      "12/12 [==============================] - 0s 4ms/step - loss: 1.1516 - val_loss: 1.3054\n",
      "Epoch 10/1000\n",
      "12/12 [==============================] - 0s 4ms/step - loss: 0.9992 - val_loss: 1.2539\n",
      "Epoch 11/1000\n",
      "12/12 [==============================] - 0s 5ms/step - loss: 0.9636 - val_loss: 1.0927\n",
      "Epoch 12/1000\n",
      "12/12 [==============================] - 0s 4ms/step - loss: 0.8919 - val_loss: 1.0405\n",
      "Epoch 13/1000\n",
      "12/12 [==============================] - 0s 4ms/step - loss: 0.8027 - val_loss: 0.9944\n",
      "Epoch 14/1000\n",
      "12/12 [==============================] - 0s 4ms/step - loss: 0.7539 - val_loss: 0.9957\n",
      "Epoch 15/1000\n",
      "12/12 [==============================] - 0s 4ms/step - loss: 0.7998 - val_loss: 0.9922\n",
      "Epoch 16/1000\n",
      "12/12 [==============================] - 0s 4ms/step - loss: 0.7110 - val_loss: 0.9963\n",
      "Epoch 17/1000\n",
      "12/12 [==============================] - 0s 4ms/step - loss: 0.7298 - val_loss: 1.0547\n",
      "Epoch 18/1000\n",
      "12/12 [==============================] - 0s 4ms/step - loss: 0.7370 - val_loss: 0.9917\n",
      "Epoch 19/1000\n",
      "12/12 [==============================] - 0s 4ms/step - loss: 0.6753 - val_loss: 1.0239\n",
      "Epoch 20/1000\n",
      "12/12 [==============================] - 0s 4ms/step - loss: 0.6781 - val_loss: 1.0005\n",
      "Epoch 21/1000\n",
      "12/12 [==============================] - 0s 4ms/step - loss: 0.6501 - val_loss: 1.0099\n",
      "Epoch 22/1000\n",
      "12/12 [==============================] - 0s 4ms/step - loss: 0.6237 - val_loss: 1.0325\n",
      "Epoch 23/1000\n",
      " 1/12 [=>............................] - ETA: 0s - loss: 0.4566Restoring model weights from the end of the best epoch: 18.\n",
      "12/12 [==============================] - 0s 5ms/step - loss: 0.6160 - val_loss: 1.0165\n",
      "Epoch 23: early stopping\n"
     ]
    }
   ],
   "source": [
    "hist2 = DL_2.fit(x_train_sc, y_train, epochs=1000, verbose=1, callbacks=[es],\n",
    "        validation_split=0.2, batch_size=16)"
   ]
  },
  {
   "cell_type": "code",
   "execution_count": 255,
   "metadata": {},
   "outputs": [
    {
     "name": "stdout",
     "output_type": "stream",
     "text": [
      "1.0075419675509134\n"
     ]
    }
   ],
   "source": [
    "y_pred= DL_2.predict(x_test_sc)\n",
    "result['DL_2']=mean_absolute_error(y_test, y_pred)\n",
    "print(mean_absolute_error(y_test, y_pred))"
   ]
  },
  {
   "cell_type": "markdown",
   "metadata": {},
   "source": [
    "- 모델 3"
   ]
  },
  {
   "cell_type": "code",
   "execution_count": 259,
   "metadata": {
    "collapsed": true,
    "jupyter": {
     "outputs_hidden": true
    }
   },
   "outputs": [
    {
     "name": "stdout",
     "output_type": "stream",
     "text": [
      "Epoch 1/1000\n",
      "12/12 [==============================] - 0s 11ms/step - loss: 7.6300 - val_loss: 7.3058\n",
      "Epoch 2/1000\n",
      "12/12 [==============================] - 0s 3ms/step - loss: 7.5469 - val_loss: 7.2292\n",
      "Epoch 3/1000\n",
      "12/12 [==============================] - 0s 3ms/step - loss: 7.4648 - val_loss: 7.1520\n",
      "Epoch 4/1000\n",
      "12/12 [==============================] - 0s 3ms/step - loss: 7.3813 - val_loss: 7.0756\n",
      "Epoch 5/1000\n",
      "12/12 [==============================] - 0s 3ms/step - loss: 7.2986 - val_loss: 6.9988\n",
      "Epoch 6/1000\n",
      "12/12 [==============================] - 0s 3ms/step - loss: 7.2160 - val_loss: 6.9216\n",
      "Epoch 7/1000\n",
      "12/12 [==============================] - 0s 4ms/step - loss: 7.1330 - val_loss: 6.8445\n",
      "Epoch 8/1000\n",
      "12/12 [==============================] - 0s 4ms/step - loss: 7.0495 - val_loss: 6.7679\n",
      "Epoch 9/1000\n",
      "12/12 [==============================] - 0s 4ms/step - loss: 6.9666 - val_loss: 6.6910\n",
      "Epoch 10/1000\n",
      "12/12 [==============================] - 0s 4ms/step - loss: 6.8835 - val_loss: 6.6141\n",
      "Epoch 11/1000\n",
      "12/12 [==============================] - 0s 3ms/step - loss: 6.8005 - val_loss: 6.5372\n",
      "Epoch 12/1000\n",
      "12/12 [==============================] - 0s 4ms/step - loss: 6.7181 - val_loss: 6.4597\n",
      "Epoch 13/1000\n",
      "12/12 [==============================] - 0s 4ms/step - loss: 6.6344 - val_loss: 6.3830\n",
      "Epoch 14/1000\n",
      "12/12 [==============================] - 0s 4ms/step - loss: 6.5516 - val_loss: 6.3060\n",
      "Epoch 15/1000\n",
      "12/12 [==============================] - 0s 3ms/step - loss: 6.4684 - val_loss: 6.2291\n",
      "Epoch 16/1000\n",
      "12/12 [==============================] - 0s 3ms/step - loss: 6.3855 - val_loss: 6.1521\n",
      "Epoch 17/1000\n",
      "12/12 [==============================] - 0s 3ms/step - loss: 6.3028 - val_loss: 6.0753\n",
      "Epoch 18/1000\n",
      "12/12 [==============================] - 0s 3ms/step - loss: 6.2212 - val_loss: 5.9989\n",
      "Epoch 19/1000\n",
      "12/12 [==============================] - 0s 3ms/step - loss: 6.1397 - val_loss: 5.9225\n",
      "Epoch 20/1000\n",
      "12/12 [==============================] - 0s 3ms/step - loss: 6.0583 - val_loss: 5.8463\n",
      "Epoch 21/1000\n",
      "12/12 [==============================] - 0s 4ms/step - loss: 5.9775 - val_loss: 5.7703\n",
      "Epoch 22/1000\n",
      "12/12 [==============================] - 0s 3ms/step - loss: 5.8972 - val_loss: 5.6942\n",
      "Epoch 23/1000\n",
      "12/12 [==============================] - 0s 3ms/step - loss: 5.8167 - val_loss: 5.6181\n",
      "Epoch 24/1000\n",
      "12/12 [==============================] - 0s 3ms/step - loss: 5.7356 - val_loss: 5.5428\n",
      "Epoch 25/1000\n",
      "12/12 [==============================] - 0s 4ms/step - loss: 5.6570 - val_loss: 5.4669\n",
      "Epoch 26/1000\n",
      "12/12 [==============================] - 0s 3ms/step - loss: 5.5771 - val_loss: 5.3920\n",
      "Epoch 27/1000\n",
      "12/12 [==============================] - 0s 4ms/step - loss: 5.4996 - val_loss: 5.3156\n",
      "Epoch 28/1000\n",
      "12/12 [==============================] - 0s 3ms/step - loss: 5.4191 - val_loss: 5.2410\n",
      "Epoch 29/1000\n",
      "12/12 [==============================] - 0s 3ms/step - loss: 5.3409 - val_loss: 5.1659\n",
      "Epoch 30/1000\n",
      "12/12 [==============================] - 0s 3ms/step - loss: 5.2638 - val_loss: 5.0914\n",
      "Epoch 31/1000\n",
      "12/12 [==============================] - 0s 4ms/step - loss: 5.1878 - val_loss: 5.0168\n",
      "Epoch 32/1000\n",
      "12/12 [==============================] - 0s 3ms/step - loss: 5.1123 - val_loss: 4.9428\n",
      "Epoch 33/1000\n",
      "12/12 [==============================] - 0s 3ms/step - loss: 5.0361 - val_loss: 4.8709\n",
      "Epoch 34/1000\n",
      "12/12 [==============================] - 0s 3ms/step - loss: 4.9638 - val_loss: 4.7969\n",
      "Epoch 35/1000\n",
      "12/12 [==============================] - 0s 3ms/step - loss: 4.8898 - val_loss: 4.7252\n",
      "Epoch 36/1000\n",
      "12/12 [==============================] - 0s 3ms/step - loss: 4.8196 - val_loss: 4.6546\n",
      "Epoch 37/1000\n",
      "12/12 [==============================] - 0s 3ms/step - loss: 4.7506 - val_loss: 4.5832\n",
      "Epoch 38/1000\n",
      "12/12 [==============================] - 0s 3ms/step - loss: 4.6828 - val_loss: 4.5130\n",
      "Epoch 39/1000\n",
      "12/12 [==============================] - 0s 3ms/step - loss: 4.6160 - val_loss: 4.4433\n",
      "Epoch 40/1000\n",
      "12/12 [==============================] - 0s 3ms/step - loss: 4.5495 - val_loss: 4.3767\n",
      "Epoch 41/1000\n",
      "12/12 [==============================] - 0s 3ms/step - loss: 4.4841 - val_loss: 4.3100\n",
      "Epoch 42/1000\n",
      "12/12 [==============================] - 0s 3ms/step - loss: 4.4192 - val_loss: 4.2428\n",
      "Epoch 43/1000\n",
      "12/12 [==============================] - 0s 3ms/step - loss: 4.3535 - val_loss: 4.1761\n",
      "Epoch 44/1000\n",
      "12/12 [==============================] - 0s 3ms/step - loss: 4.2883 - val_loss: 4.1087\n",
      "Epoch 45/1000\n",
      "12/12 [==============================] - 0s 3ms/step - loss: 4.2218 - val_loss: 4.0422\n",
      "Epoch 46/1000\n",
      "12/12 [==============================] - 0s 3ms/step - loss: 4.1570 - val_loss: 3.9741\n",
      "Epoch 47/1000\n",
      "12/12 [==============================] - 0s 3ms/step - loss: 4.0904 - val_loss: 3.9068\n",
      "Epoch 48/1000\n",
      "12/12 [==============================] - 0s 3ms/step - loss: 4.0237 - val_loss: 3.8402\n",
      "Epoch 49/1000\n",
      "12/12 [==============================] - 0s 3ms/step - loss: 3.9577 - val_loss: 3.7731\n",
      "Epoch 50/1000\n",
      "12/12 [==============================] - 0s 3ms/step - loss: 3.8923 - val_loss: 3.7058\n",
      "Epoch 51/1000\n",
      "12/12 [==============================] - 0s 3ms/step - loss: 3.8289 - val_loss: 3.6380\n",
      "Epoch 52/1000\n",
      "12/12 [==============================] - 0s 3ms/step - loss: 3.7668 - val_loss: 3.5744\n",
      "Epoch 53/1000\n",
      "12/12 [==============================] - 0s 3ms/step - loss: 3.7113 - val_loss: 3.5121\n",
      "Epoch 54/1000\n",
      "12/12 [==============================] - 0s 3ms/step - loss: 3.6584 - val_loss: 3.4506\n",
      "Epoch 55/1000\n",
      "12/12 [==============================] - 0s 3ms/step - loss: 3.6049 - val_loss: 3.3927\n",
      "Epoch 56/1000\n",
      "12/12 [==============================] - 0s 3ms/step - loss: 3.5540 - val_loss: 3.3374\n",
      "Epoch 57/1000\n",
      "12/12 [==============================] - 0s 3ms/step - loss: 3.5022 - val_loss: 3.2844\n",
      "Epoch 58/1000\n",
      "12/12 [==============================] - 0s 3ms/step - loss: 3.4543 - val_loss: 3.2300\n",
      "Epoch 59/1000\n",
      "12/12 [==============================] - 0s 4ms/step - loss: 3.4077 - val_loss: 3.1761\n",
      "Epoch 60/1000\n",
      "12/12 [==============================] - 0s 3ms/step - loss: 3.3621 - val_loss: 3.1240\n",
      "Epoch 61/1000\n",
      "12/12 [==============================] - 0s 3ms/step - loss: 3.3168 - val_loss: 3.0751\n",
      "Epoch 62/1000\n",
      "12/12 [==============================] - 0s 3ms/step - loss: 3.2766 - val_loss: 3.0247\n",
      "Epoch 63/1000\n",
      "12/12 [==============================] - 0s 4ms/step - loss: 3.2360 - val_loss: 2.9790\n",
      "Epoch 64/1000\n",
      "12/12 [==============================] - 0s 3ms/step - loss: 3.1979 - val_loss: 2.9325\n",
      "Epoch 65/1000\n",
      "12/12 [==============================] - 0s 3ms/step - loss: 3.1577 - val_loss: 2.8904\n",
      "Epoch 66/1000\n",
      "12/12 [==============================] - 0s 3ms/step - loss: 3.1201 - val_loss: 2.8508\n",
      "Epoch 67/1000\n",
      "12/12 [==============================] - 0s 3ms/step - loss: 3.0835 - val_loss: 2.8106\n",
      "Epoch 68/1000\n",
      "12/12 [==============================] - 0s 3ms/step - loss: 3.0456 - val_loss: 2.7743\n",
      "Epoch 69/1000\n",
      "12/12 [==============================] - 0s 3ms/step - loss: 3.0108 - val_loss: 2.7390\n",
      "Epoch 70/1000\n",
      "12/12 [==============================] - 0s 3ms/step - loss: 2.9753 - val_loss: 2.7041\n",
      "Epoch 71/1000\n",
      "12/12 [==============================] - 0s 4ms/step - loss: 2.9418 - val_loss: 2.6736\n",
      "Epoch 72/1000\n",
      "12/12 [==============================] - 0s 4ms/step - loss: 2.9075 - val_loss: 2.6456\n",
      "Epoch 73/1000\n",
      "12/12 [==============================] - 0s 3ms/step - loss: 2.8767 - val_loss: 2.6166\n",
      "Epoch 74/1000\n",
      "12/12 [==============================] - 0s 4ms/step - loss: 2.8449 - val_loss: 2.5903\n",
      "Epoch 75/1000\n",
      "12/12 [==============================] - 0s 4ms/step - loss: 2.8158 - val_loss: 2.5659\n",
      "Epoch 76/1000\n",
      "12/12 [==============================] - 0s 3ms/step - loss: 2.7902 - val_loss: 2.5418\n",
      "Epoch 77/1000\n",
      "12/12 [==============================] - 0s 4ms/step - loss: 2.7646 - val_loss: 2.5192\n",
      "Epoch 78/1000\n",
      "12/12 [==============================] - 0s 3ms/step - loss: 2.7415 - val_loss: 2.4982\n",
      "Epoch 79/1000\n",
      "12/12 [==============================] - 0s 4ms/step - loss: 2.7172 - val_loss: 2.4787\n",
      "Epoch 80/1000\n",
      "12/12 [==============================] - 0s 4ms/step - loss: 2.6966 - val_loss: 2.4581\n",
      "Epoch 81/1000\n",
      "12/12 [==============================] - 0s 3ms/step - loss: 2.6734 - val_loss: 2.4403\n",
      "Epoch 82/1000\n",
      "12/12 [==============================] - 0s 3ms/step - loss: 2.6556 - val_loss: 2.4219\n",
      "Epoch 83/1000\n",
      "12/12 [==============================] - 0s 3ms/step - loss: 2.6382 - val_loss: 2.4032\n",
      "Epoch 84/1000\n",
      "12/12 [==============================] - 0s 3ms/step - loss: 2.6189 - val_loss: 2.3867\n",
      "Epoch 85/1000\n",
      "12/12 [==============================] - 0s 3ms/step - loss: 2.6026 - val_loss: 2.3707\n",
      "Epoch 86/1000\n",
      "12/12 [==============================] - 0s 3ms/step - loss: 2.5868 - val_loss: 2.3547\n",
      "Epoch 87/1000\n",
      "12/12 [==============================] - 0s 3ms/step - loss: 2.5724 - val_loss: 2.3369\n",
      "Epoch 88/1000\n",
      "12/12 [==============================] - 0s 3ms/step - loss: 2.5558 - val_loss: 2.3220\n",
      "Epoch 89/1000\n",
      "12/12 [==============================] - 0s 3ms/step - loss: 2.5436 - val_loss: 2.3072\n",
      "Epoch 90/1000\n",
      "12/12 [==============================] - 0s 4ms/step - loss: 2.5321 - val_loss: 2.2921\n",
      "Epoch 91/1000\n",
      "12/12 [==============================] - 0s 3ms/step - loss: 2.5193 - val_loss: 2.2782\n",
      "Epoch 92/1000\n",
      "12/12 [==============================] - 0s 3ms/step - loss: 2.5075 - val_loss: 2.2652\n",
      "Epoch 93/1000\n",
      "12/12 [==============================] - 0s 3ms/step - loss: 2.4970 - val_loss: 2.2515\n",
      "Epoch 94/1000\n",
      "12/12 [==============================] - 0s 3ms/step - loss: 2.4850 - val_loss: 2.2418\n",
      "Epoch 95/1000\n",
      "12/12 [==============================] - 0s 3ms/step - loss: 2.4741 - val_loss: 2.2323\n",
      "Epoch 96/1000\n",
      "12/12 [==============================] - 0s 3ms/step - loss: 2.4634 - val_loss: 2.2228\n",
      "Epoch 97/1000\n",
      "12/12 [==============================] - 0s 3ms/step - loss: 2.4527 - val_loss: 2.2136\n",
      "Epoch 98/1000\n",
      "12/12 [==============================] - 0s 3ms/step - loss: 2.4421 - val_loss: 2.2052\n",
      "Epoch 99/1000\n",
      "12/12 [==============================] - 0s 3ms/step - loss: 2.4320 - val_loss: 2.1967\n",
      "Epoch 100/1000\n",
      "12/12 [==============================] - 0s 3ms/step - loss: 2.4213 - val_loss: 2.1898\n",
      "Epoch 101/1000\n",
      "12/12 [==============================] - 0s 4ms/step - loss: 2.4111 - val_loss: 2.1830\n",
      "Epoch 102/1000\n",
      "12/12 [==============================] - 0s 3ms/step - loss: 2.4007 - val_loss: 2.1776\n",
      "Epoch 103/1000\n",
      "12/12 [==============================] - 0s 3ms/step - loss: 2.3917 - val_loss: 2.1714\n",
      "Epoch 104/1000\n",
      "12/12 [==============================] - 0s 3ms/step - loss: 2.3834 - val_loss: 2.1646\n",
      "Epoch 105/1000\n",
      "12/12 [==============================] - 0s 3ms/step - loss: 2.3735 - val_loss: 2.1587\n",
      "Epoch 106/1000\n",
      "12/12 [==============================] - 0s 3ms/step - loss: 2.3642 - val_loss: 2.1532\n",
      "Epoch 107/1000\n",
      "12/12 [==============================] - 0s 3ms/step - loss: 2.3573 - val_loss: 2.1473\n",
      "Epoch 108/1000\n",
      "12/12 [==============================] - 0s 3ms/step - loss: 2.3497 - val_loss: 2.1420\n",
      "Epoch 109/1000\n",
      "12/12 [==============================] - 0s 3ms/step - loss: 2.3428 - val_loss: 2.1368\n",
      "Epoch 110/1000\n",
      "12/12 [==============================] - 0s 3ms/step - loss: 2.3367 - val_loss: 2.1318\n",
      "Epoch 111/1000\n",
      "12/12 [==============================] - 0s 3ms/step - loss: 2.3295 - val_loss: 2.1275\n",
      "Epoch 112/1000\n",
      "12/12 [==============================] - 0s 3ms/step - loss: 2.3234 - val_loss: 2.1233\n",
      "Epoch 113/1000\n",
      "12/12 [==============================] - 0s 3ms/step - loss: 2.3164 - val_loss: 2.1199\n",
      "Epoch 114/1000\n",
      "12/12 [==============================] - 0s 3ms/step - loss: 2.3106 - val_loss: 2.1162\n",
      "Epoch 115/1000\n",
      "12/12 [==============================] - 0s 3ms/step - loss: 2.3052 - val_loss: 2.1120\n",
      "Epoch 116/1000\n",
      "12/12 [==============================] - 0s 3ms/step - loss: 2.2992 - val_loss: 2.1090\n",
      "Epoch 117/1000\n",
      "12/12 [==============================] - 0s 4ms/step - loss: 2.2939 - val_loss: 2.1060\n",
      "Epoch 118/1000\n",
      "12/12 [==============================] - 0s 3ms/step - loss: 2.2883 - val_loss: 2.1035\n",
      "Epoch 119/1000\n",
      "12/12 [==============================] - 0s 3ms/step - loss: 2.2834 - val_loss: 2.1011\n",
      "Epoch 120/1000\n",
      "12/12 [==============================] - 0s 3ms/step - loss: 2.2788 - val_loss: 2.0984\n",
      "Epoch 121/1000\n",
      "12/12 [==============================] - 0s 3ms/step - loss: 2.2741 - val_loss: 2.0955\n",
      "Epoch 122/1000\n",
      "12/12 [==============================] - 0s 3ms/step - loss: 2.2690 - val_loss: 2.0926\n",
      "Epoch 123/1000\n",
      "12/12 [==============================] - 0s 3ms/step - loss: 2.2645 - val_loss: 2.0895\n",
      "Epoch 124/1000\n",
      "12/12 [==============================] - 0s 3ms/step - loss: 2.2589 - val_loss: 2.0870\n",
      "Epoch 125/1000\n",
      "12/12 [==============================] - 0s 3ms/step - loss: 2.2543 - val_loss: 2.0847\n",
      "Epoch 126/1000\n",
      "12/12 [==============================] - 0s 3ms/step - loss: 2.2490 - val_loss: 2.0826\n",
      "Epoch 127/1000\n",
      "12/12 [==============================] - 0s 3ms/step - loss: 2.2444 - val_loss: 2.0802\n",
      "Epoch 128/1000\n",
      "12/12 [==============================] - 0s 3ms/step - loss: 2.2397 - val_loss: 2.0780\n",
      "Epoch 129/1000\n",
      "12/12 [==============================] - 0s 3ms/step - loss: 2.2351 - val_loss: 2.0757\n",
      "Epoch 130/1000\n",
      "12/12 [==============================] - 0s 3ms/step - loss: 2.2303 - val_loss: 2.0735\n",
      "Epoch 131/1000\n",
      "12/12 [==============================] - 0s 3ms/step - loss: 2.2257 - val_loss: 2.0717\n",
      "Epoch 132/1000\n",
      "12/12 [==============================] - 0s 3ms/step - loss: 2.2209 - val_loss: 2.0701\n",
      "Epoch 133/1000\n",
      "12/12 [==============================] - 0s 3ms/step - loss: 2.2165 - val_loss: 2.0684\n",
      "Epoch 134/1000\n",
      "12/12 [==============================] - 0s 3ms/step - loss: 2.2123 - val_loss: 2.0666\n",
      "Epoch 135/1000\n",
      "12/12 [==============================] - 0s 3ms/step - loss: 2.2078 - val_loss: 2.0652\n",
      "Epoch 136/1000\n",
      "12/12 [==============================] - 0s 3ms/step - loss: 2.2039 - val_loss: 2.0638\n",
      "Epoch 137/1000\n",
      "12/12 [==============================] - 0s 3ms/step - loss: 2.1996 - val_loss: 2.0623\n",
      "Epoch 138/1000\n",
      "12/12 [==============================] - 0s 4ms/step - loss: 2.1955 - val_loss: 2.0605\n",
      "Epoch 139/1000\n",
      "12/12 [==============================] - 0s 3ms/step - loss: 2.1912 - val_loss: 2.0590\n",
      "Epoch 140/1000\n",
      "12/12 [==============================] - 0s 3ms/step - loss: 2.1873 - val_loss: 2.0576\n",
      "Epoch 141/1000\n",
      "12/12 [==============================] - 0s 3ms/step - loss: 2.1833 - val_loss: 2.0561\n",
      "Epoch 142/1000\n",
      "12/12 [==============================] - 0s 3ms/step - loss: 2.1795 - val_loss: 2.0545\n",
      "Epoch 143/1000\n",
      "12/12 [==============================] - 0s 3ms/step - loss: 2.1760 - val_loss: 2.0528\n",
      "Epoch 144/1000\n",
      "12/12 [==============================] - 0s 3ms/step - loss: 2.1724 - val_loss: 2.0511\n",
      "Epoch 145/1000\n",
      "12/12 [==============================] - 0s 3ms/step - loss: 2.1683 - val_loss: 2.0495\n",
      "Epoch 146/1000\n",
      "12/12 [==============================] - 0s 3ms/step - loss: 2.1649 - val_loss: 2.0483\n",
      "Epoch 147/1000\n",
      "12/12 [==============================] - 0s 3ms/step - loss: 2.1615 - val_loss: 2.0465\n",
      "Epoch 148/1000\n",
      "12/12 [==============================] - 0s 3ms/step - loss: 2.1576 - val_loss: 2.0450\n",
      "Epoch 149/1000\n",
      "12/12 [==============================] - 0s 3ms/step - loss: 2.1542 - val_loss: 2.0436\n",
      "Epoch 150/1000\n",
      "12/12 [==============================] - 0s 3ms/step - loss: 2.1510 - val_loss: 2.0424\n",
      "Epoch 151/1000\n",
      "12/12 [==============================] - 0s 3ms/step - loss: 2.1473 - val_loss: 2.0410\n",
      "Epoch 152/1000\n",
      "12/12 [==============================] - 0s 3ms/step - loss: 2.1438 - val_loss: 2.0393\n",
      "Epoch 153/1000\n",
      "12/12 [==============================] - 0s 3ms/step - loss: 2.1405 - val_loss: 2.0379\n",
      "Epoch 154/1000\n",
      "12/12 [==============================] - 0s 3ms/step - loss: 2.1368 - val_loss: 2.0365\n",
      "Epoch 155/1000\n",
      "12/12 [==============================] - 0s 3ms/step - loss: 2.1337 - val_loss: 2.0349\n",
      "Epoch 156/1000\n",
      "12/12 [==============================] - 0s 3ms/step - loss: 2.1303 - val_loss: 2.0335\n",
      "Epoch 157/1000\n",
      "12/12 [==============================] - 0s 3ms/step - loss: 2.1271 - val_loss: 2.0320\n",
      "Epoch 158/1000\n",
      "12/12 [==============================] - 0s 3ms/step - loss: 2.1235 - val_loss: 2.0307\n",
      "Epoch 159/1000\n",
      "12/12 [==============================] - 0s 3ms/step - loss: 2.1215 - val_loss: 2.0287\n",
      "Epoch 160/1000\n",
      "12/12 [==============================] - 0s 3ms/step - loss: 2.1167 - val_loss: 2.0275\n",
      "Epoch 161/1000\n",
      "12/12 [==============================] - 0s 3ms/step - loss: 2.1137 - val_loss: 2.0260\n",
      "Epoch 162/1000\n",
      "12/12 [==============================] - 0s 3ms/step - loss: 2.1103 - val_loss: 2.0249\n",
      "Epoch 163/1000\n",
      "12/12 [==============================] - 0s 3ms/step - loss: 2.1071 - val_loss: 2.0236\n",
      "Epoch 164/1000\n",
      "12/12 [==============================] - 0s 3ms/step - loss: 2.1043 - val_loss: 2.0222\n",
      "Epoch 165/1000\n",
      "12/12 [==============================] - 0s 3ms/step - loss: 2.1017 - val_loss: 2.0209\n",
      "Epoch 166/1000\n",
      "12/12 [==============================] - 0s 3ms/step - loss: 2.0986 - val_loss: 2.0197\n",
      "Epoch 167/1000\n",
      "12/12 [==============================] - 0s 3ms/step - loss: 2.0958 - val_loss: 2.0185\n",
      "Epoch 168/1000\n",
      "12/12 [==============================] - 0s 3ms/step - loss: 2.0932 - val_loss: 2.0173\n",
      "Epoch 169/1000\n",
      "12/12 [==============================] - 0s 3ms/step - loss: 2.0906 - val_loss: 2.0159\n",
      "Epoch 170/1000\n",
      "12/12 [==============================] - 0s 3ms/step - loss: 2.0879 - val_loss: 2.0148\n",
      "Epoch 171/1000\n",
      "12/12 [==============================] - 0s 3ms/step - loss: 2.0852 - val_loss: 2.0134\n",
      "Epoch 172/1000\n",
      "12/12 [==============================] - 0s 3ms/step - loss: 2.0826 - val_loss: 2.0122\n",
      "Epoch 173/1000\n",
      "12/12 [==============================] - 0s 3ms/step - loss: 2.0799 - val_loss: 2.0110\n",
      "Epoch 174/1000\n",
      "12/12 [==============================] - 0s 3ms/step - loss: 2.0773 - val_loss: 2.0098\n",
      "Epoch 175/1000\n",
      "12/12 [==============================] - 0s 3ms/step - loss: 2.0745 - val_loss: 2.0084\n",
      "Epoch 176/1000\n",
      "12/12 [==============================] - 0s 3ms/step - loss: 2.0717 - val_loss: 2.0070\n",
      "Epoch 177/1000\n",
      "12/12 [==============================] - 0s 3ms/step - loss: 2.0694 - val_loss: 2.0056\n",
      "Epoch 178/1000\n",
      "12/12 [==============================] - 0s 3ms/step - loss: 2.0666 - val_loss: 2.0045\n",
      "Epoch 179/1000\n",
      "12/12 [==============================] - 0s 3ms/step - loss: 2.0639 - val_loss: 2.0031\n",
      "Epoch 180/1000\n",
      "12/12 [==============================] - 0s 3ms/step - loss: 2.0610 - val_loss: 2.0020\n",
      "Epoch 181/1000\n",
      "12/12 [==============================] - 0s 3ms/step - loss: 2.0584 - val_loss: 2.0005\n",
      "Epoch 182/1000\n",
      "12/12 [==============================] - 0s 3ms/step - loss: 2.0559 - val_loss: 1.9994\n",
      "Epoch 183/1000\n",
      "12/12 [==============================] - 0s 3ms/step - loss: 2.0530 - val_loss: 1.9980\n",
      "Epoch 184/1000\n",
      "12/12 [==============================] - 0s 3ms/step - loss: 2.0501 - val_loss: 1.9967\n",
      "Epoch 185/1000\n",
      "12/12 [==============================] - 0s 3ms/step - loss: 2.0475 - val_loss: 1.9954\n",
      "Epoch 186/1000\n",
      "12/12 [==============================] - 0s 3ms/step - loss: 2.0449 - val_loss: 1.9941\n",
      "Epoch 187/1000\n",
      "12/12 [==============================] - 0s 3ms/step - loss: 2.0422 - val_loss: 1.9928\n",
      "Epoch 188/1000\n",
      "12/12 [==============================] - 0s 3ms/step - loss: 2.0394 - val_loss: 1.9915\n",
      "Epoch 189/1000\n",
      "12/12 [==============================] - 0s 3ms/step - loss: 2.0369 - val_loss: 1.9903\n",
      "Epoch 190/1000\n",
      "12/12 [==============================] - 0s 4ms/step - loss: 2.0340 - val_loss: 1.9890\n",
      "Epoch 191/1000\n",
      "12/12 [==============================] - 0s 3ms/step - loss: 2.0314 - val_loss: 1.9877\n",
      "Epoch 192/1000\n",
      "12/12 [==============================] - 0s 3ms/step - loss: 2.0287 - val_loss: 1.9866\n",
      "Epoch 193/1000\n",
      "12/12 [==============================] - 0s 3ms/step - loss: 2.0260 - val_loss: 1.9851\n",
      "Epoch 194/1000\n",
      "12/12 [==============================] - 0s 4ms/step - loss: 2.0236 - val_loss: 1.9838\n",
      "Epoch 195/1000\n",
      "12/12 [==============================] - 0s 3ms/step - loss: 2.0209 - val_loss: 1.9819\n",
      "Epoch 196/1000\n",
      "12/12 [==============================] - 0s 3ms/step - loss: 2.0179 - val_loss: 1.9804\n",
      "Epoch 197/1000\n",
      "12/12 [==============================] - 0s 3ms/step - loss: 2.0153 - val_loss: 1.9790\n",
      "Epoch 198/1000\n",
      "12/12 [==============================] - 0s 3ms/step - loss: 2.0128 - val_loss: 1.9772\n",
      "Epoch 199/1000\n",
      "12/12 [==============================] - 0s 3ms/step - loss: 2.0103 - val_loss: 1.9759\n",
      "Epoch 200/1000\n",
      "12/12 [==============================] - 0s 3ms/step - loss: 2.0078 - val_loss: 1.9744\n",
      "Epoch 201/1000\n",
      "12/12 [==============================] - 0s 3ms/step - loss: 2.0051 - val_loss: 1.9728\n",
      "Epoch 202/1000\n",
      "12/12 [==============================] - 0s 3ms/step - loss: 2.0027 - val_loss: 1.9713\n",
      "Epoch 203/1000\n",
      "12/12 [==============================] - 0s 3ms/step - loss: 2.0001 - val_loss: 1.9696\n",
      "Epoch 204/1000\n",
      "12/12 [==============================] - 0s 3ms/step - loss: 1.9974 - val_loss: 1.9687\n",
      "Epoch 205/1000\n",
      "12/12 [==============================] - 0s 3ms/step - loss: 1.9949 - val_loss: 1.9675\n",
      "Epoch 206/1000\n",
      "12/12 [==============================] - 0s 3ms/step - loss: 1.9925 - val_loss: 1.9658\n",
      "Epoch 207/1000\n",
      "12/12 [==============================] - 0s 3ms/step - loss: 1.9899 - val_loss: 1.9648\n",
      "Epoch 208/1000\n",
      "12/12 [==============================] - 0s 3ms/step - loss: 1.9877 - val_loss: 1.9631\n",
      "Epoch 209/1000\n",
      "12/12 [==============================] - 0s 3ms/step - loss: 1.9849 - val_loss: 1.9622\n",
      "Epoch 210/1000\n",
      "12/12 [==============================] - 0s 3ms/step - loss: 1.9824 - val_loss: 1.9608\n",
      "Epoch 211/1000\n",
      "12/12 [==============================] - 0s 4ms/step - loss: 1.9800 - val_loss: 1.9596\n",
      "Epoch 212/1000\n",
      "12/12 [==============================] - 0s 3ms/step - loss: 1.9772 - val_loss: 1.9582\n",
      "Epoch 213/1000\n",
      "12/12 [==============================] - 0s 3ms/step - loss: 1.9749 - val_loss: 1.9567\n",
      "Epoch 214/1000\n",
      "12/12 [==============================] - 0s 3ms/step - loss: 1.9725 - val_loss: 1.9552\n",
      "Epoch 215/1000\n",
      "12/12 [==============================] - 0s 3ms/step - loss: 1.9698 - val_loss: 1.9543\n",
      "Epoch 216/1000\n",
      "12/12 [==============================] - 0s 3ms/step - loss: 1.9672 - val_loss: 1.9530\n",
      "Epoch 217/1000\n",
      "12/12 [==============================] - 0s 3ms/step - loss: 1.9647 - val_loss: 1.9514\n",
      "Epoch 218/1000\n",
      "12/12 [==============================] - 0s 3ms/step - loss: 1.9620 - val_loss: 1.9499\n",
      "Epoch 219/1000\n",
      "12/12 [==============================] - 0s 3ms/step - loss: 1.9596 - val_loss: 1.9487\n",
      "Epoch 220/1000\n",
      "12/12 [==============================] - 0s 3ms/step - loss: 1.9570 - val_loss: 1.9472\n",
      "Epoch 221/1000\n",
      "12/12 [==============================] - 0s 4ms/step - loss: 1.9547 - val_loss: 1.9462\n",
      "Epoch 222/1000\n",
      "12/12 [==============================] - 0s 3ms/step - loss: 1.9522 - val_loss: 1.9445\n",
      "Epoch 223/1000\n",
      "12/12 [==============================] - 0s 3ms/step - loss: 1.9498 - val_loss: 1.9426\n",
      "Epoch 224/1000\n",
      "12/12 [==============================] - 0s 3ms/step - loss: 1.9476 - val_loss: 1.9416\n",
      "Epoch 225/1000\n",
      "12/12 [==============================] - 0s 3ms/step - loss: 1.9453 - val_loss: 1.9400\n",
      "Epoch 226/1000\n",
      "12/12 [==============================] - 0s 3ms/step - loss: 1.9426 - val_loss: 1.9387\n",
      "Epoch 227/1000\n",
      "12/12 [==============================] - 0s 3ms/step - loss: 1.9398 - val_loss: 1.9374\n",
      "Epoch 228/1000\n",
      "12/12 [==============================] - 0s 3ms/step - loss: 1.9377 - val_loss: 1.9366\n",
      "Epoch 229/1000\n",
      "12/12 [==============================] - 0s 3ms/step - loss: 1.9353 - val_loss: 1.9348\n",
      "Epoch 230/1000\n",
      "12/12 [==============================] - 0s 4ms/step - loss: 1.9328 - val_loss: 1.9332\n",
      "Epoch 231/1000\n",
      "12/12 [==============================] - 0s 3ms/step - loss: 1.9303 - val_loss: 1.9321\n",
      "Epoch 232/1000\n",
      "12/12 [==============================] - 0s 3ms/step - loss: 1.9279 - val_loss: 1.9308\n",
      "Epoch 233/1000\n",
      "12/12 [==============================] - 0s 3ms/step - loss: 1.9257 - val_loss: 1.9295\n",
      "Epoch 234/1000\n",
      "12/12 [==============================] - 0s 3ms/step - loss: 1.9234 - val_loss: 1.9285\n",
      "Epoch 235/1000\n",
      "12/12 [==============================] - 0s 3ms/step - loss: 1.9209 - val_loss: 1.9274\n",
      "Epoch 236/1000\n",
      "12/12 [==============================] - 0s 3ms/step - loss: 1.9193 - val_loss: 1.9256\n",
      "Epoch 237/1000\n",
      "12/12 [==============================] - 0s 3ms/step - loss: 1.9165 - val_loss: 1.9248\n",
      "Epoch 238/1000\n",
      "12/12 [==============================] - 0s 3ms/step - loss: 1.9140 - val_loss: 1.9236\n",
      "Epoch 239/1000\n",
      "12/12 [==============================] - 0s 3ms/step - loss: 1.9116 - val_loss: 1.9222\n",
      "Epoch 240/1000\n",
      "12/12 [==============================] - 0s 3ms/step - loss: 1.9093 - val_loss: 1.9211\n",
      "Epoch 241/1000\n",
      "12/12 [==============================] - 0s 3ms/step - loss: 1.9070 - val_loss: 1.9199\n",
      "Epoch 242/1000\n",
      "12/12 [==============================] - 0s 3ms/step - loss: 1.9046 - val_loss: 1.9189\n",
      "Epoch 243/1000\n",
      "12/12 [==============================] - 0s 3ms/step - loss: 1.9023 - val_loss: 1.9175\n",
      "Epoch 244/1000\n",
      "12/12 [==============================] - 0s 3ms/step - loss: 1.9000 - val_loss: 1.9162\n",
      "Epoch 245/1000\n",
      "12/12 [==============================] - 0s 3ms/step - loss: 1.8977 - val_loss: 1.9149\n",
      "Epoch 246/1000\n",
      "12/12 [==============================] - 0s 3ms/step - loss: 1.8953 - val_loss: 1.9142\n",
      "Epoch 247/1000\n",
      "12/12 [==============================] - 0s 3ms/step - loss: 1.8930 - val_loss: 1.9129\n",
      "Epoch 248/1000\n",
      "12/12 [==============================] - 0s 3ms/step - loss: 1.8905 - val_loss: 1.9111\n",
      "Epoch 249/1000\n",
      "12/12 [==============================] - 0s 3ms/step - loss: 1.8881 - val_loss: 1.9103\n",
      "Epoch 250/1000\n",
      "12/12 [==============================] - 0s 3ms/step - loss: 1.8861 - val_loss: 1.9095\n",
      "Epoch 251/1000\n",
      "12/12 [==============================] - 0s 3ms/step - loss: 1.8834 - val_loss: 1.9081\n",
      "Epoch 252/1000\n",
      "12/12 [==============================] - 0s 3ms/step - loss: 1.8810 - val_loss: 1.9067\n",
      "Epoch 253/1000\n",
      "12/12 [==============================] - 0s 3ms/step - loss: 1.8788 - val_loss: 1.9051\n",
      "Epoch 254/1000\n",
      "12/12 [==============================] - 0s 3ms/step - loss: 1.8765 - val_loss: 1.9043\n",
      "Epoch 255/1000\n",
      "12/12 [==============================] - 0s 3ms/step - loss: 1.8740 - val_loss: 1.9028\n",
      "Epoch 256/1000\n",
      "12/12 [==============================] - 0s 3ms/step - loss: 1.8726 - val_loss: 1.9024\n",
      "Epoch 257/1000\n",
      "12/12 [==============================] - 0s 3ms/step - loss: 1.8693 - val_loss: 1.9008\n",
      "Epoch 258/1000\n",
      "12/12 [==============================] - 0s 3ms/step - loss: 1.8674 - val_loss: 1.8996\n",
      "Epoch 259/1000\n",
      "12/12 [==============================] - 0s 3ms/step - loss: 1.8653 - val_loss: 1.8983\n",
      "Epoch 260/1000\n",
      "12/12 [==============================] - 0s 3ms/step - loss: 1.8629 - val_loss: 1.8969\n",
      "Epoch 261/1000\n",
      "12/12 [==============================] - 0s 3ms/step - loss: 1.8607 - val_loss: 1.8958\n",
      "Epoch 262/1000\n",
      "12/12 [==============================] - 0s 3ms/step - loss: 1.8587 - val_loss: 1.8947\n",
      "Epoch 263/1000\n",
      "12/12 [==============================] - 0s 3ms/step - loss: 1.8563 - val_loss: 1.8937\n",
      "Epoch 264/1000\n",
      "12/12 [==============================] - 0s 3ms/step - loss: 1.8541 - val_loss: 1.8930\n",
      "Epoch 265/1000\n",
      "12/12 [==============================] - 0s 3ms/step - loss: 1.8519 - val_loss: 1.8915\n",
      "Epoch 266/1000\n",
      "12/12 [==============================] - 0s 3ms/step - loss: 1.8499 - val_loss: 1.8902\n",
      "Epoch 267/1000\n",
      "12/12 [==============================] - 0s 3ms/step - loss: 1.8480 - val_loss: 1.8885\n",
      "Epoch 268/1000\n",
      "12/12 [==============================] - 0s 3ms/step - loss: 1.8455 - val_loss: 1.8880\n",
      "Epoch 269/1000\n",
      "12/12 [==============================] - 0s 3ms/step - loss: 1.8432 - val_loss: 1.8869\n",
      "Epoch 270/1000\n",
      "12/12 [==============================] - 0s 3ms/step - loss: 1.8410 - val_loss: 1.8854\n",
      "Epoch 271/1000\n",
      "12/12 [==============================] - 0s 3ms/step - loss: 1.8392 - val_loss: 1.8841\n",
      "Epoch 272/1000\n",
      "12/12 [==============================] - 0s 3ms/step - loss: 1.8369 - val_loss: 1.8822\n",
      "Epoch 273/1000\n",
      "12/12 [==============================] - 0s 3ms/step - loss: 1.8347 - val_loss: 1.8806\n",
      "Epoch 274/1000\n",
      "12/12 [==============================] - 0s 3ms/step - loss: 1.8325 - val_loss: 1.8796\n",
      "Epoch 275/1000\n",
      "12/12 [==============================] - 0s 3ms/step - loss: 1.8303 - val_loss: 1.8780\n",
      "Epoch 276/1000\n",
      "12/12 [==============================] - 0s 3ms/step - loss: 1.8283 - val_loss: 1.8764\n",
      "Epoch 277/1000\n",
      "12/12 [==============================] - 0s 3ms/step - loss: 1.8261 - val_loss: 1.8757\n",
      "Epoch 278/1000\n",
      "12/12 [==============================] - 0s 3ms/step - loss: 1.8239 - val_loss: 1.8739\n",
      "Epoch 279/1000\n",
      "12/12 [==============================] - 0s 3ms/step - loss: 1.8219 - val_loss: 1.8727\n",
      "Epoch 280/1000\n",
      "12/12 [==============================] - 0s 3ms/step - loss: 1.8197 - val_loss: 1.8715\n",
      "Epoch 281/1000\n",
      "12/12 [==============================] - 0s 3ms/step - loss: 1.8174 - val_loss: 1.8696\n",
      "Epoch 282/1000\n",
      "12/12 [==============================] - 0s 3ms/step - loss: 1.8152 - val_loss: 1.8681\n",
      "Epoch 283/1000\n",
      "12/12 [==============================] - 0s 4ms/step - loss: 1.8136 - val_loss: 1.8661\n",
      "Epoch 284/1000\n",
      "12/12 [==============================] - 0s 3ms/step - loss: 1.8111 - val_loss: 1.8651\n",
      "Epoch 285/1000\n",
      "12/12 [==============================] - 0s 3ms/step - loss: 1.8089 - val_loss: 1.8633\n",
      "Epoch 286/1000\n",
      "12/12 [==============================] - 0s 3ms/step - loss: 1.8070 - val_loss: 1.8614\n",
      "Epoch 287/1000\n",
      "12/12 [==============================] - 0s 3ms/step - loss: 1.8047 - val_loss: 1.8605\n",
      "Epoch 288/1000\n",
      "12/12 [==============================] - 0s 3ms/step - loss: 1.8022 - val_loss: 1.8588\n",
      "Epoch 289/1000\n",
      "12/12 [==============================] - 0s 3ms/step - loss: 1.8000 - val_loss: 1.8573\n",
      "Epoch 290/1000\n",
      "12/12 [==============================] - 0s 3ms/step - loss: 1.7979 - val_loss: 1.8558\n",
      "Epoch 291/1000\n",
      "12/12 [==============================] - 0s 3ms/step - loss: 1.7959 - val_loss: 1.8540\n",
      "Epoch 292/1000\n",
      "12/12 [==============================] - 0s 3ms/step - loss: 1.7937 - val_loss: 1.8523\n",
      "Epoch 293/1000\n",
      "12/12 [==============================] - 0s 3ms/step - loss: 1.7917 - val_loss: 1.8514\n",
      "Epoch 294/1000\n",
      "12/12 [==============================] - 0s 3ms/step - loss: 1.7894 - val_loss: 1.8494\n",
      "Epoch 295/1000\n",
      "12/12 [==============================] - 0s 3ms/step - loss: 1.7870 - val_loss: 1.8478\n",
      "Epoch 296/1000\n",
      "12/12 [==============================] - 0s 3ms/step - loss: 1.7849 - val_loss: 1.8463\n",
      "Epoch 297/1000\n",
      "12/12 [==============================] - 0s 3ms/step - loss: 1.7831 - val_loss: 1.8452\n",
      "Epoch 298/1000\n",
      "12/12 [==============================] - 0s 3ms/step - loss: 1.7806 - val_loss: 1.8434\n",
      "Epoch 299/1000\n",
      "12/12 [==============================] - 0s 3ms/step - loss: 1.7784 - val_loss: 1.8416\n",
      "Epoch 300/1000\n",
      "12/12 [==============================] - 0s 3ms/step - loss: 1.7767 - val_loss: 1.8406\n",
      "Epoch 301/1000\n",
      "12/12 [==============================] - 0s 4ms/step - loss: 1.7741 - val_loss: 1.8389\n",
      "Epoch 302/1000\n",
      "12/12 [==============================] - 0s 3ms/step - loss: 1.7721 - val_loss: 1.8382\n",
      "Epoch 303/1000\n",
      "12/12 [==============================] - 0s 3ms/step - loss: 1.7700 - val_loss: 1.8364\n",
      "Epoch 304/1000\n",
      "12/12 [==============================] - 0s 3ms/step - loss: 1.7678 - val_loss: 1.8349\n",
      "Epoch 305/1000\n",
      "12/12 [==============================] - 0s 3ms/step - loss: 1.7657 - val_loss: 1.8332\n",
      "Epoch 306/1000\n",
      "12/12 [==============================] - 0s 3ms/step - loss: 1.7638 - val_loss: 1.8321\n",
      "Epoch 307/1000\n",
      "12/12 [==============================] - 0s 3ms/step - loss: 1.7616 - val_loss: 1.8302\n",
      "Epoch 308/1000\n",
      "12/12 [==============================] - 0s 3ms/step - loss: 1.7598 - val_loss: 1.8284\n",
      "Epoch 309/1000\n",
      "12/12 [==============================] - 0s 3ms/step - loss: 1.7572 - val_loss: 1.8275\n",
      "Epoch 310/1000\n",
      "12/12 [==============================] - 0s 3ms/step - loss: 1.7553 - val_loss: 1.8261\n",
      "Epoch 311/1000\n",
      "12/12 [==============================] - 0s 3ms/step - loss: 1.7536 - val_loss: 1.8253\n",
      "Epoch 312/1000\n",
      "12/12 [==============================] - 0s 3ms/step - loss: 1.7511 - val_loss: 1.8236\n",
      "Epoch 313/1000\n",
      "12/12 [==============================] - 0s 3ms/step - loss: 1.7490 - val_loss: 1.8224\n",
      "Epoch 314/1000\n",
      "12/12 [==============================] - 0s 3ms/step - loss: 1.7469 - val_loss: 1.8213\n",
      "Epoch 315/1000\n",
      "12/12 [==============================] - 0s 3ms/step - loss: 1.7452 - val_loss: 1.8197\n",
      "Epoch 316/1000\n",
      "12/12 [==============================] - 0s 3ms/step - loss: 1.7429 - val_loss: 1.8192\n",
      "Epoch 317/1000\n",
      "12/12 [==============================] - 0s 3ms/step - loss: 1.7408 - val_loss: 1.8177\n",
      "Epoch 318/1000\n",
      "12/12 [==============================] - 0s 3ms/step - loss: 1.7389 - val_loss: 1.8169\n",
      "Epoch 319/1000\n",
      "12/12 [==============================] - 0s 3ms/step - loss: 1.7364 - val_loss: 1.8150\n",
      "Epoch 320/1000\n",
      "12/12 [==============================] - 0s 3ms/step - loss: 1.7344 - val_loss: 1.8138\n",
      "Epoch 321/1000\n",
      "12/12 [==============================] - 0s 3ms/step - loss: 1.7322 - val_loss: 1.8122\n",
      "Epoch 322/1000\n",
      "12/12 [==============================] - 0s 3ms/step - loss: 1.7302 - val_loss: 1.8109\n",
      "Epoch 323/1000\n",
      "12/12 [==============================] - 0s 3ms/step - loss: 1.7282 - val_loss: 1.8094\n",
      "Epoch 324/1000\n",
      "12/12 [==============================] - 0s 3ms/step - loss: 1.7260 - val_loss: 1.8086\n",
      "Epoch 325/1000\n",
      "12/12 [==============================] - 0s 3ms/step - loss: 1.7240 - val_loss: 1.8074\n",
      "Epoch 326/1000\n",
      "12/12 [==============================] - 0s 3ms/step - loss: 1.7217 - val_loss: 1.8061\n",
      "Epoch 327/1000\n",
      "12/12 [==============================] - 0s 3ms/step - loss: 1.7196 - val_loss: 1.8048\n",
      "Epoch 328/1000\n",
      "12/12 [==============================] - 0s 3ms/step - loss: 1.7174 - val_loss: 1.8035\n",
      "Epoch 329/1000\n",
      "12/12 [==============================] - 0s 3ms/step - loss: 1.7156 - val_loss: 1.8016\n",
      "Epoch 330/1000\n",
      "12/12 [==============================] - 0s 3ms/step - loss: 1.7134 - val_loss: 1.8012\n",
      "Epoch 331/1000\n",
      "12/12 [==============================] - 0s 3ms/step - loss: 1.7114 - val_loss: 1.7996\n",
      "Epoch 332/1000\n",
      "12/12 [==============================] - 0s 3ms/step - loss: 1.7094 - val_loss: 1.7993\n",
      "Epoch 333/1000\n",
      "12/12 [==============================] - 0s 3ms/step - loss: 1.7075 - val_loss: 1.7984\n",
      "Epoch 334/1000\n",
      "12/12 [==============================] - 0s 3ms/step - loss: 1.7054 - val_loss: 1.7967\n",
      "Epoch 335/1000\n",
      "12/12 [==============================] - 0s 3ms/step - loss: 1.7036 - val_loss: 1.7949\n",
      "Epoch 336/1000\n",
      "12/12 [==============================] - 0s 3ms/step - loss: 1.7016 - val_loss: 1.7946\n",
      "Epoch 337/1000\n",
      "12/12 [==============================] - 0s 3ms/step - loss: 1.6994 - val_loss: 1.7931\n",
      "Epoch 338/1000\n",
      "12/12 [==============================] - 0s 3ms/step - loss: 1.6974 - val_loss: 1.7916\n",
      "Epoch 339/1000\n",
      "12/12 [==============================] - 0s 3ms/step - loss: 1.6956 - val_loss: 1.7908\n",
      "Epoch 340/1000\n",
      "12/12 [==============================] - 0s 3ms/step - loss: 1.6934 - val_loss: 1.7898\n",
      "Epoch 341/1000\n",
      "12/12 [==============================] - 0s 3ms/step - loss: 1.6917 - val_loss: 1.7881\n",
      "Epoch 342/1000\n",
      "12/12 [==============================] - 0s 4ms/step - loss: 1.6898 - val_loss: 1.7877\n",
      "Epoch 343/1000\n",
      "12/12 [==============================] - 0s 3ms/step - loss: 1.6883 - val_loss: 1.7868\n",
      "Epoch 344/1000\n",
      "12/12 [==============================] - 0s 3ms/step - loss: 1.6861 - val_loss: 1.7855\n",
      "Epoch 345/1000\n",
      "12/12 [==============================] - 0s 3ms/step - loss: 1.6843 - val_loss: 1.7833\n",
      "Epoch 346/1000\n",
      "12/12 [==============================] - 0s 3ms/step - loss: 1.6827 - val_loss: 1.7824\n",
      "Epoch 347/1000\n",
      "12/12 [==============================] - 0s 3ms/step - loss: 1.6809 - val_loss: 1.7808\n",
      "Epoch 348/1000\n",
      "12/12 [==============================] - 0s 3ms/step - loss: 1.6790 - val_loss: 1.7808\n",
      "Epoch 349/1000\n",
      "12/12 [==============================] - 0s 3ms/step - loss: 1.6772 - val_loss: 1.7790\n",
      "Epoch 350/1000\n",
      "12/12 [==============================] - 0s 3ms/step - loss: 1.6752 - val_loss: 1.7777\n",
      "Epoch 351/1000\n",
      "12/12 [==============================] - 0s 3ms/step - loss: 1.6732 - val_loss: 1.7766\n",
      "Epoch 352/1000\n",
      "12/12 [==============================] - 0s 3ms/step - loss: 1.6715 - val_loss: 1.7754\n",
      "Epoch 353/1000\n",
      "12/12 [==============================] - 0s 4ms/step - loss: 1.6699 - val_loss: 1.7732\n",
      "Epoch 354/1000\n",
      "12/12 [==============================] - 0s 3ms/step - loss: 1.6677 - val_loss: 1.7727\n",
      "Epoch 355/1000\n",
      "12/12 [==============================] - 0s 3ms/step - loss: 1.6659 - val_loss: 1.7717\n",
      "Epoch 356/1000\n",
      "12/12 [==============================] - 0s 3ms/step - loss: 1.6640 - val_loss: 1.7700\n",
      "Epoch 357/1000\n",
      "12/12 [==============================] - 0s 3ms/step - loss: 1.6622 - val_loss: 1.7683\n",
      "Epoch 358/1000\n",
      "12/12 [==============================] - 0s 3ms/step - loss: 1.6604 - val_loss: 1.7676\n",
      "Epoch 359/1000\n",
      "12/12 [==============================] - 0s 3ms/step - loss: 1.6588 - val_loss: 1.7664\n",
      "Epoch 360/1000\n",
      "12/12 [==============================] - 0s 3ms/step - loss: 1.6570 - val_loss: 1.7642\n",
      "Epoch 361/1000\n",
      "12/12 [==============================] - 0s 3ms/step - loss: 1.6550 - val_loss: 1.7636\n",
      "Epoch 362/1000\n",
      "12/12 [==============================] - 0s 3ms/step - loss: 1.6532 - val_loss: 1.7614\n",
      "Epoch 363/1000\n",
      "12/12 [==============================] - 0s 3ms/step - loss: 1.6512 - val_loss: 1.7596\n",
      "Epoch 364/1000\n",
      "12/12 [==============================] - 0s 3ms/step - loss: 1.6494 - val_loss: 1.7587\n",
      "Epoch 365/1000\n",
      "12/12 [==============================] - 0s 3ms/step - loss: 1.6476 - val_loss: 1.7580\n",
      "Epoch 366/1000\n",
      "12/12 [==============================] - 0s 3ms/step - loss: 1.6457 - val_loss: 1.7568\n",
      "Epoch 367/1000\n",
      "12/12 [==============================] - 0s 3ms/step - loss: 1.6441 - val_loss: 1.7544\n",
      "Epoch 368/1000\n",
      "12/12 [==============================] - 0s 3ms/step - loss: 1.6421 - val_loss: 1.7534\n",
      "Epoch 369/1000\n",
      "12/12 [==============================] - 0s 3ms/step - loss: 1.6402 - val_loss: 1.7525\n",
      "Epoch 370/1000\n",
      "12/12 [==============================] - 0s 3ms/step - loss: 1.6386 - val_loss: 1.7513\n",
      "Epoch 371/1000\n",
      "12/12 [==============================] - 0s 3ms/step - loss: 1.6368 - val_loss: 1.7499\n",
      "Epoch 372/1000\n",
      "12/12 [==============================] - 0s 3ms/step - loss: 1.6353 - val_loss: 1.7476\n",
      "Epoch 373/1000\n",
      "12/12 [==============================] - 0s 3ms/step - loss: 1.6331 - val_loss: 1.7469\n",
      "Epoch 374/1000\n",
      "12/12 [==============================] - 0s 3ms/step - loss: 1.6312 - val_loss: 1.7458\n",
      "Epoch 375/1000\n",
      "12/12 [==============================] - 0s 3ms/step - loss: 1.6297 - val_loss: 1.7446\n",
      "Epoch 376/1000\n",
      "12/12 [==============================] - 0s 3ms/step - loss: 1.6278 - val_loss: 1.7432\n",
      "Epoch 377/1000\n",
      "12/12 [==============================] - 0s 3ms/step - loss: 1.6259 - val_loss: 1.7419\n",
      "Epoch 378/1000\n",
      "12/12 [==============================] - 0s 3ms/step - loss: 1.6243 - val_loss: 1.7412\n",
      "Epoch 379/1000\n",
      "12/12 [==============================] - 0s 4ms/step - loss: 1.6223 - val_loss: 1.7397\n",
      "Epoch 380/1000\n",
      "12/12 [==============================] - 0s 3ms/step - loss: 1.6207 - val_loss: 1.7383\n",
      "Epoch 381/1000\n",
      "12/12 [==============================] - 0s 3ms/step - loss: 1.6192 - val_loss: 1.7360\n",
      "Epoch 382/1000\n",
      "12/12 [==============================] - 0s 3ms/step - loss: 1.6169 - val_loss: 1.7350\n",
      "Epoch 383/1000\n",
      "12/12 [==============================] - 0s 3ms/step - loss: 1.6150 - val_loss: 1.7339\n",
      "Epoch 384/1000\n",
      "12/12 [==============================] - 0s 3ms/step - loss: 1.6133 - val_loss: 1.7325\n",
      "Epoch 385/1000\n",
      "12/12 [==============================] - 0s 3ms/step - loss: 1.6117 - val_loss: 1.7312\n",
      "Epoch 386/1000\n",
      "12/12 [==============================] - 0s 3ms/step - loss: 1.6098 - val_loss: 1.7301\n",
      "Epoch 387/1000\n",
      "12/12 [==============================] - 0s 3ms/step - loss: 1.6081 - val_loss: 1.7290\n",
      "Epoch 388/1000\n",
      "12/12 [==============================] - 0s 3ms/step - loss: 1.6065 - val_loss: 1.7270\n",
      "Epoch 389/1000\n",
      "12/12 [==============================] - 0s 3ms/step - loss: 1.6045 - val_loss: 1.7261\n",
      "Epoch 390/1000\n",
      "12/12 [==============================] - 0s 3ms/step - loss: 1.6025 - val_loss: 1.7250\n",
      "Epoch 391/1000\n",
      "12/12 [==============================] - 0s 3ms/step - loss: 1.6008 - val_loss: 1.7237\n",
      "Epoch 392/1000\n",
      "12/12 [==============================] - 0s 3ms/step - loss: 1.5989 - val_loss: 1.7230\n",
      "Epoch 393/1000\n",
      "12/12 [==============================] - 0s 3ms/step - loss: 1.5971 - val_loss: 1.7211\n",
      "Epoch 394/1000\n",
      "12/12 [==============================] - 0s 3ms/step - loss: 1.5957 - val_loss: 1.7202\n",
      "Epoch 395/1000\n",
      "12/12 [==============================] - 0s 3ms/step - loss: 1.5934 - val_loss: 1.7180\n",
      "Epoch 396/1000\n",
      "12/12 [==============================] - 0s 3ms/step - loss: 1.5919 - val_loss: 1.7162\n",
      "Epoch 397/1000\n",
      "12/12 [==============================] - 0s 3ms/step - loss: 1.5902 - val_loss: 1.7150\n",
      "Epoch 398/1000\n",
      "12/12 [==============================] - 0s 3ms/step - loss: 1.5883 - val_loss: 1.7135\n",
      "Epoch 399/1000\n",
      "12/12 [==============================] - 0s 3ms/step - loss: 1.5867 - val_loss: 1.7124\n",
      "Epoch 400/1000\n",
      "12/12 [==============================] - 0s 3ms/step - loss: 1.5849 - val_loss: 1.7106\n",
      "Epoch 401/1000\n",
      "12/12 [==============================] - 0s 3ms/step - loss: 1.5833 - val_loss: 1.7086\n",
      "Epoch 402/1000\n",
      "12/12 [==============================] - 0s 3ms/step - loss: 1.5814 - val_loss: 1.7075\n",
      "Epoch 403/1000\n",
      "12/12 [==============================] - 0s 3ms/step - loss: 1.5796 - val_loss: 1.7058\n",
      "Epoch 404/1000\n",
      "12/12 [==============================] - 0s 3ms/step - loss: 1.5779 - val_loss: 1.7043\n",
      "Epoch 405/1000\n",
      "12/12 [==============================] - 0s 3ms/step - loss: 1.5761 - val_loss: 1.7027\n",
      "Epoch 406/1000\n",
      "12/12 [==============================] - 0s 3ms/step - loss: 1.5745 - val_loss: 1.7016\n",
      "Epoch 407/1000\n",
      "12/12 [==============================] - 0s 3ms/step - loss: 1.5729 - val_loss: 1.7002\n",
      "Epoch 408/1000\n",
      "12/12 [==============================] - 0s 3ms/step - loss: 1.5709 - val_loss: 1.6983\n",
      "Epoch 409/1000\n",
      "12/12 [==============================] - 0s 3ms/step - loss: 1.5693 - val_loss: 1.6970\n",
      "Epoch 410/1000\n",
      "12/12 [==============================] - 0s 3ms/step - loss: 1.5674 - val_loss: 1.6958\n",
      "Epoch 411/1000\n",
      "12/12 [==============================] - 0s 3ms/step - loss: 1.5658 - val_loss: 1.6936\n",
      "Epoch 412/1000\n",
      "12/12 [==============================] - 0s 3ms/step - loss: 1.5638 - val_loss: 1.6921\n",
      "Epoch 413/1000\n",
      "12/12 [==============================] - 0s 3ms/step - loss: 1.5622 - val_loss: 1.6907\n",
      "Epoch 414/1000\n",
      "12/12 [==============================] - 0s 3ms/step - loss: 1.5605 - val_loss: 1.6897\n",
      "Epoch 415/1000\n",
      "12/12 [==============================] - 0s 3ms/step - loss: 1.5586 - val_loss: 1.6882\n",
      "Epoch 416/1000\n",
      "12/12 [==============================] - 0s 3ms/step - loss: 1.5571 - val_loss: 1.6855\n",
      "Epoch 417/1000\n",
      "12/12 [==============================] - 0s 3ms/step - loss: 1.5553 - val_loss: 1.6845\n",
      "Epoch 418/1000\n",
      "12/12 [==============================] - 0s 3ms/step - loss: 1.5535 - val_loss: 1.6832\n",
      "Epoch 419/1000\n",
      "12/12 [==============================] - 0s 3ms/step - loss: 1.5516 - val_loss: 1.6822\n",
      "Epoch 420/1000\n",
      "12/12 [==============================] - 0s 3ms/step - loss: 1.5499 - val_loss: 1.6804\n",
      "Epoch 421/1000\n",
      "12/12 [==============================] - 0s 3ms/step - loss: 1.5482 - val_loss: 1.6783\n",
      "Epoch 422/1000\n",
      "12/12 [==============================] - 0s 3ms/step - loss: 1.5463 - val_loss: 1.6767\n",
      "Epoch 423/1000\n",
      "12/12 [==============================] - 0s 3ms/step - loss: 1.5448 - val_loss: 1.6760\n",
      "Epoch 424/1000\n",
      "12/12 [==============================] - 0s 3ms/step - loss: 1.5427 - val_loss: 1.6743\n",
      "Epoch 425/1000\n",
      "12/12 [==============================] - 0s 3ms/step - loss: 1.5412 - val_loss: 1.6722\n",
      "Epoch 426/1000\n",
      "12/12 [==============================] - 0s 3ms/step - loss: 1.5401 - val_loss: 1.6700\n",
      "Epoch 427/1000\n",
      "12/12 [==============================] - 0s 3ms/step - loss: 1.5382 - val_loss: 1.6704\n",
      "Epoch 428/1000\n",
      "12/12 [==============================] - 0s 3ms/step - loss: 1.5358 - val_loss: 1.6682\n",
      "Epoch 429/1000\n",
      "12/12 [==============================] - 0s 3ms/step - loss: 1.5344 - val_loss: 1.6657\n",
      "Epoch 430/1000\n",
      "12/12 [==============================] - 0s 3ms/step - loss: 1.5319 - val_loss: 1.6650\n",
      "Epoch 431/1000\n",
      "12/12 [==============================] - 0s 3ms/step - loss: 1.5305 - val_loss: 1.6641\n",
      "Epoch 432/1000\n",
      "12/12 [==============================] - 0s 3ms/step - loss: 1.5287 - val_loss: 1.6616\n",
      "Epoch 433/1000\n",
      "12/12 [==============================] - 0s 3ms/step - loss: 1.5269 - val_loss: 1.6597\n",
      "Epoch 434/1000\n",
      "12/12 [==============================] - 0s 3ms/step - loss: 1.5256 - val_loss: 1.6589\n",
      "Epoch 435/1000\n",
      "12/12 [==============================] - 0s 3ms/step - loss: 1.5237 - val_loss: 1.6565\n",
      "Epoch 436/1000\n",
      "12/12 [==============================] - 0s 3ms/step - loss: 1.5219 - val_loss: 1.6546\n",
      "Epoch 437/1000\n",
      "12/12 [==============================] - 0s 3ms/step - loss: 1.5199 - val_loss: 1.6545\n",
      "Epoch 438/1000\n",
      "12/12 [==============================] - 0s 3ms/step - loss: 1.5183 - val_loss: 1.6534\n",
      "Epoch 439/1000\n",
      "12/12 [==============================] - 0s 3ms/step - loss: 1.5167 - val_loss: 1.6507\n",
      "Epoch 440/1000\n",
      "12/12 [==============================] - 0s 3ms/step - loss: 1.5146 - val_loss: 1.6491\n",
      "Epoch 441/1000\n",
      "12/12 [==============================] - 0s 3ms/step - loss: 1.5127 - val_loss: 1.6477\n",
      "Epoch 442/1000\n",
      "12/12 [==============================] - 0s 3ms/step - loss: 1.5115 - val_loss: 1.6454\n",
      "Epoch 443/1000\n",
      "12/12 [==============================] - 0s 3ms/step - loss: 1.5093 - val_loss: 1.6451\n",
      "Epoch 444/1000\n",
      "12/12 [==============================] - 0s 3ms/step - loss: 1.5076 - val_loss: 1.6437\n",
      "Epoch 445/1000\n",
      "12/12 [==============================] - 0s 3ms/step - loss: 1.5060 - val_loss: 1.6422\n",
      "Epoch 446/1000\n",
      "12/12 [==============================] - 0s 3ms/step - loss: 1.5042 - val_loss: 1.6399\n",
      "Epoch 447/1000\n",
      "12/12 [==============================] - 0s 3ms/step - loss: 1.5023 - val_loss: 1.6384\n",
      "Epoch 448/1000\n",
      "12/12 [==============================] - 0s 4ms/step - loss: 1.5015 - val_loss: 1.6362\n",
      "Epoch 449/1000\n",
      "12/12 [==============================] - 0s 3ms/step - loss: 1.4991 - val_loss: 1.6356\n",
      "Epoch 450/1000\n",
      "12/12 [==============================] - 0s 3ms/step - loss: 1.4971 - val_loss: 1.6340\n",
      "Epoch 451/1000\n",
      "12/12 [==============================] - 0s 3ms/step - loss: 1.4956 - val_loss: 1.6322\n",
      "Epoch 452/1000\n",
      "12/12 [==============================] - 0s 3ms/step - loss: 1.4936 - val_loss: 1.6310\n",
      "Epoch 453/1000\n",
      "12/12 [==============================] - 0s 3ms/step - loss: 1.4919 - val_loss: 1.6298\n",
      "Epoch 454/1000\n",
      "12/12 [==============================] - 0s 3ms/step - loss: 1.4902 - val_loss: 1.6288\n",
      "Epoch 455/1000\n",
      "12/12 [==============================] - 0s 3ms/step - loss: 1.4887 - val_loss: 1.6266\n",
      "Epoch 456/1000\n",
      "12/12 [==============================] - 0s 3ms/step - loss: 1.4867 - val_loss: 1.6251\n",
      "Epoch 457/1000\n",
      "12/12 [==============================] - 0s 3ms/step - loss: 1.4856 - val_loss: 1.6249\n",
      "Epoch 458/1000\n",
      "12/12 [==============================] - 0s 3ms/step - loss: 1.4837 - val_loss: 1.6212\n",
      "Epoch 459/1000\n",
      "12/12 [==============================] - 0s 3ms/step - loss: 1.4817 - val_loss: 1.6202\n",
      "Epoch 460/1000\n",
      "12/12 [==============================] - 0s 3ms/step - loss: 1.4798 - val_loss: 1.6197\n",
      "Epoch 461/1000\n",
      "12/12 [==============================] - 0s 3ms/step - loss: 1.4781 - val_loss: 1.6180\n",
      "Epoch 462/1000\n",
      "12/12 [==============================] - 0s 3ms/step - loss: 1.4762 - val_loss: 1.6166\n",
      "Epoch 463/1000\n",
      "12/12 [==============================] - 0s 3ms/step - loss: 1.4747 - val_loss: 1.6140\n",
      "Epoch 464/1000\n",
      "12/12 [==============================] - 0s 3ms/step - loss: 1.4729 - val_loss: 1.6135\n",
      "Epoch 465/1000\n",
      "12/12 [==============================] - 0s 3ms/step - loss: 1.4710 - val_loss: 1.6117\n",
      "Epoch 466/1000\n",
      "12/12 [==============================] - 0s 3ms/step - loss: 1.4696 - val_loss: 1.6113\n",
      "Epoch 467/1000\n",
      "12/12 [==============================] - 0s 3ms/step - loss: 1.4675 - val_loss: 1.6088\n",
      "Epoch 468/1000\n",
      "12/12 [==============================] - 0s 3ms/step - loss: 1.4658 - val_loss: 1.6077\n",
      "Epoch 469/1000\n",
      "12/12 [==============================] - 0s 3ms/step - loss: 1.4642 - val_loss: 1.6056\n",
      "Epoch 470/1000\n",
      "12/12 [==============================] - 0s 3ms/step - loss: 1.4624 - val_loss: 1.6043\n",
      "Epoch 471/1000\n",
      "12/12 [==============================] - 0s 3ms/step - loss: 1.4607 - val_loss: 1.6034\n",
      "Epoch 472/1000\n",
      "12/12 [==============================] - 0s 3ms/step - loss: 1.4593 - val_loss: 1.6010\n",
      "Epoch 473/1000\n",
      "12/12 [==============================] - 0s 3ms/step - loss: 1.4571 - val_loss: 1.6002\n",
      "Epoch 474/1000\n",
      "12/12 [==============================] - 0s 3ms/step - loss: 1.4558 - val_loss: 1.5979\n",
      "Epoch 475/1000\n",
      "12/12 [==============================] - 0s 4ms/step - loss: 1.4536 - val_loss: 1.5977\n",
      "Epoch 476/1000\n",
      "12/12 [==============================] - 0s 3ms/step - loss: 1.4519 - val_loss: 1.5955\n",
      "Epoch 477/1000\n",
      "12/12 [==============================] - 0s 3ms/step - loss: 1.4503 - val_loss: 1.5945\n",
      "Epoch 478/1000\n",
      "12/12 [==============================] - 0s 3ms/step - loss: 1.4484 - val_loss: 1.5924\n",
      "Epoch 479/1000\n",
      "12/12 [==============================] - 0s 3ms/step - loss: 1.4467 - val_loss: 1.5916\n",
      "Epoch 480/1000\n",
      "12/12 [==============================] - 0s 3ms/step - loss: 1.4452 - val_loss: 1.5904\n",
      "Epoch 481/1000\n",
      "12/12 [==============================] - 0s 4ms/step - loss: 1.4435 - val_loss: 1.5889\n",
      "Epoch 482/1000\n",
      "12/12 [==============================] - 0s 3ms/step - loss: 1.4417 - val_loss: 1.5882\n",
      "Epoch 483/1000\n",
      "12/12 [==============================] - 0s 3ms/step - loss: 1.4400 - val_loss: 1.5865\n",
      "Epoch 484/1000\n",
      "12/12 [==============================] - 0s 3ms/step - loss: 1.4383 - val_loss: 1.5855\n",
      "Epoch 485/1000\n",
      "12/12 [==============================] - 0s 3ms/step - loss: 1.4366 - val_loss: 1.5843\n",
      "Epoch 486/1000\n",
      "12/12 [==============================] - 0s 3ms/step - loss: 1.4350 - val_loss: 1.5833\n",
      "Epoch 487/1000\n",
      "12/12 [==============================] - 0s 3ms/step - loss: 1.4333 - val_loss: 1.5823\n",
      "Epoch 488/1000\n",
      "12/12 [==============================] - 0s 3ms/step - loss: 1.4319 - val_loss: 1.5807\n",
      "Epoch 489/1000\n",
      "12/12 [==============================] - 0s 3ms/step - loss: 1.4300 - val_loss: 1.5800\n",
      "Epoch 490/1000\n",
      "12/12 [==============================] - 0s 4ms/step - loss: 1.4284 - val_loss: 1.5786\n",
      "Epoch 491/1000\n",
      "12/12 [==============================] - 0s 3ms/step - loss: 1.4268 - val_loss: 1.5774\n",
      "Epoch 492/1000\n",
      "12/12 [==============================] - 0s 3ms/step - loss: 1.4251 - val_loss: 1.5765\n",
      "Epoch 493/1000\n",
      "12/12 [==============================] - 0s 3ms/step - loss: 1.4233 - val_loss: 1.5754\n",
      "Epoch 494/1000\n",
      "12/12 [==============================] - 0s 3ms/step - loss: 1.4216 - val_loss: 1.5742\n",
      "Epoch 495/1000\n",
      "12/12 [==============================] - 0s 3ms/step - loss: 1.4202 - val_loss: 1.5732\n",
      "Epoch 496/1000\n",
      "12/12 [==============================] - 0s 3ms/step - loss: 1.4184 - val_loss: 1.5712\n",
      "Epoch 497/1000\n",
      "12/12 [==============================] - 0s 3ms/step - loss: 1.4169 - val_loss: 1.5706\n",
      "Epoch 498/1000\n",
      "12/12 [==============================] - 0s 3ms/step - loss: 1.4149 - val_loss: 1.5697\n",
      "Epoch 499/1000\n",
      "12/12 [==============================] - 0s 3ms/step - loss: 1.4133 - val_loss: 1.5687\n",
      "Epoch 500/1000\n",
      "12/12 [==============================] - 0s 3ms/step - loss: 1.4120 - val_loss: 1.5670\n",
      "Epoch 501/1000\n",
      "12/12 [==============================] - 0s 3ms/step - loss: 1.4105 - val_loss: 1.5665\n",
      "Epoch 502/1000\n",
      "12/12 [==============================] - 0s 3ms/step - loss: 1.4086 - val_loss: 1.5648\n",
      "Epoch 503/1000\n",
      "12/12 [==============================] - 0s 3ms/step - loss: 1.4068 - val_loss: 1.5641\n",
      "Epoch 504/1000\n",
      "12/12 [==============================] - 0s 3ms/step - loss: 1.4050 - val_loss: 1.5624\n",
      "Epoch 505/1000\n",
      "12/12 [==============================] - 0s 3ms/step - loss: 1.4033 - val_loss: 1.5619\n",
      "Epoch 506/1000\n",
      "12/12 [==============================] - 0s 3ms/step - loss: 1.4018 - val_loss: 1.5610\n",
      "Epoch 507/1000\n",
      "12/12 [==============================] - 0s 3ms/step - loss: 1.4008 - val_loss: 1.5590\n",
      "Epoch 508/1000\n",
      "12/12 [==============================] - 0s 3ms/step - loss: 1.3984 - val_loss: 1.5589\n",
      "Epoch 509/1000\n",
      "12/12 [==============================] - 0s 3ms/step - loss: 1.3969 - val_loss: 1.5573\n",
      "Epoch 510/1000\n",
      "12/12 [==============================] - 0s 3ms/step - loss: 1.3950 - val_loss: 1.5562\n",
      "Epoch 511/1000\n",
      "12/12 [==============================] - 0s 3ms/step - loss: 1.3939 - val_loss: 1.5544\n",
      "Epoch 512/1000\n",
      "12/12 [==============================] - 0s 3ms/step - loss: 1.3919 - val_loss: 1.5542\n",
      "Epoch 513/1000\n",
      "12/12 [==============================] - 0s 3ms/step - loss: 1.3901 - val_loss: 1.5529\n",
      "Epoch 514/1000\n",
      "12/12 [==============================] - 0s 4ms/step - loss: 1.3884 - val_loss: 1.5513\n",
      "Epoch 515/1000\n",
      "12/12 [==============================] - 0s 3ms/step - loss: 1.3875 - val_loss: 1.5495\n",
      "Epoch 516/1000\n",
      "12/12 [==============================] - 0s 3ms/step - loss: 1.3852 - val_loss: 1.5492\n",
      "Epoch 517/1000\n",
      "12/12 [==============================] - 0s 3ms/step - loss: 1.3835 - val_loss: 1.5482\n",
      "Epoch 518/1000\n",
      "12/12 [==============================] - 0s 3ms/step - loss: 1.3822 - val_loss: 1.5463\n",
      "Epoch 519/1000\n",
      "12/12 [==============================] - 0s 3ms/step - loss: 1.3803 - val_loss: 1.5456\n",
      "Epoch 520/1000\n",
      "12/12 [==============================] - 0s 3ms/step - loss: 1.3785 - val_loss: 1.5448\n",
      "Epoch 521/1000\n",
      "12/12 [==============================] - 0s 3ms/step - loss: 1.3773 - val_loss: 1.5426\n",
      "Epoch 522/1000\n",
      "12/12 [==============================] - 0s 3ms/step - loss: 1.3753 - val_loss: 1.5417\n",
      "Epoch 523/1000\n",
      "12/12 [==============================] - 0s 3ms/step - loss: 1.3736 - val_loss: 1.5405\n",
      "Epoch 524/1000\n",
      "12/12 [==============================] - 0s 3ms/step - loss: 1.3725 - val_loss: 1.5390\n",
      "Epoch 525/1000\n",
      "12/12 [==============================] - 0s 3ms/step - loss: 1.3709 - val_loss: 1.5390\n",
      "Epoch 526/1000\n",
      "12/12 [==============================] - 0s 3ms/step - loss: 1.3689 - val_loss: 1.5373\n",
      "Epoch 527/1000\n",
      "12/12 [==============================] - 0s 3ms/step - loss: 1.3684 - val_loss: 1.5348\n",
      "Epoch 528/1000\n",
      "12/12 [==============================] - 0s 3ms/step - loss: 1.3662 - val_loss: 1.5352\n",
      "Epoch 529/1000\n",
      "12/12 [==============================] - 0s 3ms/step - loss: 1.3639 - val_loss: 1.5336\n",
      "Epoch 530/1000\n",
      "12/12 [==============================] - 0s 3ms/step - loss: 1.3624 - val_loss: 1.5323\n",
      "Epoch 531/1000\n",
      "12/12 [==============================] - 0s 3ms/step - loss: 1.3606 - val_loss: 1.5313\n",
      "Epoch 532/1000\n",
      "12/12 [==============================] - 0s 3ms/step - loss: 1.3589 - val_loss: 1.5302\n",
      "Epoch 533/1000\n",
      "12/12 [==============================] - 0s 3ms/step - loss: 1.3575 - val_loss: 1.5293\n",
      "Epoch 534/1000\n",
      "12/12 [==============================] - 0s 3ms/step - loss: 1.3559 - val_loss: 1.5278\n",
      "Epoch 535/1000\n",
      "12/12 [==============================] - 0s 3ms/step - loss: 1.3543 - val_loss: 1.5267\n",
      "Epoch 536/1000\n",
      "12/12 [==============================] - 0s 3ms/step - loss: 1.3527 - val_loss: 1.5259\n",
      "Epoch 537/1000\n",
      "12/12 [==============================] - 0s 3ms/step - loss: 1.3513 - val_loss: 1.5243\n",
      "Epoch 538/1000\n",
      "12/12 [==============================] - 0s 3ms/step - loss: 1.3493 - val_loss: 1.5233\n",
      "Epoch 539/1000\n",
      "12/12 [==============================] - 0s 3ms/step - loss: 1.3485 - val_loss: 1.5228\n",
      "Epoch 540/1000\n",
      "12/12 [==============================] - 0s 3ms/step - loss: 1.3461 - val_loss: 1.5210\n",
      "Epoch 541/1000\n",
      "12/12 [==============================] - 0s 3ms/step - loss: 1.3444 - val_loss: 1.5196\n",
      "Epoch 542/1000\n",
      "12/12 [==============================] - 0s 3ms/step - loss: 1.3432 - val_loss: 1.5181\n",
      "Epoch 543/1000\n",
      "12/12 [==============================] - 0s 3ms/step - loss: 1.3415 - val_loss: 1.5169\n",
      "Epoch 544/1000\n",
      "12/12 [==============================] - 0s 3ms/step - loss: 1.3396 - val_loss: 1.5159\n",
      "Epoch 545/1000\n",
      "12/12 [==============================] - 0s 3ms/step - loss: 1.3381 - val_loss: 1.5152\n",
      "Epoch 546/1000\n",
      "12/12 [==============================] - 0s 3ms/step - loss: 1.3365 - val_loss: 1.5135\n",
      "Epoch 547/1000\n",
      "12/12 [==============================] - 0s 3ms/step - loss: 1.3349 - val_loss: 1.5126\n",
      "Epoch 548/1000\n",
      "12/12 [==============================] - 0s 3ms/step - loss: 1.3332 - val_loss: 1.5115\n",
      "Epoch 549/1000\n",
      "12/12 [==============================] - 0s 3ms/step - loss: 1.3315 - val_loss: 1.5096\n",
      "Epoch 550/1000\n",
      "12/12 [==============================] - 0s 3ms/step - loss: 1.3300 - val_loss: 1.5086\n",
      "Epoch 551/1000\n",
      "12/12 [==============================] - 0s 3ms/step - loss: 1.3283 - val_loss: 1.5080\n",
      "Epoch 552/1000\n",
      "12/12 [==============================] - 0s 3ms/step - loss: 1.3268 - val_loss: 1.5070\n",
      "Epoch 553/1000\n",
      "12/12 [==============================] - 0s 3ms/step - loss: 1.3250 - val_loss: 1.5054\n",
      "Epoch 554/1000\n",
      "12/12 [==============================] - 0s 3ms/step - loss: 1.3234 - val_loss: 1.5044\n",
      "Epoch 555/1000\n",
      "12/12 [==============================] - 0s 3ms/step - loss: 1.3217 - val_loss: 1.5030\n",
      "Epoch 556/1000\n",
      "12/12 [==============================] - 0s 3ms/step - loss: 1.3202 - val_loss: 1.5023\n",
      "Epoch 557/1000\n",
      "12/12 [==============================] - 0s 3ms/step - loss: 1.3185 - val_loss: 1.5010\n",
      "Epoch 558/1000\n",
      "12/12 [==============================] - 0s 3ms/step - loss: 1.3172 - val_loss: 1.4993\n",
      "Epoch 559/1000\n",
      "12/12 [==============================] - 0s 4ms/step - loss: 1.3152 - val_loss: 1.4984\n",
      "Epoch 560/1000\n",
      "12/12 [==============================] - 0s 3ms/step - loss: 1.3137 - val_loss: 1.4972\n",
      "Epoch 561/1000\n",
      "12/12 [==============================] - 0s 4ms/step - loss: 1.3119 - val_loss: 1.4962\n",
      "Epoch 562/1000\n",
      "12/12 [==============================] - 0s 3ms/step - loss: 1.3103 - val_loss: 1.4952\n",
      "Epoch 563/1000\n",
      "12/12 [==============================] - 0s 3ms/step - loss: 1.3087 - val_loss: 1.4939\n",
      "Epoch 564/1000\n",
      "12/12 [==============================] - 0s 3ms/step - loss: 1.3077 - val_loss: 1.4933\n",
      "Epoch 565/1000\n",
      "12/12 [==============================] - 0s 3ms/step - loss: 1.3055 - val_loss: 1.4917\n",
      "Epoch 566/1000\n",
      "12/12 [==============================] - 0s 3ms/step - loss: 1.3041 - val_loss: 1.4904\n",
      "Epoch 567/1000\n",
      "12/12 [==============================] - 0s 3ms/step - loss: 1.3023 - val_loss: 1.4889\n",
      "Epoch 568/1000\n",
      "12/12 [==============================] - 0s 3ms/step - loss: 1.3007 - val_loss: 1.4877\n",
      "Epoch 569/1000\n",
      "12/12 [==============================] - 0s 3ms/step - loss: 1.2993 - val_loss: 1.4873\n",
      "Epoch 570/1000\n",
      "12/12 [==============================] - 0s 3ms/step - loss: 1.2976 - val_loss: 1.4861\n",
      "Epoch 571/1000\n",
      "12/12 [==============================] - 0s 3ms/step - loss: 1.2961 - val_loss: 1.4847\n",
      "Epoch 572/1000\n",
      "12/12 [==============================] - 0s 3ms/step - loss: 1.2946 - val_loss: 1.4840\n",
      "Epoch 573/1000\n",
      "12/12 [==============================] - 0s 3ms/step - loss: 1.2928 - val_loss: 1.4825\n",
      "Epoch 574/1000\n",
      "12/12 [==============================] - 0s 3ms/step - loss: 1.2915 - val_loss: 1.4810\n",
      "Epoch 575/1000\n",
      "12/12 [==============================] - 0s 3ms/step - loss: 1.2897 - val_loss: 1.4797\n",
      "Epoch 576/1000\n",
      "12/12 [==============================] - 0s 3ms/step - loss: 1.2885 - val_loss: 1.4785\n",
      "Epoch 577/1000\n",
      "12/12 [==============================] - 0s 4ms/step - loss: 1.2867 - val_loss: 1.4773\n",
      "Epoch 578/1000\n",
      "12/12 [==============================] - 0s 4ms/step - loss: 1.2853 - val_loss: 1.4766\n",
      "Epoch 579/1000\n",
      "12/12 [==============================] - 0s 4ms/step - loss: 1.2837 - val_loss: 1.4756\n",
      "Epoch 580/1000\n",
      "12/12 [==============================] - 0s 3ms/step - loss: 1.2821 - val_loss: 1.4741\n",
      "Epoch 581/1000\n",
      "12/12 [==============================] - 0s 4ms/step - loss: 1.2805 - val_loss: 1.4728\n",
      "Epoch 582/1000\n",
      "12/12 [==============================] - 0s 3ms/step - loss: 1.2789 - val_loss: 1.4717\n",
      "Epoch 583/1000\n",
      "12/12 [==============================] - 0s 3ms/step - loss: 1.2776 - val_loss: 1.4704\n",
      "Epoch 584/1000\n",
      "12/12 [==============================] - 0s 3ms/step - loss: 1.2759 - val_loss: 1.4691\n",
      "Epoch 585/1000\n",
      "12/12 [==============================] - 0s 3ms/step - loss: 1.2746 - val_loss: 1.4683\n",
      "Epoch 586/1000\n",
      "12/12 [==============================] - 0s 3ms/step - loss: 1.2729 - val_loss: 1.4669\n",
      "Epoch 587/1000\n",
      "12/12 [==============================] - 0s 3ms/step - loss: 1.2714 - val_loss: 1.4658\n",
      "Epoch 588/1000\n",
      "12/12 [==============================] - 0s 3ms/step - loss: 1.2696 - val_loss: 1.4638\n",
      "Epoch 589/1000\n",
      "12/12 [==============================] - 0s 3ms/step - loss: 1.2684 - val_loss: 1.4629\n",
      "Epoch 590/1000\n",
      "12/12 [==============================] - 0s 3ms/step - loss: 1.2668 - val_loss: 1.4613\n",
      "Epoch 591/1000\n",
      "12/12 [==============================] - 0s 3ms/step - loss: 1.2652 - val_loss: 1.4604\n",
      "Epoch 592/1000\n",
      "12/12 [==============================] - 0s 3ms/step - loss: 1.2637 - val_loss: 1.4595\n",
      "Epoch 593/1000\n",
      "12/12 [==============================] - 0s 3ms/step - loss: 1.2622 - val_loss: 1.4581\n",
      "Epoch 594/1000\n",
      "12/12 [==============================] - 0s 4ms/step - loss: 1.2605 - val_loss: 1.4567\n",
      "Epoch 595/1000\n",
      "12/12 [==============================] - 0s 3ms/step - loss: 1.2592 - val_loss: 1.4554\n",
      "Epoch 596/1000\n",
      "12/12 [==============================] - 0s 3ms/step - loss: 1.2579 - val_loss: 1.4546\n",
      "Epoch 597/1000\n",
      "12/12 [==============================] - 0s 3ms/step - loss: 1.2561 - val_loss: 1.4526\n",
      "Epoch 598/1000\n",
      "12/12 [==============================] - 0s 3ms/step - loss: 1.2546 - val_loss: 1.4517\n",
      "Epoch 599/1000\n",
      "12/12 [==============================] - 0s 3ms/step - loss: 1.2532 - val_loss: 1.4508\n",
      "Epoch 600/1000\n",
      "12/12 [==============================] - 0s 3ms/step - loss: 1.2516 - val_loss: 1.4490\n",
      "Epoch 601/1000\n",
      "12/12 [==============================] - 0s 3ms/step - loss: 1.2499 - val_loss: 1.4479\n",
      "Epoch 602/1000\n",
      "12/12 [==============================] - 0s 3ms/step - loss: 1.2483 - val_loss: 1.4468\n",
      "Epoch 603/1000\n",
      "12/12 [==============================] - 0s 3ms/step - loss: 1.2468 - val_loss: 1.4456\n",
      "Epoch 604/1000\n",
      "12/12 [==============================] - 0s 3ms/step - loss: 1.2454 - val_loss: 1.4444\n",
      "Epoch 605/1000\n",
      "12/12 [==============================] - 0s 3ms/step - loss: 1.2440 - val_loss: 1.4430\n",
      "Epoch 606/1000\n",
      "12/12 [==============================] - 0s 4ms/step - loss: 1.2422 - val_loss: 1.4423\n",
      "Epoch 607/1000\n",
      "12/12 [==============================] - 0s 3ms/step - loss: 1.2409 - val_loss: 1.4404\n",
      "Epoch 608/1000\n",
      "12/12 [==============================] - 0s 3ms/step - loss: 1.2394 - val_loss: 1.4394\n",
      "Epoch 609/1000\n",
      "12/12 [==============================] - 0s 3ms/step - loss: 1.2376 - val_loss: 1.4379\n",
      "Epoch 610/1000\n",
      "12/12 [==============================] - 0s 3ms/step - loss: 1.2361 - val_loss: 1.4372\n",
      "Epoch 611/1000\n",
      "12/12 [==============================] - 0s 3ms/step - loss: 1.2345 - val_loss: 1.4356\n",
      "Epoch 612/1000\n",
      "12/12 [==============================] - 0s 3ms/step - loss: 1.2333 - val_loss: 1.4336\n",
      "Epoch 613/1000\n",
      "12/12 [==============================] - 0s 3ms/step - loss: 1.2318 - val_loss: 1.4328\n",
      "Epoch 614/1000\n",
      "12/12 [==============================] - 0s 3ms/step - loss: 1.2306 - val_loss: 1.4310\n",
      "Epoch 615/1000\n",
      "12/12 [==============================] - 0s 3ms/step - loss: 1.2287 - val_loss: 1.4308\n",
      "Epoch 616/1000\n",
      "12/12 [==============================] - 0s 3ms/step - loss: 1.2270 - val_loss: 1.4292\n",
      "Epoch 617/1000\n",
      "12/12 [==============================] - 0s 3ms/step - loss: 1.2254 - val_loss: 1.4276\n",
      "Epoch 618/1000\n",
      "12/12 [==============================] - 0s 3ms/step - loss: 1.2240 - val_loss: 1.4263\n",
      "Epoch 619/1000\n",
      "12/12 [==============================] - 0s 4ms/step - loss: 1.2226 - val_loss: 1.4258\n",
      "Epoch 620/1000\n",
      "12/12 [==============================] - 0s 4ms/step - loss: 1.2207 - val_loss: 1.4243\n",
      "Epoch 621/1000\n",
      "12/12 [==============================] - 0s 3ms/step - loss: 1.2192 - val_loss: 1.4228\n",
      "Epoch 622/1000\n",
      "12/12 [==============================] - 0s 3ms/step - loss: 1.2178 - val_loss: 1.4215\n",
      "Epoch 623/1000\n",
      "12/12 [==============================] - 0s 3ms/step - loss: 1.2163 - val_loss: 1.4209\n",
      "Epoch 624/1000\n",
      "12/12 [==============================] - 0s 3ms/step - loss: 1.2146 - val_loss: 1.4194\n",
      "Epoch 625/1000\n",
      "12/12 [==============================] - 0s 3ms/step - loss: 1.2131 - val_loss: 1.4179\n",
      "Epoch 626/1000\n",
      "12/12 [==============================] - 0s 3ms/step - loss: 1.2117 - val_loss: 1.4170\n",
      "Epoch 627/1000\n",
      "12/12 [==============================] - 0s 3ms/step - loss: 1.2102 - val_loss: 1.4161\n",
      "Epoch 628/1000\n",
      "12/12 [==============================] - 0s 3ms/step - loss: 1.2088 - val_loss: 1.4154\n",
      "Epoch 629/1000\n",
      "12/12 [==============================] - 0s 3ms/step - loss: 1.2079 - val_loss: 1.4139\n",
      "Epoch 630/1000\n",
      "12/12 [==============================] - 0s 3ms/step - loss: 1.2061 - val_loss: 1.4134\n",
      "Epoch 631/1000\n",
      "12/12 [==============================] - 0s 3ms/step - loss: 1.2043 - val_loss: 1.4120\n",
      "Epoch 632/1000\n",
      "12/12 [==============================] - 0s 3ms/step - loss: 1.2030 - val_loss: 1.4109\n",
      "Epoch 633/1000\n",
      "12/12 [==============================] - 0s 3ms/step - loss: 1.2017 - val_loss: 1.4108\n",
      "Epoch 634/1000\n",
      "12/12 [==============================] - 0s 3ms/step - loss: 1.1998 - val_loss: 1.4097\n",
      "Epoch 635/1000\n",
      "12/12 [==============================] - 0s 3ms/step - loss: 1.1981 - val_loss: 1.4082\n",
      "Epoch 636/1000\n",
      "12/12 [==============================] - 0s 3ms/step - loss: 1.1968 - val_loss: 1.4073\n",
      "Epoch 637/1000\n",
      "12/12 [==============================] - 0s 3ms/step - loss: 1.1953 - val_loss: 1.4065\n",
      "Epoch 638/1000\n",
      "12/12 [==============================] - 0s 3ms/step - loss: 1.1937 - val_loss: 1.4057\n",
      "Epoch 639/1000\n",
      "12/12 [==============================] - 0s 3ms/step - loss: 1.1923 - val_loss: 1.4048\n",
      "Epoch 640/1000\n",
      "12/12 [==============================] - 0s 3ms/step - loss: 1.1907 - val_loss: 1.4037\n",
      "Epoch 641/1000\n",
      "12/12 [==============================] - 0s 3ms/step - loss: 1.1893 - val_loss: 1.4029\n",
      "Epoch 642/1000\n",
      "12/12 [==============================] - 0s 3ms/step - loss: 1.1878 - val_loss: 1.4019\n",
      "Epoch 643/1000\n",
      "12/12 [==============================] - 0s 3ms/step - loss: 1.1868 - val_loss: 1.4014\n",
      "Epoch 644/1000\n",
      "12/12 [==============================] - 0s 4ms/step - loss: 1.1850 - val_loss: 1.4001\n",
      "Epoch 645/1000\n",
      "12/12 [==============================] - 0s 3ms/step - loss: 1.1834 - val_loss: 1.3993\n",
      "Epoch 646/1000\n",
      "12/12 [==============================] - 0s 3ms/step - loss: 1.1827 - val_loss: 1.3977\n",
      "Epoch 647/1000\n",
      "12/12 [==============================] - 0s 3ms/step - loss: 1.1802 - val_loss: 1.3974\n",
      "Epoch 648/1000\n",
      "12/12 [==============================] - 0s 3ms/step - loss: 1.1790 - val_loss: 1.3963\n",
      "Epoch 649/1000\n",
      "12/12 [==============================] - 0s 3ms/step - loss: 1.1775 - val_loss: 1.3952\n",
      "Epoch 650/1000\n",
      "12/12 [==============================] - 0s 3ms/step - loss: 1.1760 - val_loss: 1.3948\n",
      "Epoch 651/1000\n",
      "12/12 [==============================] - 0s 3ms/step - loss: 1.1745 - val_loss: 1.3935\n",
      "Epoch 652/1000\n",
      "12/12 [==============================] - 0s 3ms/step - loss: 1.1730 - val_loss: 1.3921\n",
      "Epoch 653/1000\n",
      "12/12 [==============================] - 0s 3ms/step - loss: 1.1716 - val_loss: 1.3912\n",
      "Epoch 654/1000\n",
      "12/12 [==============================] - 0s 3ms/step - loss: 1.1711 - val_loss: 1.3907\n",
      "Epoch 655/1000\n",
      "12/12 [==============================] - 0s 3ms/step - loss: 1.1690 - val_loss: 1.3891\n",
      "Epoch 656/1000\n",
      "12/12 [==============================] - 0s 3ms/step - loss: 1.1673 - val_loss: 1.3881\n",
      "Epoch 657/1000\n",
      "12/12 [==============================] - 0s 3ms/step - loss: 1.1660 - val_loss: 1.3873\n",
      "Epoch 658/1000\n",
      "12/12 [==============================] - 0s 3ms/step - loss: 1.1647 - val_loss: 1.3859\n",
      "Epoch 659/1000\n",
      "12/12 [==============================] - 0s 3ms/step - loss: 1.1630 - val_loss: 1.3850\n",
      "Epoch 660/1000\n",
      "12/12 [==============================] - 0s 3ms/step - loss: 1.1617 - val_loss: 1.3844\n",
      "Epoch 661/1000\n",
      "12/12 [==============================] - 0s 4ms/step - loss: 1.1605 - val_loss: 1.3832\n",
      "Epoch 662/1000\n",
      "12/12 [==============================] - 0s 4ms/step - loss: 1.1587 - val_loss: 1.3820\n",
      "Epoch 663/1000\n",
      "12/12 [==============================] - 0s 3ms/step - loss: 1.1573 - val_loss: 1.3811\n",
      "Epoch 664/1000\n",
      "12/12 [==============================] - 0s 4ms/step - loss: 1.1558 - val_loss: 1.3802\n",
      "Epoch 665/1000\n",
      "12/12 [==============================] - 0s 4ms/step - loss: 1.1542 - val_loss: 1.3790\n",
      "Epoch 666/1000\n",
      "12/12 [==============================] - 0s 4ms/step - loss: 1.1531 - val_loss: 1.3779\n",
      "Epoch 667/1000\n",
      "12/12 [==============================] - 0s 4ms/step - loss: 1.1515 - val_loss: 1.3772\n",
      "Epoch 668/1000\n",
      "12/12 [==============================] - 0s 3ms/step - loss: 1.1507 - val_loss: 1.3764\n",
      "Epoch 669/1000\n",
      "12/12 [==============================] - 0s 3ms/step - loss: 1.1486 - val_loss: 1.3749\n",
      "Epoch 670/1000\n",
      "12/12 [==============================] - 0s 3ms/step - loss: 1.1478 - val_loss: 1.3731\n",
      "Epoch 671/1000\n",
      "12/12 [==============================] - 0s 3ms/step - loss: 1.1462 - val_loss: 1.3729\n",
      "Epoch 672/1000\n",
      "12/12 [==============================] - 0s 3ms/step - loss: 1.1443 - val_loss: 1.3720\n",
      "Epoch 673/1000\n",
      "12/12 [==============================] - 0s 4ms/step - loss: 1.1430 - val_loss: 1.3707\n",
      "Epoch 674/1000\n",
      "12/12 [==============================] - 0s 3ms/step - loss: 1.1414 - val_loss: 1.3700\n",
      "Epoch 675/1000\n",
      "12/12 [==============================] - 0s 4ms/step - loss: 1.1401 - val_loss: 1.3685\n",
      "Epoch 676/1000\n",
      "12/12 [==============================] - 0s 3ms/step - loss: 1.1385 - val_loss: 1.3676\n",
      "Epoch 677/1000\n",
      "12/12 [==============================] - 0s 3ms/step - loss: 1.1375 - val_loss: 1.3669\n",
      "Epoch 678/1000\n",
      "12/12 [==============================] - 0s 3ms/step - loss: 1.1357 - val_loss: 1.3654\n",
      "Epoch 679/1000\n",
      "12/12 [==============================] - 0s 3ms/step - loss: 1.1344 - val_loss: 1.3644\n",
      "Epoch 680/1000\n",
      "12/12 [==============================] - 0s 3ms/step - loss: 1.1332 - val_loss: 1.3636\n",
      "Epoch 681/1000\n",
      "12/12 [==============================] - 0s 3ms/step - loss: 1.1313 - val_loss: 1.3623\n",
      "Epoch 682/1000\n",
      "12/12 [==============================] - 0s 3ms/step - loss: 1.1298 - val_loss: 1.3614\n",
      "Epoch 683/1000\n",
      "12/12 [==============================] - 0s 3ms/step - loss: 1.1287 - val_loss: 1.3606\n",
      "Epoch 684/1000\n",
      "12/12 [==============================] - 0s 3ms/step - loss: 1.1270 - val_loss: 1.3593\n",
      "Epoch 685/1000\n",
      "12/12 [==============================] - 0s 3ms/step - loss: 1.1260 - val_loss: 1.3585\n",
      "Epoch 686/1000\n",
      "12/12 [==============================] - 0s 3ms/step - loss: 1.1245 - val_loss: 1.3573\n",
      "Epoch 687/1000\n",
      "12/12 [==============================] - 0s 3ms/step - loss: 1.1230 - val_loss: 1.3558\n",
      "Epoch 688/1000\n",
      "12/12 [==============================] - 0s 4ms/step - loss: 1.1219 - val_loss: 1.3546\n",
      "Epoch 689/1000\n",
      "12/12 [==============================] - 0s 3ms/step - loss: 1.1198 - val_loss: 1.3538\n",
      "Epoch 690/1000\n",
      "12/12 [==============================] - 0s 5ms/step - loss: 1.1187 - val_loss: 1.3530\n",
      "Epoch 691/1000\n",
      "12/12 [==============================] - 0s 4ms/step - loss: 1.1176 - val_loss: 1.3518\n",
      "Epoch 692/1000\n",
      "12/12 [==============================] - 0s 4ms/step - loss: 1.1159 - val_loss: 1.3507\n",
      "Epoch 693/1000\n",
      "12/12 [==============================] - 0s 4ms/step - loss: 1.1146 - val_loss: 1.3495\n",
      "Epoch 694/1000\n",
      "12/12 [==============================] - 0s 5ms/step - loss: 1.1133 - val_loss: 1.3486\n",
      "Epoch 695/1000\n",
      "12/12 [==============================] - 0s 4ms/step - loss: 1.1120 - val_loss: 1.3478\n",
      "Epoch 696/1000\n",
      "12/12 [==============================] - 0s 4ms/step - loss: 1.1107 - val_loss: 1.3466\n",
      "Epoch 697/1000\n",
      "12/12 [==============================] - 0s 4ms/step - loss: 1.1095 - val_loss: 1.3459\n",
      "Epoch 698/1000\n",
      "12/12 [==============================] - 0s 3ms/step - loss: 1.1078 - val_loss: 1.3446\n",
      "Epoch 699/1000\n",
      "12/12 [==============================] - 0s 3ms/step - loss: 1.1068 - val_loss: 1.3434\n",
      "Epoch 700/1000\n",
      "12/12 [==============================] - 0s 3ms/step - loss: 1.1053 - val_loss: 1.3425\n",
      "Epoch 701/1000\n",
      "12/12 [==============================] - 0s 3ms/step - loss: 1.1041 - val_loss: 1.3416\n",
      "Epoch 702/1000\n",
      "12/12 [==============================] - 0s 3ms/step - loss: 1.1028 - val_loss: 1.3404\n",
      "Epoch 703/1000\n",
      "12/12 [==============================] - 0s 3ms/step - loss: 1.1019 - val_loss: 1.3397\n",
      "Epoch 704/1000\n",
      "12/12 [==============================] - 0s 3ms/step - loss: 1.1001 - val_loss: 1.3383\n",
      "Epoch 705/1000\n",
      "12/12 [==============================] - 0s 3ms/step - loss: 1.0994 - val_loss: 1.3366\n",
      "Epoch 706/1000\n",
      "12/12 [==============================] - 0s 3ms/step - loss: 1.0977 - val_loss: 1.3358\n",
      "Epoch 707/1000\n",
      "12/12 [==============================] - 0s 4ms/step - loss: 1.0965 - val_loss: 1.3351\n",
      "Epoch 708/1000\n",
      "12/12 [==============================] - 0s 3ms/step - loss: 1.0949 - val_loss: 1.3342\n",
      "Epoch 709/1000\n",
      "12/12 [==============================] - 0s 3ms/step - loss: 1.0937 - val_loss: 1.3333\n",
      "Epoch 710/1000\n",
      "12/12 [==============================] - 0s 3ms/step - loss: 1.0923 - val_loss: 1.3321\n",
      "Epoch 711/1000\n",
      "12/12 [==============================] - 0s 3ms/step - loss: 1.0913 - val_loss: 1.3314\n",
      "Epoch 712/1000\n",
      "12/12 [==============================] - 0s 3ms/step - loss: 1.0896 - val_loss: 1.3301\n",
      "Epoch 713/1000\n",
      "12/12 [==============================] - 0s 3ms/step - loss: 1.0887 - val_loss: 1.3285\n",
      "Epoch 714/1000\n",
      "12/12 [==============================] - 0s 3ms/step - loss: 1.0871 - val_loss: 1.3277\n",
      "Epoch 715/1000\n",
      "12/12 [==============================] - 0s 3ms/step - loss: 1.0858 - val_loss: 1.3268\n",
      "Epoch 716/1000\n",
      "12/12 [==============================] - 0s 3ms/step - loss: 1.0847 - val_loss: 1.3256\n",
      "Epoch 717/1000\n",
      "12/12 [==============================] - 0s 3ms/step - loss: 1.0832 - val_loss: 1.3246\n",
      "Epoch 718/1000\n",
      "12/12 [==============================] - 0s 3ms/step - loss: 1.0819 - val_loss: 1.3237\n",
      "Epoch 719/1000\n",
      "12/12 [==============================] - 0s 4ms/step - loss: 1.0808 - val_loss: 1.3227\n",
      "Epoch 720/1000\n",
      "12/12 [==============================] - 0s 4ms/step - loss: 1.0795 - val_loss: 1.3212\n",
      "Epoch 721/1000\n",
      "12/12 [==============================] - 0s 3ms/step - loss: 1.0779 - val_loss: 1.3199\n",
      "Epoch 722/1000\n",
      "12/12 [==============================] - 0s 3ms/step - loss: 1.0766 - val_loss: 1.3189\n",
      "Epoch 723/1000\n",
      "12/12 [==============================] - 0s 4ms/step - loss: 1.0758 - val_loss: 1.3182\n",
      "Epoch 724/1000\n",
      "12/12 [==============================] - 0s 3ms/step - loss: 1.0741 - val_loss: 1.3162\n",
      "Epoch 725/1000\n",
      "12/12 [==============================] - 0s 3ms/step - loss: 1.0733 - val_loss: 1.3147\n",
      "Epoch 726/1000\n",
      "12/12 [==============================] - 0s 3ms/step - loss: 1.0719 - val_loss: 1.3144\n",
      "Epoch 727/1000\n",
      "12/12 [==============================] - 0s 3ms/step - loss: 1.0701 - val_loss: 1.3129\n",
      "Epoch 728/1000\n",
      "12/12 [==============================] - 0s 3ms/step - loss: 1.0690 - val_loss: 1.3115\n",
      "Epoch 729/1000\n",
      "12/12 [==============================] - 0s 3ms/step - loss: 1.0676 - val_loss: 1.3105\n",
      "Epoch 730/1000\n",
      "12/12 [==============================] - 0s 3ms/step - loss: 1.0664 - val_loss: 1.3097\n",
      "Epoch 731/1000\n",
      "12/12 [==============================] - 0s 3ms/step - loss: 1.0653 - val_loss: 1.3083\n",
      "Epoch 732/1000\n",
      "12/12 [==============================] - 0s 3ms/step - loss: 1.0638 - val_loss: 1.3067\n",
      "Epoch 733/1000\n",
      "12/12 [==============================] - 0s 3ms/step - loss: 1.0627 - val_loss: 1.3058\n",
      "Epoch 734/1000\n",
      "12/12 [==============================] - 0s 3ms/step - loss: 1.0614 - val_loss: 1.3046\n",
      "Epoch 735/1000\n",
      "12/12 [==============================] - 0s 3ms/step - loss: 1.0602 - val_loss: 1.3036\n",
      "Epoch 736/1000\n",
      "12/12 [==============================] - 0s 3ms/step - loss: 1.0592 - val_loss: 1.3021\n",
      "Epoch 737/1000\n",
      "12/12 [==============================] - 0s 3ms/step - loss: 1.0578 - val_loss: 1.3012\n",
      "Epoch 738/1000\n",
      "12/12 [==============================] - 0s 3ms/step - loss: 1.0565 - val_loss: 1.3000\n",
      "Epoch 739/1000\n",
      "12/12 [==============================] - 0s 3ms/step - loss: 1.0555 - val_loss: 1.2990\n",
      "Epoch 740/1000\n",
      "12/12 [==============================] - 0s 3ms/step - loss: 1.0542 - val_loss: 1.2971\n",
      "Epoch 741/1000\n",
      "12/12 [==============================] - 0s 3ms/step - loss: 1.0532 - val_loss: 1.2958\n",
      "Epoch 742/1000\n",
      "12/12 [==============================] - 0s 3ms/step - loss: 1.0521 - val_loss: 1.2948\n",
      "Epoch 743/1000\n",
      "12/12 [==============================] - 0s 3ms/step - loss: 1.0510 - val_loss: 1.2942\n",
      "Epoch 744/1000\n",
      "12/12 [==============================] - 0s 3ms/step - loss: 1.0500 - val_loss: 1.2921\n",
      "Epoch 745/1000\n",
      "12/12 [==============================] - 0s 3ms/step - loss: 1.0480 - val_loss: 1.2913\n",
      "Epoch 746/1000\n",
      "12/12 [==============================] - 0s 3ms/step - loss: 1.0469 - val_loss: 1.2900\n",
      "Epoch 747/1000\n",
      "12/12 [==============================] - 0s 3ms/step - loss: 1.0456 - val_loss: 1.2890\n",
      "Epoch 748/1000\n",
      "12/12 [==============================] - 0s 3ms/step - loss: 1.0444 - val_loss: 1.2877\n",
      "Epoch 749/1000\n",
      "12/12 [==============================] - 0s 3ms/step - loss: 1.0433 - val_loss: 1.2865\n",
      "Epoch 750/1000\n",
      "12/12 [==============================] - 0s 3ms/step - loss: 1.0418 - val_loss: 1.2853\n",
      "Epoch 751/1000\n",
      "12/12 [==============================] - 0s 3ms/step - loss: 1.0409 - val_loss: 1.2840\n",
      "Epoch 752/1000\n",
      "12/12 [==============================] - 0s 3ms/step - loss: 1.0396 - val_loss: 1.2832\n",
      "Epoch 753/1000\n",
      "12/12 [==============================] - 0s 3ms/step - loss: 1.0390 - val_loss: 1.2822\n",
      "Epoch 754/1000\n",
      "12/12 [==============================] - 0s 3ms/step - loss: 1.0371 - val_loss: 1.2806\n",
      "Epoch 755/1000\n",
      "12/12 [==============================] - 0s 3ms/step - loss: 1.0368 - val_loss: 1.2786\n",
      "Epoch 756/1000\n",
      "12/12 [==============================] - 0s 3ms/step - loss: 1.0347 - val_loss: 1.2780\n",
      "Epoch 757/1000\n",
      "12/12 [==============================] - 0s 3ms/step - loss: 1.0337 - val_loss: 1.2770\n",
      "Epoch 758/1000\n",
      "12/12 [==============================] - 0s 3ms/step - loss: 1.0332 - val_loss: 1.2762\n",
      "Epoch 759/1000\n",
      "12/12 [==============================] - 0s 3ms/step - loss: 1.0314 - val_loss: 1.2751\n",
      "Epoch 760/1000\n",
      "12/12 [==============================] - 0s 3ms/step - loss: 1.0301 - val_loss: 1.2741\n",
      "Epoch 761/1000\n",
      "12/12 [==============================] - 0s 3ms/step - loss: 1.0291 - val_loss: 1.2730\n",
      "Epoch 762/1000\n",
      "12/12 [==============================] - 0s 3ms/step - loss: 1.0282 - val_loss: 1.2719\n",
      "Epoch 763/1000\n",
      "12/12 [==============================] - 0s 3ms/step - loss: 1.0268 - val_loss: 1.2709\n",
      "Epoch 764/1000\n",
      "12/12 [==============================] - 0s 3ms/step - loss: 1.0255 - val_loss: 1.2699\n",
      "Epoch 765/1000\n",
      "12/12 [==============================] - 0s 3ms/step - loss: 1.0248 - val_loss: 1.2690\n",
      "Epoch 766/1000\n",
      "12/12 [==============================] - 0s 3ms/step - loss: 1.0232 - val_loss: 1.2679\n",
      "Epoch 767/1000\n",
      "12/12 [==============================] - 0s 3ms/step - loss: 1.0222 - val_loss: 1.2668\n",
      "Epoch 768/1000\n",
      "12/12 [==============================] - 0s 3ms/step - loss: 1.0207 - val_loss: 1.2658\n",
      "Epoch 769/1000\n",
      "12/12 [==============================] - 0s 3ms/step - loss: 1.0194 - val_loss: 1.2648\n",
      "Epoch 770/1000\n",
      "12/12 [==============================] - 0s 3ms/step - loss: 1.0187 - val_loss: 1.2637\n",
      "Epoch 771/1000\n",
      "12/12 [==============================] - 0s 3ms/step - loss: 1.0175 - val_loss: 1.2624\n",
      "Epoch 772/1000\n",
      "12/12 [==============================] - 0s 3ms/step - loss: 1.0160 - val_loss: 1.2616\n",
      "Epoch 773/1000\n",
      "12/12 [==============================] - 0s 3ms/step - loss: 1.0150 - val_loss: 1.2604\n",
      "Epoch 774/1000\n",
      "12/12 [==============================] - 0s 3ms/step - loss: 1.0143 - val_loss: 1.2596\n",
      "Epoch 775/1000\n",
      "12/12 [==============================] - 0s 3ms/step - loss: 1.0126 - val_loss: 1.2585\n",
      "Epoch 776/1000\n",
      "12/12 [==============================] - 0s 3ms/step - loss: 1.0114 - val_loss: 1.2573\n",
      "Epoch 777/1000\n",
      "12/12 [==============================] - 0s 3ms/step - loss: 1.0105 - val_loss: 1.2564\n",
      "Epoch 778/1000\n",
      "12/12 [==============================] - 0s 3ms/step - loss: 1.0096 - val_loss: 1.2554\n",
      "Epoch 779/1000\n",
      "12/12 [==============================] - 0s 3ms/step - loss: 1.0080 - val_loss: 1.2544\n",
      "Epoch 780/1000\n",
      "12/12 [==============================] - 0s 3ms/step - loss: 1.0068 - val_loss: 1.2533\n",
      "Epoch 781/1000\n",
      "12/12 [==============================] - 0s 3ms/step - loss: 1.0056 - val_loss: 1.2521\n",
      "Epoch 782/1000\n",
      "12/12 [==============================] - 0s 3ms/step - loss: 1.0046 - val_loss: 1.2512\n",
      "Epoch 783/1000\n",
      "12/12 [==============================] - 0s 3ms/step - loss: 1.0033 - val_loss: 1.2502\n",
      "Epoch 784/1000\n",
      "12/12 [==============================] - 0s 3ms/step - loss: 1.0023 - val_loss: 1.2490\n",
      "Epoch 785/1000\n",
      "12/12 [==============================] - 0s 3ms/step - loss: 1.0016 - val_loss: 1.2481\n",
      "Epoch 786/1000\n",
      "12/12 [==============================] - 0s 3ms/step - loss: 0.9998 - val_loss: 1.2471\n",
      "Epoch 787/1000\n",
      "12/12 [==============================] - 0s 3ms/step - loss: 0.9992 - val_loss: 1.2460\n",
      "Epoch 788/1000\n",
      "12/12 [==============================] - 0s 3ms/step - loss: 0.9978 - val_loss: 1.2450\n",
      "Epoch 789/1000\n",
      "12/12 [==============================] - 0s 3ms/step - loss: 0.9967 - val_loss: 1.2441\n",
      "Epoch 790/1000\n",
      "12/12 [==============================] - 0s 3ms/step - loss: 0.9956 - val_loss: 1.2428\n",
      "Epoch 791/1000\n",
      "12/12 [==============================] - 0s 3ms/step - loss: 0.9945 - val_loss: 1.2418\n",
      "Epoch 792/1000\n",
      "12/12 [==============================] - 0s 3ms/step - loss: 0.9937 - val_loss: 1.2411\n",
      "Epoch 793/1000\n",
      "12/12 [==============================] - 0s 3ms/step - loss: 0.9926 - val_loss: 1.2399\n",
      "Epoch 794/1000\n",
      "12/12 [==============================] - 0s 3ms/step - loss: 0.9912 - val_loss: 1.2387\n",
      "Epoch 795/1000\n",
      "12/12 [==============================] - 0s 3ms/step - loss: 0.9900 - val_loss: 1.2376\n",
      "Epoch 796/1000\n",
      "12/12 [==============================] - 0s 3ms/step - loss: 0.9891 - val_loss: 1.2367\n",
      "Epoch 797/1000\n",
      "12/12 [==============================] - 0s 3ms/step - loss: 0.9880 - val_loss: 1.2357\n",
      "Epoch 798/1000\n",
      "12/12 [==============================] - 0s 3ms/step - loss: 0.9877 - val_loss: 1.2350\n",
      "Epoch 799/1000\n",
      "12/12 [==============================] - 0s 3ms/step - loss: 0.9857 - val_loss: 1.2339\n",
      "Epoch 800/1000\n",
      "12/12 [==============================] - 0s 3ms/step - loss: 0.9858 - val_loss: 1.2326\n",
      "Epoch 801/1000\n",
      "12/12 [==============================] - 0s 3ms/step - loss: 0.9839 - val_loss: 1.2318\n",
      "Epoch 802/1000\n",
      "12/12 [==============================] - 0s 3ms/step - loss: 0.9834 - val_loss: 1.2309\n",
      "Epoch 803/1000\n",
      "12/12 [==============================] - 0s 3ms/step - loss: 0.9820 - val_loss: 1.2300\n",
      "Epoch 804/1000\n",
      "12/12 [==============================] - 0s 3ms/step - loss: 0.9804 - val_loss: 1.2288\n",
      "Epoch 805/1000\n",
      "12/12 [==============================] - 0s 3ms/step - loss: 0.9796 - val_loss: 1.2278\n",
      "Epoch 806/1000\n",
      "12/12 [==============================] - 0s 3ms/step - loss: 0.9786 - val_loss: 1.2270\n",
      "Epoch 807/1000\n",
      "12/12 [==============================] - 0s 3ms/step - loss: 0.9775 - val_loss: 1.2259\n",
      "Epoch 808/1000\n",
      "12/12 [==============================] - 0s 3ms/step - loss: 0.9764 - val_loss: 1.2248\n",
      "Epoch 809/1000\n",
      "12/12 [==============================] - 0s 3ms/step - loss: 0.9755 - val_loss: 1.2239\n",
      "Epoch 810/1000\n",
      "12/12 [==============================] - 0s 3ms/step - loss: 0.9743 - val_loss: 1.2229\n",
      "Epoch 811/1000\n",
      "12/12 [==============================] - 0s 3ms/step - loss: 0.9734 - val_loss: 1.2217\n",
      "Epoch 812/1000\n",
      "12/12 [==============================] - 0s 3ms/step - loss: 0.9722 - val_loss: 1.2208\n",
      "Epoch 813/1000\n",
      "12/12 [==============================] - 0s 3ms/step - loss: 0.9713 - val_loss: 1.2199\n",
      "Epoch 814/1000\n",
      "12/12 [==============================] - 0s 3ms/step - loss: 0.9703 - val_loss: 1.2189\n",
      "Epoch 815/1000\n",
      "12/12 [==============================] - 0s 3ms/step - loss: 0.9693 - val_loss: 1.2178\n",
      "Epoch 816/1000\n",
      "12/12 [==============================] - 0s 3ms/step - loss: 0.9682 - val_loss: 1.2168\n",
      "Epoch 817/1000\n",
      "12/12 [==============================] - 0s 3ms/step - loss: 0.9674 - val_loss: 1.2159\n",
      "Epoch 818/1000\n",
      "12/12 [==============================] - 0s 3ms/step - loss: 0.9662 - val_loss: 1.2148\n",
      "Epoch 819/1000\n",
      "12/12 [==============================] - 0s 3ms/step - loss: 0.9652 - val_loss: 1.2139\n",
      "Epoch 820/1000\n",
      "12/12 [==============================] - 0s 3ms/step - loss: 0.9642 - val_loss: 1.2128\n",
      "Epoch 821/1000\n",
      "12/12 [==============================] - 0s 3ms/step - loss: 0.9633 - val_loss: 1.2122\n",
      "Epoch 822/1000\n",
      "12/12 [==============================] - 0s 3ms/step - loss: 0.9621 - val_loss: 1.2111\n",
      "Epoch 823/1000\n",
      "12/12 [==============================] - 0s 3ms/step - loss: 0.9611 - val_loss: 1.2105\n",
      "Epoch 824/1000\n",
      "12/12 [==============================] - 0s 3ms/step - loss: 0.9602 - val_loss: 1.2095\n",
      "Epoch 825/1000\n",
      "12/12 [==============================] - 0s 3ms/step - loss: 0.9593 - val_loss: 1.2086\n",
      "Epoch 826/1000\n",
      "12/12 [==============================] - 0s 3ms/step - loss: 0.9580 - val_loss: 1.2079\n",
      "Epoch 827/1000\n",
      "12/12 [==============================] - 0s 3ms/step - loss: 0.9570 - val_loss: 1.2072\n",
      "Epoch 828/1000\n",
      "12/12 [==============================] - 0s 4ms/step - loss: 0.9560 - val_loss: 1.2061\n",
      "Epoch 829/1000\n",
      "12/12 [==============================] - 0s 3ms/step - loss: 0.9549 - val_loss: 1.2053\n",
      "Epoch 830/1000\n",
      "12/12 [==============================] - 0s 3ms/step - loss: 0.9541 - val_loss: 1.2045\n",
      "Epoch 831/1000\n",
      "12/12 [==============================] - 0s 3ms/step - loss: 0.9531 - val_loss: 1.2042\n",
      "Epoch 832/1000\n",
      "12/12 [==============================] - 0s 3ms/step - loss: 0.9519 - val_loss: 1.2030\n",
      "Epoch 833/1000\n",
      "12/12 [==============================] - 0s 3ms/step - loss: 0.9511 - val_loss: 1.2017\n",
      "Epoch 834/1000\n",
      "12/12 [==============================] - 0s 3ms/step - loss: 0.9500 - val_loss: 1.2006\n",
      "Epoch 835/1000\n",
      "12/12 [==============================] - 0s 3ms/step - loss: 0.9490 - val_loss: 1.2002\n",
      "Epoch 836/1000\n",
      "12/12 [==============================] - 0s 3ms/step - loss: 0.9478 - val_loss: 1.1998\n",
      "Epoch 837/1000\n",
      "12/12 [==============================] - 0s 3ms/step - loss: 0.9472 - val_loss: 1.1992\n",
      "Epoch 838/1000\n",
      "12/12 [==============================] - 0s 3ms/step - loss: 0.9461 - val_loss: 1.1978\n",
      "Epoch 839/1000\n",
      "12/12 [==============================] - 0s 3ms/step - loss: 0.9450 - val_loss: 1.1971\n",
      "Epoch 840/1000\n",
      "12/12 [==============================] - 0s 3ms/step - loss: 0.9439 - val_loss: 1.1963\n",
      "Epoch 841/1000\n",
      "12/12 [==============================] - 0s 3ms/step - loss: 0.9429 - val_loss: 1.1952\n",
      "Epoch 842/1000\n",
      "12/12 [==============================] - 0s 3ms/step - loss: 0.9419 - val_loss: 1.1945\n",
      "Epoch 843/1000\n",
      "12/12 [==============================] - 0s 3ms/step - loss: 0.9409 - val_loss: 1.1933\n",
      "Epoch 844/1000\n",
      "12/12 [==============================] - 0s 3ms/step - loss: 0.9399 - val_loss: 1.1926\n",
      "Epoch 845/1000\n",
      "12/12 [==============================] - 0s 3ms/step - loss: 0.9393 - val_loss: 1.1916\n",
      "Epoch 846/1000\n",
      "12/12 [==============================] - 0s 3ms/step - loss: 0.9379 - val_loss: 1.1908\n",
      "Epoch 847/1000\n",
      "12/12 [==============================] - 0s 3ms/step - loss: 0.9374 - val_loss: 1.1900\n",
      "Epoch 848/1000\n",
      "12/12 [==============================] - 0s 3ms/step - loss: 0.9361 - val_loss: 1.1898\n",
      "Epoch 849/1000\n",
      "12/12 [==============================] - 0s 3ms/step - loss: 0.9351 - val_loss: 1.1885\n",
      "Epoch 850/1000\n",
      "12/12 [==============================] - 0s 3ms/step - loss: 0.9342 - val_loss: 1.1877\n",
      "Epoch 851/1000\n",
      "12/12 [==============================] - 0s 3ms/step - loss: 0.9336 - val_loss: 1.1870\n",
      "Epoch 852/1000\n",
      "12/12 [==============================] - 0s 3ms/step - loss: 0.9322 - val_loss: 1.1857\n",
      "Epoch 853/1000\n",
      "12/12 [==============================] - 0s 3ms/step - loss: 0.9320 - val_loss: 1.1851\n",
      "Epoch 854/1000\n",
      "12/12 [==============================] - 0s 4ms/step - loss: 0.9303 - val_loss: 1.1839\n",
      "Epoch 855/1000\n",
      "12/12 [==============================] - 0s 3ms/step - loss: 0.9297 - val_loss: 1.1828\n",
      "Epoch 856/1000\n",
      "12/12 [==============================] - 0s 3ms/step - loss: 0.9285 - val_loss: 1.1825\n",
      "Epoch 857/1000\n",
      "12/12 [==============================] - 0s 3ms/step - loss: 0.9278 - val_loss: 1.1816\n",
      "Epoch 858/1000\n",
      "12/12 [==============================] - 0s 3ms/step - loss: 0.9267 - val_loss: 1.1805\n",
      "Epoch 859/1000\n",
      "12/12 [==============================] - 0s 3ms/step - loss: 0.9257 - val_loss: 1.1799\n",
      "Epoch 860/1000\n",
      "12/12 [==============================] - 0s 3ms/step - loss: 0.9254 - val_loss: 1.1787\n",
      "Epoch 861/1000\n",
      "12/12 [==============================] - 0s 3ms/step - loss: 0.9239 - val_loss: 1.1784\n",
      "Epoch 862/1000\n",
      "12/12 [==============================] - 0s 3ms/step - loss: 0.9232 - val_loss: 1.1778\n",
      "Epoch 863/1000\n",
      "12/12 [==============================] - 0s 3ms/step - loss: 0.9222 - val_loss: 1.1769\n",
      "Epoch 864/1000\n",
      "12/12 [==============================] - 0s 3ms/step - loss: 0.9212 - val_loss: 1.1758\n",
      "Epoch 865/1000\n",
      "12/12 [==============================] - 0s 3ms/step - loss: 0.9206 - val_loss: 1.1746\n",
      "Epoch 866/1000\n",
      "12/12 [==============================] - 0s 3ms/step - loss: 0.9200 - val_loss: 1.1744\n",
      "Epoch 867/1000\n",
      "12/12 [==============================] - 0s 3ms/step - loss: 0.9187 - val_loss: 1.1734\n",
      "Epoch 868/1000\n",
      "12/12 [==============================] - 0s 3ms/step - loss: 0.9176 - val_loss: 1.1728\n",
      "Epoch 869/1000\n",
      "12/12 [==============================] - 0s 3ms/step - loss: 0.9168 - val_loss: 1.1721\n",
      "Epoch 870/1000\n",
      "12/12 [==============================] - 0s 3ms/step - loss: 0.9161 - val_loss: 1.1714\n",
      "Epoch 871/1000\n",
      "12/12 [==============================] - 0s 3ms/step - loss: 0.9157 - val_loss: 1.1706\n",
      "Epoch 872/1000\n",
      "12/12 [==============================] - 0s 3ms/step - loss: 0.9145 - val_loss: 1.1697\n",
      "Epoch 873/1000\n",
      "12/12 [==============================] - 0s 3ms/step - loss: 0.9137 - val_loss: 1.1688\n",
      "Epoch 874/1000\n",
      "12/12 [==============================] - 0s 3ms/step - loss: 0.9129 - val_loss: 1.1679\n",
      "Epoch 875/1000\n",
      "12/12 [==============================] - 0s 3ms/step - loss: 0.9123 - val_loss: 1.1661\n",
      "Epoch 876/1000\n",
      "12/12 [==============================] - 0s 3ms/step - loss: 0.9112 - val_loss: 1.1654\n",
      "Epoch 877/1000\n",
      "12/12 [==============================] - 0s 3ms/step - loss: 0.9105 - val_loss: 1.1646\n",
      "Epoch 878/1000\n",
      "12/12 [==============================] - 0s 3ms/step - loss: 0.9095 - val_loss: 1.1639\n",
      "Epoch 879/1000\n",
      "12/12 [==============================] - 0s 3ms/step - loss: 0.9090 - val_loss: 1.1635\n",
      "Epoch 880/1000\n",
      "12/12 [==============================] - 0s 3ms/step - loss: 0.9084 - val_loss: 1.1623\n",
      "Epoch 881/1000\n",
      "12/12 [==============================] - 0s 3ms/step - loss: 0.9073 - val_loss: 1.1610\n",
      "Epoch 882/1000\n",
      "12/12 [==============================] - 0s 3ms/step - loss: 0.9066 - val_loss: 1.1604\n",
      "Epoch 883/1000\n",
      "12/12 [==============================] - 0s 3ms/step - loss: 0.9058 - val_loss: 1.1595\n",
      "Epoch 884/1000\n",
      "12/12 [==============================] - 0s 4ms/step - loss: 0.9049 - val_loss: 1.1586\n",
      "Epoch 885/1000\n",
      "12/12 [==============================] - 0s 3ms/step - loss: 0.9043 - val_loss: 1.1572\n",
      "Epoch 886/1000\n",
      "12/12 [==============================] - 0s 3ms/step - loss: 0.9034 - val_loss: 1.1563\n",
      "Epoch 887/1000\n",
      "12/12 [==============================] - 0s 3ms/step - loss: 0.9026 - val_loss: 1.1559\n",
      "Epoch 888/1000\n",
      "12/12 [==============================] - 0s 3ms/step - loss: 0.9023 - val_loss: 1.1552\n",
      "Epoch 889/1000\n",
      "12/12 [==============================] - 0s 3ms/step - loss: 0.9009 - val_loss: 1.1539\n",
      "Epoch 890/1000\n",
      "12/12 [==============================] - 0s 4ms/step - loss: 0.9004 - val_loss: 1.1526\n",
      "Epoch 891/1000\n",
      "12/12 [==============================] - 0s 3ms/step - loss: 0.8994 - val_loss: 1.1519\n",
      "Epoch 892/1000\n",
      "12/12 [==============================] - 0s 3ms/step - loss: 0.8985 - val_loss: 1.1509\n",
      "Epoch 893/1000\n",
      "12/12 [==============================] - 0s 3ms/step - loss: 0.8988 - val_loss: 1.1505\n",
      "Epoch 894/1000\n",
      "12/12 [==============================] - 0s 3ms/step - loss: 0.8970 - val_loss: 1.1492\n",
      "Epoch 895/1000\n",
      "12/12 [==============================] - 0s 3ms/step - loss: 0.8963 - val_loss: 1.1484\n",
      "Epoch 896/1000\n",
      "12/12 [==============================] - 0s 3ms/step - loss: 0.8958 - val_loss: 1.1476\n",
      "Epoch 897/1000\n",
      "12/12 [==============================] - 0s 3ms/step - loss: 0.8956 - val_loss: 1.1467\n",
      "Epoch 898/1000\n",
      "12/12 [==============================] - 0s 4ms/step - loss: 0.8942 - val_loss: 1.1462\n",
      "Epoch 899/1000\n",
      "12/12 [==============================] - 0s 3ms/step - loss: 0.8936 - val_loss: 1.1451\n",
      "Epoch 900/1000\n",
      "12/12 [==============================] - 0s 3ms/step - loss: 0.8928 - val_loss: 1.1445\n",
      "Epoch 901/1000\n",
      "12/12 [==============================] - 0s 3ms/step - loss: 0.8919 - val_loss: 1.1436\n",
      "Epoch 902/1000\n",
      "12/12 [==============================] - 0s 3ms/step - loss: 0.8913 - val_loss: 1.1427\n",
      "Epoch 903/1000\n",
      "12/12 [==============================] - 0s 3ms/step - loss: 0.8912 - val_loss: 1.1420\n",
      "Epoch 904/1000\n",
      "12/12 [==============================] - 0s 3ms/step - loss: 0.8900 - val_loss: 1.1412\n",
      "Epoch 905/1000\n",
      "12/12 [==============================] - 0s 3ms/step - loss: 0.8892 - val_loss: 1.1408\n",
      "Epoch 906/1000\n",
      "12/12 [==============================] - 0s 3ms/step - loss: 0.8884 - val_loss: 1.1399\n",
      "Epoch 907/1000\n",
      "12/12 [==============================] - 0s 3ms/step - loss: 0.8877 - val_loss: 1.1392\n",
      "Epoch 908/1000\n",
      "12/12 [==============================] - 0s 3ms/step - loss: 0.8876 - val_loss: 1.1381\n",
      "Epoch 909/1000\n",
      "12/12 [==============================] - 0s 3ms/step - loss: 0.8868 - val_loss: 1.1373\n",
      "Epoch 910/1000\n",
      "12/12 [==============================] - 0s 3ms/step - loss: 0.8858 - val_loss: 1.1365\n",
      "Epoch 911/1000\n",
      "12/12 [==============================] - 0s 3ms/step - loss: 0.8853 - val_loss: 1.1359\n",
      "Epoch 912/1000\n",
      "12/12 [==============================] - 0s 3ms/step - loss: 0.8846 - val_loss: 1.1350\n",
      "Epoch 913/1000\n",
      "12/12 [==============================] - 0s 3ms/step - loss: 0.8836 - val_loss: 1.1340\n",
      "Epoch 914/1000\n",
      "12/12 [==============================] - 0s 3ms/step - loss: 0.8830 - val_loss: 1.1333\n",
      "Epoch 915/1000\n",
      "12/12 [==============================] - 0s 3ms/step - loss: 0.8824 - val_loss: 1.1326\n",
      "Epoch 916/1000\n",
      "12/12 [==============================] - 0s 3ms/step - loss: 0.8818 - val_loss: 1.1319\n",
      "Epoch 917/1000\n",
      "12/12 [==============================] - 0s 3ms/step - loss: 0.8811 - val_loss: 1.1311\n",
      "Epoch 918/1000\n",
      "12/12 [==============================] - 0s 3ms/step - loss: 0.8807 - val_loss: 1.1303\n",
      "Epoch 919/1000\n",
      "12/12 [==============================] - 0s 3ms/step - loss: 0.8799 - val_loss: 1.1297\n",
      "Epoch 920/1000\n",
      "12/12 [==============================] - 0s 3ms/step - loss: 0.8796 - val_loss: 1.1291\n",
      "Epoch 921/1000\n",
      "12/12 [==============================] - 0s 3ms/step - loss: 0.8788 - val_loss: 1.1284\n",
      "Epoch 922/1000\n",
      "12/12 [==============================] - 0s 3ms/step - loss: 0.8783 - val_loss: 1.1276\n",
      "Epoch 923/1000\n",
      "12/12 [==============================] - 0s 3ms/step - loss: 0.8777 - val_loss: 1.1271\n",
      "Epoch 924/1000\n",
      "12/12 [==============================] - 0s 3ms/step - loss: 0.8770 - val_loss: 1.1268\n",
      "Epoch 925/1000\n",
      "12/12 [==============================] - 0s 3ms/step - loss: 0.8766 - val_loss: 1.1259\n",
      "Epoch 926/1000\n",
      "12/12 [==============================] - 0s 4ms/step - loss: 0.8759 - val_loss: 1.1252\n",
      "Epoch 927/1000\n",
      "12/12 [==============================] - 0s 3ms/step - loss: 0.8754 - val_loss: 1.1244\n",
      "Epoch 928/1000\n",
      "12/12 [==============================] - 0s 3ms/step - loss: 0.8750 - val_loss: 1.1236\n",
      "Epoch 929/1000\n",
      "12/12 [==============================] - 0s 3ms/step - loss: 0.8741 - val_loss: 1.1226\n",
      "Epoch 930/1000\n",
      "12/12 [==============================] - 0s 3ms/step - loss: 0.8738 - val_loss: 1.1220\n",
      "Epoch 931/1000\n",
      "12/12 [==============================] - 0s 3ms/step - loss: 0.8732 - val_loss: 1.1213\n",
      "Epoch 932/1000\n",
      "12/12 [==============================] - 0s 3ms/step - loss: 0.8725 - val_loss: 1.1208\n",
      "Epoch 933/1000\n",
      "12/12 [==============================] - 0s 3ms/step - loss: 0.8720 - val_loss: 1.1202\n",
      "Epoch 934/1000\n",
      "12/12 [==============================] - 0s 3ms/step - loss: 0.8724 - val_loss: 1.1193\n",
      "Epoch 935/1000\n",
      "12/12 [==============================] - 0s 3ms/step - loss: 0.8712 - val_loss: 1.1186\n",
      "Epoch 936/1000\n",
      "12/12 [==============================] - 0s 3ms/step - loss: 0.8705 - val_loss: 1.1182\n",
      "Epoch 937/1000\n",
      "12/12 [==============================] - 0s 3ms/step - loss: 0.8702 - val_loss: 1.1176\n",
      "Epoch 938/1000\n",
      "12/12 [==============================] - 0s 3ms/step - loss: 0.8694 - val_loss: 1.1168\n",
      "Epoch 939/1000\n",
      "12/12 [==============================] - 0s 3ms/step - loss: 0.8688 - val_loss: 1.1163\n",
      "Epoch 940/1000\n",
      "12/12 [==============================] - 0s 3ms/step - loss: 0.8682 - val_loss: 1.1156\n",
      "Epoch 941/1000\n",
      "12/12 [==============================] - 0s 3ms/step - loss: 0.8677 - val_loss: 1.1147\n",
      "Epoch 942/1000\n",
      "12/12 [==============================] - 0s 3ms/step - loss: 0.8673 - val_loss: 1.1144\n",
      "Epoch 943/1000\n",
      "12/12 [==============================] - 0s 4ms/step - loss: 0.8667 - val_loss: 1.1136\n",
      "Epoch 944/1000\n",
      "12/12 [==============================] - 0s 3ms/step - loss: 0.8662 - val_loss: 1.1129\n",
      "Epoch 945/1000\n",
      "12/12 [==============================] - 0s 3ms/step - loss: 0.8665 - val_loss: 1.1124\n",
      "Epoch 946/1000\n",
      "12/12 [==============================] - 0s 3ms/step - loss: 0.8652 - val_loss: 1.1118\n",
      "Epoch 947/1000\n",
      "12/12 [==============================] - 0s 3ms/step - loss: 0.8649 - val_loss: 1.1113\n",
      "Epoch 948/1000\n",
      "12/12 [==============================] - 0s 3ms/step - loss: 0.8654 - val_loss: 1.1108\n",
      "Epoch 949/1000\n",
      "12/12 [==============================] - 0s 3ms/step - loss: 0.8640 - val_loss: 1.1100\n",
      "Epoch 950/1000\n",
      "12/12 [==============================] - 0s 3ms/step - loss: 0.8638 - val_loss: 1.1095\n",
      "Epoch 951/1000\n",
      "12/12 [==============================] - 0s 3ms/step - loss: 0.8632 - val_loss: 1.1089\n",
      "Epoch 952/1000\n",
      "12/12 [==============================] - 0s 3ms/step - loss: 0.8627 - val_loss: 1.1083\n",
      "Epoch 953/1000\n",
      "12/12 [==============================] - 0s 3ms/step - loss: 0.8622 - val_loss: 1.1077\n",
      "Epoch 954/1000\n",
      "12/12 [==============================] - 0s 3ms/step - loss: 0.8617 - val_loss: 1.1072\n",
      "Epoch 955/1000\n",
      "12/12 [==============================] - 0s 3ms/step - loss: 0.8611 - val_loss: 1.1064\n",
      "Epoch 956/1000\n",
      "12/12 [==============================] - 0s 3ms/step - loss: 0.8607 - val_loss: 1.1059\n",
      "Epoch 957/1000\n",
      "12/12 [==============================] - 0s 3ms/step - loss: 0.8605 - val_loss: 1.1053\n",
      "Epoch 958/1000\n",
      "12/12 [==============================] - 0s 3ms/step - loss: 0.8600 - val_loss: 1.1047\n",
      "Epoch 959/1000\n",
      "12/12 [==============================] - 0s 3ms/step - loss: 0.8593 - val_loss: 1.1040\n",
      "Epoch 960/1000\n",
      "12/12 [==============================] - 0s 3ms/step - loss: 0.8594 - val_loss: 1.1034\n",
      "Epoch 961/1000\n",
      "12/12 [==============================] - 0s 3ms/step - loss: 0.8589 - val_loss: 1.1025\n",
      "Epoch 962/1000\n",
      "12/12 [==============================] - 0s 3ms/step - loss: 0.8582 - val_loss: 1.1020\n",
      "Epoch 963/1000\n",
      "12/12 [==============================] - 0s 3ms/step - loss: 0.8577 - val_loss: 1.1015\n",
      "Epoch 964/1000\n",
      "12/12 [==============================] - 0s 3ms/step - loss: 0.8572 - val_loss: 1.1010\n",
      "Epoch 965/1000\n",
      "12/12 [==============================] - 0s 3ms/step - loss: 0.8569 - val_loss: 1.1004\n",
      "Epoch 966/1000\n",
      "12/12 [==============================] - 0s 3ms/step - loss: 0.8567 - val_loss: 1.0998\n",
      "Epoch 967/1000\n",
      "12/12 [==============================] - 0s 3ms/step - loss: 0.8561 - val_loss: 1.0991\n",
      "Epoch 968/1000\n",
      "12/12 [==============================] - 0s 3ms/step - loss: 0.8561 - val_loss: 1.0987\n",
      "Epoch 969/1000\n",
      "12/12 [==============================] - 0s 3ms/step - loss: 0.8550 - val_loss: 1.0978\n",
      "Epoch 970/1000\n",
      "12/12 [==============================] - 0s 4ms/step - loss: 0.8546 - val_loss: 1.0971\n",
      "Epoch 971/1000\n",
      "12/12 [==============================] - 0s 3ms/step - loss: 0.8542 - val_loss: 1.0966\n",
      "Epoch 972/1000\n",
      "12/12 [==============================] - 0s 3ms/step - loss: 0.8542 - val_loss: 1.0960\n",
      "Epoch 973/1000\n",
      "12/12 [==============================] - 0s 3ms/step - loss: 0.8535 - val_loss: 1.0954\n",
      "Epoch 974/1000\n",
      "12/12 [==============================] - 0s 3ms/step - loss: 0.8531 - val_loss: 1.0946\n",
      "Epoch 975/1000\n",
      "12/12 [==============================] - 0s 3ms/step - loss: 0.8523 - val_loss: 1.0940\n",
      "Epoch 976/1000\n",
      "12/12 [==============================] - 0s 3ms/step - loss: 0.8522 - val_loss: 1.0934\n",
      "Epoch 977/1000\n",
      "12/12 [==============================] - 0s 3ms/step - loss: 0.8516 - val_loss: 1.0928\n",
      "Epoch 978/1000\n",
      "12/12 [==============================] - 0s 3ms/step - loss: 0.8515 - val_loss: 1.0923\n",
      "Epoch 979/1000\n",
      "12/12 [==============================] - 0s 3ms/step - loss: 0.8516 - val_loss: 1.0915\n",
      "Epoch 980/1000\n",
      "12/12 [==============================] - 0s 3ms/step - loss: 0.8505 - val_loss: 1.0908\n",
      "Epoch 981/1000\n",
      "12/12 [==============================] - 0s 3ms/step - loss: 0.8499 - val_loss: 1.0899\n",
      "Epoch 982/1000\n",
      "12/12 [==============================] - 0s 3ms/step - loss: 0.8502 - val_loss: 1.0891\n",
      "Epoch 983/1000\n",
      "12/12 [==============================] - 0s 3ms/step - loss: 0.8503 - val_loss: 1.0889\n",
      "Epoch 984/1000\n",
      "12/12 [==============================] - 0s 3ms/step - loss: 0.8490 - val_loss: 1.0881\n",
      "Epoch 985/1000\n",
      "12/12 [==============================] - 0s 3ms/step - loss: 0.8486 - val_loss: 1.0872\n",
      "Epoch 986/1000\n",
      "12/12 [==============================] - 0s 3ms/step - loss: 0.8480 - val_loss: 1.0867\n",
      "Epoch 987/1000\n",
      "12/12 [==============================] - 0s 3ms/step - loss: 0.8484 - val_loss: 1.0862\n",
      "Epoch 988/1000\n",
      "12/12 [==============================] - 0s 3ms/step - loss: 0.8475 - val_loss: 1.0853\n",
      "Epoch 989/1000\n",
      "12/12 [==============================] - 0s 3ms/step - loss: 0.8472 - val_loss: 1.0849\n",
      "Epoch 990/1000\n",
      "12/12 [==============================] - 0s 3ms/step - loss: 0.8466 - val_loss: 1.0843\n",
      "Epoch 991/1000\n",
      "12/12 [==============================] - 0s 3ms/step - loss: 0.8462 - val_loss: 1.0837\n",
      "Epoch 992/1000\n",
      "12/12 [==============================] - 0s 4ms/step - loss: 0.8459 - val_loss: 1.0830\n",
      "Epoch 993/1000\n",
      "12/12 [==============================] - 0s 3ms/step - loss: 0.8455 - val_loss: 1.0822\n",
      "Epoch 994/1000\n",
      "12/12 [==============================] - 0s 3ms/step - loss: 0.8457 - val_loss: 1.0817\n",
      "Epoch 995/1000\n",
      "12/12 [==============================] - 0s 3ms/step - loss: 0.8456 - val_loss: 1.0811\n",
      "Epoch 996/1000\n",
      "12/12 [==============================] - 0s 3ms/step - loss: 0.8444 - val_loss: 1.0805\n",
      "Epoch 997/1000\n",
      "12/12 [==============================] - 0s 3ms/step - loss: 0.8443 - val_loss: 1.0800\n",
      "Epoch 998/1000\n",
      "12/12 [==============================] - 0s 3ms/step - loss: 0.8436 - val_loss: 1.0794\n",
      "Epoch 999/1000\n",
      "12/12 [==============================] - 0s 3ms/step - loss: 0.8432 - val_loss: 1.0787\n",
      "Epoch 1000/1000\n",
      "12/12 [==============================] - 0s 3ms/step - loss: 0.8430 - val_loss: 1.0780\n"
     ]
    }
   ],
   "source": [
    "hist3 = DL_3.fit(x_train_sc, y_train, epochs=1000, verbose=1, callbacks=[es],\n",
    "        validation_split=0.2, batch_size=16)"
   ]
  },
  {
   "cell_type": "code",
   "execution_count": 260,
   "metadata": {},
   "outputs": [
    {
     "name": "stdout",
     "output_type": "stream",
     "text": [
      "1.0021909371217093\n"
     ]
    }
   ],
   "source": [
    "y_pred= DL_3.predict(x_test_sc)\n",
    "result['DL_3']=mean_absolute_error(y_test, y_pred)\n",
    "print(mean_absolute_error(y_test, y_pred))"
   ]
  },
  {
   "cell_type": "markdown",
   "metadata": {},
   "source": [
    "- 딥러닝 모델은 히든레이어와 노드의 조절을 통해 모델의 성능을 높일 수 있음.\n",
    "- 또한 딥러닝의 경우 정량적 데이터를 분석보다 이미지, 텍스트 데이터 학습에서 머신러닝보다 강한 모습을 보이기 때문에 현재 해당 회귀 문제에서는 적합해 보이지 않음."
   ]
  },
  {
   "cell_type": "markdown",
   "metadata": {
    "id": "_diIqEQYZTJU"
   },
   "source": [
    "## 5.성능 비교\n",
    "\n",
    "* 알고리즘별 선정된 모델 성능을 평가합니다.\n",
    "* 평가를 위한 적절한 지표(metric)을 결정하고 비교합니다."
   ]
  },
  {
   "cell_type": "code",
   "execution_count": 261,
   "metadata": {
    "id": "WUcotER1IqRB"
   },
   "outputs": [
    {
     "name": "stdout",
     "output_type": "stream",
     "text": [
      "< 성능 >\n",
      "========================================\n",
      "Linear Regression 0.979\n",
      "Decision Tree 1.471\n",
      "SVM 0.898\n",
      "Random Forest 1.264\n",
      "XGB 1.093\n",
      "KNN 1.991\n",
      "DL_1 0.998\n",
      "DL_2 1.008\n",
      "DL_3 1.002\n",
      "========================================\n"
     ]
    }
   ],
   "source": [
    "print(\"< 성능 >\")\n",
    "print('=' * 40)\n",
    "for m_name, score in result.items():\n",
    "    print(m_name, score.round(3))\n",
    "print('=' * 40)"
   ]
  },
  {
   "cell_type": "code",
   "execution_count": 262,
   "metadata": {},
   "outputs": [
    {
     "data": {
      "image/png": "[encoded data removed]",
      "text/plain": [
       "<Figure size 432x288 with 1 Axes>"
      ]
     },
     "metadata": {
      "needs_background": "light"
     },
     "output_type": "display_data"
    }
   ],
   "source": [
    "plt.barh(list(result), width=result.values())\n",
    "plt.show()"
   ]
  },
  {
   "cell_type": "markdown",
   "metadata": {},
   "source": [
    "- 주어진 문제가 회귀 문제이기 때문에 각각의 지표를 확인 했을 때, mae가 가장 낮은 모델은 바로 **SVM** 모델이었음.\n",
    "- 따라서 현재 주어진 모델에 가장 적함한 모델은 'SVM'이라고 생각함.\n",
    "- 튜닝할 파라미터를 조절 해 더 좋은 성능을 예측해야 할 겠음.\n",
    "\n",
    "- 두번째로 좋은 모델은 선형회귀임.\n",
    "- 그러나 선형회귀는 모델에 튜닝할 파라미터가 거의 없기 때문에 데이터 전처리가 더욱 중요해질 것으로 보임."
   ]
  },
  {
   "cell_type": "markdown",
   "metadata": {
    "id": "2p4iNuRNRk5G"
   },
   "source": [
    "## 6.[팀과제]Test set으로 예측\n",
    "* 전처리 코드 실행\n",
    "* 예측\n",
    "* 성능 튜닝 : Kaggle에서의 평가는 MAE로 하게 됩니다. "
   ]
  },
  {
   "cell_type": "markdown",
   "metadata": {
    "id": "1-iK2nXTTQ9H"
   },
   "source": [
    "#### 6.1 전처리 코드실행\n",
    "\n",
    "* 주의!!! \n",
    "    * 전처리 코드는 2번에서의 순서를 반드시 지켜서 실행해야 합니다.\n",
    "    * 중간에 오류가 나면, 순서가 맞지 않기때문에 발생될 수 있습니다. \n"
   ]
  },
  {
   "cell_type": "code",
   "execution_count": 263,
   "metadata": {
    "id": "IvocTNGzRrSx"
   },
   "outputs": [
    {
     "data": {
      "text/html": [
       "<div>\n",
       "<style scoped>\n",
       "    .dataframe tbody tr th:only-of-type {\n",
       "        vertical-align: middle;\n",
       "    }\n",
       "\n",
       "    .dataframe tbody tr th {\n",
       "        vertical-align: top;\n",
       "    }\n",
       "\n",
       "    .dataframe thead th {\n",
       "        text-align: right;\n",
       "    }\n",
       "</style>\n",
       "<table border=\"1\" class=\"dataframe\">\n",
       "  <thead>\n",
       "    <tr style=\"text-align: right;\">\n",
       "      <th></th>\n",
       "      <th>CompPrice</th>\n",
       "      <th>Income</th>\n",
       "      <th>Advertising</th>\n",
       "      <th>Population</th>\n",
       "      <th>Price</th>\n",
       "      <th>Age</th>\n",
       "      <th>ShelveLoc_Good</th>\n",
       "      <th>ShelveLoc_Medium</th>\n",
       "      <th>Education_11</th>\n",
       "      <th>Education_12</th>\n",
       "      <th>Education_13</th>\n",
       "      <th>Education_14</th>\n",
       "      <th>Education_15</th>\n",
       "      <th>Education_16</th>\n",
       "      <th>Education_17</th>\n",
       "      <th>Education_18</th>\n",
       "      <th>Urban_Yes</th>\n",
       "      <th>US_Yes</th>\n",
       "    </tr>\n",
       "  </thead>\n",
       "  <tbody>\n",
       "    <tr>\n",
       "      <th>0</th>\n",
       "      <td>131.0</td>\n",
       "      <td>111.0</td>\n",
       "      <td>13</td>\n",
       "      <td>33</td>\n",
       "      <td>80</td>\n",
       "      <td>68</td>\n",
       "      <td>0</td>\n",
       "      <td>0</td>\n",
       "      <td>0</td>\n",
       "      <td>0</td>\n",
       "      <td>0</td>\n",
       "      <td>0</td>\n",
       "      <td>0</td>\n",
       "      <td>0</td>\n",
       "      <td>0</td>\n",
       "      <td>1</td>\n",
       "      <td>1</td>\n",
       "      <td>1</td>\n",
       "    </tr>\n",
       "    <tr>\n",
       "      <th>1</th>\n",
       "      <td>123.0</td>\n",
       "      <td>57.0</td>\n",
       "      <td>0</td>\n",
       "      <td>66</td>\n",
       "      <td>105</td>\n",
       "      <td>39</td>\n",
       "      <td>0</td>\n",
       "      <td>1</td>\n",
       "      <td>1</td>\n",
       "      <td>0</td>\n",
       "      <td>0</td>\n",
       "      <td>0</td>\n",
       "      <td>0</td>\n",
       "      <td>0</td>\n",
       "      <td>0</td>\n",
       "      <td>0</td>\n",
       "      <td>1</td>\n",
       "      <td>0</td>\n",
       "    </tr>\n",
       "    <tr>\n",
       "      <th>2</th>\n",
       "      <td>136.0</td>\n",
       "      <td>60.0</td>\n",
       "      <td>7</td>\n",
       "      <td>303</td>\n",
       "      <td>147</td>\n",
       "      <td>41</td>\n",
       "      <td>0</td>\n",
       "      <td>1</td>\n",
       "      <td>0</td>\n",
       "      <td>0</td>\n",
       "      <td>0</td>\n",
       "      <td>0</td>\n",
       "      <td>0</td>\n",
       "      <td>0</td>\n",
       "      <td>0</td>\n",
       "      <td>0</td>\n",
       "      <td>1</td>\n",
       "      <td>1</td>\n",
       "    </tr>\n",
       "    <tr>\n",
       "      <th>3</th>\n",
       "      <td>143.0</td>\n",
       "      <td>77.0</td>\n",
       "      <td>25</td>\n",
       "      <td>448</td>\n",
       "      <td>156</td>\n",
       "      <td>43</td>\n",
       "      <td>0</td>\n",
       "      <td>1</td>\n",
       "      <td>0</td>\n",
       "      <td>0</td>\n",
       "      <td>0</td>\n",
       "      <td>0</td>\n",
       "      <td>0</td>\n",
       "      <td>0</td>\n",
       "      <td>1</td>\n",
       "      <td>0</td>\n",
       "      <td>1</td>\n",
       "      <td>1</td>\n",
       "    </tr>\n",
       "    <tr>\n",
       "      <th>4</th>\n",
       "      <td>111.0</td>\n",
       "      <td>75.0</td>\n",
       "      <td>1</td>\n",
       "      <td>377</td>\n",
       "      <td>108</td>\n",
       "      <td>25</td>\n",
       "      <td>1</td>\n",
       "      <td>0</td>\n",
       "      <td>0</td>\n",
       "      <td>1</td>\n",
       "      <td>0</td>\n",
       "      <td>0</td>\n",
       "      <td>0</td>\n",
       "      <td>0</td>\n",
       "      <td>0</td>\n",
       "      <td>0</td>\n",
       "      <td>1</td>\n",
       "      <td>0</td>\n",
       "    </tr>\n",
       "  </tbody>\n",
       "</table>\n",
       "</div>"
      ],
      "text/plain": [
       "   CompPrice  Income  Advertising  Population  Price  Age  ShelveLoc_Good  \\\n",
       "0      131.0   111.0           13          33     80   68               0   \n",
       "1      123.0    57.0            0          66    105   39               0   \n",
       "2      136.0    60.0            7         303    147   41               0   \n",
       "3      143.0    77.0           25         448    156   43               0   \n",
       "4      111.0    75.0            1         377    108   25               1   \n",
       "\n",
       "   ShelveLoc_Medium  Education_11  Education_12  Education_13  Education_14  \\\n",
       "0                 0             0             0             0             0   \n",
       "1                 1             1             0             0             0   \n",
       "2                 1             0             0             0             0   \n",
       "3                 1             0             0             0             0   \n",
       "4                 0             0             1             0             0   \n",
       "\n",
       "   Education_15  Education_16  Education_17  Education_18  Urban_Yes  US_Yes  \n",
       "0             0             0             0             1          1       1  \n",
       "1             0             0             0             0          1       0  \n",
       "2             0             0             0             0          1       1  \n",
       "3             0             0             1             0          1       1  \n",
       "4             0             0             0             0          1       0  "
      ]
     },
     "execution_count": 263,
     "metadata": {},
     "output_type": "execute_result"
    }
   ],
   "source": [
    "# 가변수화 코드 실행\n",
    "cols = ['ShelveLoc','Education','Urban','US']\n",
    "test = pd.get_dummies(test, columns=cols, drop_first=True)\n",
    "test.head()"
   ]
  },
  {
   "cell_type": "code",
   "execution_count": 264,
   "metadata": {
    "id": "atjlcjPASEZS"
   },
   "outputs": [],
   "source": [
    "# NAN 채우기\n",
    "test['CompPrice'].fillna(test['CompPrice'].mean(), inplace=True)\n",
    "test['Income'].fillna(test['Income'].mean(), inplace=True)"
   ]
  },
  {
   "cell_type": "code",
   "execution_count": 265,
   "metadata": {
    "id": "8nqkMlQQR1IY"
   },
   "outputs": [],
   "source": [
    "# 경쟁사와 가격 차 변수 만들기\n",
    "test['diff'] = test['CompPrice']-test['Price']"
   ]
  },
  {
   "cell_type": "code",
   "execution_count": 276,
   "metadata": {
    "id": "7Uoa6vVISBRP"
   },
   "outputs": [],
   "source": [
    "# 스케일링\n",
    "from sklearn.preprocessing import MinMaxScaler\n",
    "col_x = list(test)\n",
    "scaler = MinMaxScaler()\n",
    "test_sc = scaler.fit_transform(test)"
   ]
  },
  {
   "cell_type": "markdown",
   "metadata": {},
   "source": [
    "### **----------- Linear Regression -----------**"
   ]
  },
  {
   "cell_type": "code",
   "execution_count": 268,
   "metadata": {},
   "outputs": [
    {
     "name": "stdout",
     "output_type": "stream",
     "text": [
      "0.9792731621619262\n"
     ]
    }
   ],
   "source": [
    "model_L = LinearRegression()\n",
    "\n",
    "# 2. 모델 학습하기\n",
    "model_L.fit(x_train, y_train)\n",
    "\n",
    "# 3. 모델 예측하기\n",
    "y_pred = model_L.predict(x_test)\n",
    "\n",
    "# 4. 모델 평가하기\n",
    "\n",
    "print(mean_absolute_error(y_test,y_pred))"
   ]
  },
  {
   "cell_type": "markdown",
   "metadata": {},
   "source": [
    "### **----------- SVM -----------**"
   ]
  },
  {
   "cell_type": "code",
   "execution_count": 267,
   "metadata": {},
   "outputs": [
    {
     "name": "stdout",
     "output_type": "stream",
     "text": [
      "0.8977557551785895\n"
     ]
    }
   ],
   "source": [
    "model_svm = SVR(C=480, epsilon=0.1, gamma=0.001)\n",
    "model_svm.fit(x_train_sc, y_train)\n",
    "y_pred = model_svm.predict(x_test_sc)\n",
    "print(mean_absolute_error(y_test,y_pred))"
   ]
  },
  {
   "cell_type": "markdown",
   "metadata": {
    "id": "yeqoSr4RTUFM"
   },
   "source": [
    "#### 6.2 예측\n",
    "\n",
    "* 5에서 가장 좋은 성능의 모델로 예측을 시도합니다.\n",
    "* 결과를 csv 파일로 저장해서 업로드 합니다."
   ]
  },
  {
   "cell_type": "markdown",
   "metadata": {},
   "source": [
    "< Linear Regresstion >"
   ]
  },
  {
   "cell_type": "code",
   "execution_count": 269,
   "metadata": {
    "collapsed": true,
    "id": "kSojj4VNTCt3",
    "jupyter": {
     "outputs_hidden": true
    }
   },
   "outputs": [
    {
     "name": "stdout",
     "output_type": "stream",
     "text": [
      "[ 9.78352113  7.80530674  6.16616528  7.85449201 10.82068535 10.54859642\n",
      "  6.97477177 10.64501775  6.9711998   7.83704554  3.26848052  4.91113811\n",
      "  9.5796037   4.12237323 10.35960878  8.12626456  8.9406988   8.54370567\n",
      "  3.61781531 10.1418927  10.66210646  9.305631   11.20738392  4.54930843\n",
      "  7.64650013 12.35444026  5.40695758 11.24161167 10.07193833  9.44830951\n",
      "  6.72425968  5.02502358  9.59985833  7.11148284  7.72820688  7.89067486\n",
      "  2.37195675  9.67363436  6.97718044  7.57686171 11.7906218   6.97278707\n",
      "  4.10916443 10.80504933  6.05665077  6.84124478  7.81675837  8.72385105\n",
      "  6.21763099  6.45808326  6.06286787  6.67778472 13.53310728  6.4894688\n",
      "  7.14734495  7.15345733 10.49913896  4.40971972  6.36158152 10.23982177\n",
      "  5.06696348  6.78563524  5.19090835  6.84311479  6.00112425  2.98429342\n",
      "  4.18437064 10.19550493  9.79075566  5.11926405  6.36815612  1.82733402\n",
      "  9.35597903  7.17128356  5.23496612  9.45772134 11.37170858  6.95681117\n",
      "  7.91492848  7.21449246  4.38601523  7.12621749  4.05615927  6.73437991\n",
      "  7.67795418  3.6084223   4.85316824  8.39197337 10.83747887  9.74445774\n",
      " 10.84105891  7.53958731  4.97880696  8.81777423  5.54008362  6.86883871\n",
      "  8.03409687 10.21381304  4.00016482 11.06048392]\n"
     ]
    }
   ],
   "source": [
    "y_pred_L = model_L.predict(test)"
   ]
  },
  {
   "cell_type": "code",
   "execution_count": 272,
   "metadata": {
    "id": "rrJ2kELKTlGZ",
    "scrolled": true
   },
   "outputs": [
    {
     "data": {
      "text/html": [
       "<div>\n",
       "<style scoped>\n",
       "    .dataframe tbody tr th:only-of-type {\n",
       "        vertical-align: middle;\n",
       "    }\n",
       "\n",
       "    .dataframe tbody tr th {\n",
       "        vertical-align: top;\n",
       "    }\n",
       "\n",
       "    .dataframe thead th {\n",
       "        text-align: right;\n",
       "    }\n",
       "</style>\n",
       "<table border=\"1\" class=\"dataframe\">\n",
       "  <thead>\n",
       "    <tr style=\"text-align: right;\">\n",
       "      <th></th>\n",
       "      <th>0</th>\n",
       "    </tr>\n",
       "  </thead>\n",
       "  <tbody>\n",
       "    <tr>\n",
       "      <th>0</th>\n",
       "      <td>9.783521</td>\n",
       "    </tr>\n",
       "    <tr>\n",
       "      <th>1</th>\n",
       "      <td>7.805307</td>\n",
       "    </tr>\n",
       "    <tr>\n",
       "      <th>2</th>\n",
       "      <td>6.166165</td>\n",
       "    </tr>\n",
       "    <tr>\n",
       "      <th>3</th>\n",
       "      <td>7.854492</td>\n",
       "    </tr>\n",
       "    <tr>\n",
       "      <th>4</th>\n",
       "      <td>10.820685</td>\n",
       "    </tr>\n",
       "  </tbody>\n",
       "</table>\n",
       "</div>"
      ],
      "text/plain": [
       "           0\n",
       "0   9.783521\n",
       "1   7.805307\n",
       "2   6.166165\n",
       "3   7.854492\n",
       "4  10.820685"
      ]
     },
     "execution_count": 272,
     "metadata": {},
     "output_type": "execute_result"
    }
   ],
   "source": [
    "y_pred_L = pd.DataFrame(y_pred_L)\n",
    "y_pred_L.head()"
   ]
  },
  {
   "cell_type": "markdown",
   "metadata": {},
   "source": [
    "< svm >"
   ]
  },
  {
   "cell_type": "code",
   "execution_count": 277,
   "metadata": {
    "collapsed": true,
    "jupyter": {
     "outputs_hidden": true
    }
   },
   "outputs": [
    {
     "name": "stdout",
     "output_type": "stream",
     "text": [
      "[ 8.95932573  7.05664127  5.96728414  7.5980103  10.39989679  9.83313058\n",
      "  6.59470587  9.88745399  6.55732007  7.38228083  3.45653514  4.59747926\n",
      "  8.91599242  3.85682658  9.93325324  7.6135114   8.16656491  7.95294031\n",
      "  3.13636445  9.66587713  9.73198434  8.42229696 10.52840121  4.48641054\n",
      "  7.23714781 11.14863429  4.84470005 10.79697918  9.37092183  8.59819408\n",
      "  6.44767269  4.97117579  9.5337291   6.79372292  7.04942877  7.69543086\n",
      "  2.62913014  9.00461897  6.46997709  7.07331894 11.03059762  6.61991028\n",
      "  3.96679453 10.53544839  6.01672313  6.59136999  7.41536743  8.2737776\n",
      "  5.52895058  6.50555933  5.80803925  6.20303533 12.40737739  6.08384524\n",
      "  7.13593621  6.91218288 10.07296435  4.48002939  5.88383319  9.42312845\n",
      "  4.82687515  6.72391174  5.19193574  6.33286383  5.95337328  2.60052645\n",
      "  4.25610709  9.79270357  9.25361783  4.94692551  5.83025718  1.92880654\n",
      "  8.70860344  6.62108049  4.64826352  9.07928329 10.20458108  6.96044035\n",
      "  7.62936324  6.77293047  3.90734415  6.64744245  4.22635126  6.18160448\n",
      "  7.00505269  3.04175215  4.3304343   7.62004529  9.95354035  9.31472201\n",
      " 10.19179108  6.70725699  4.99519094  8.4688915   4.89208981  6.59470612\n",
      "  7.4743602   9.80902803  4.00055927 10.40234148]\n"
     ]
    },
    {
     "name": "stderr",
     "output_type": "stream",
     "text": [
      "C:\\Users\\User\\anaconda3\\lib\\site-packages\\sklearn\\base.py:450: UserWarning: X does not have valid feature names, but SVR was fitted with feature names\n",
      "  warnings.warn(\n"
     ]
    }
   ],
   "source": [
    "y_pred_svm = model_svm.predict(test_sc)\n",
    "y_pred_SVM = pd.DataFrame(y_pred_svm)\n",
    "print(y_pred_svm)"
   ]
  },
  {
   "cell_type": "code",
   "execution_count": null,
   "metadata": {
    "id": "ytzzf27xTupg"
   },
   "outputs": [],
   "source": [
    "# y_pred_L.to_csv(\"y_pred_L.csv\")"
   ]
  }
 ],
 "metadata": {
  "colab": {
   "collapsed_sections": [],
   "name": "과제1.  car seat 매출 예측.ipynb",
   "provenance": [],
   "toc_visible": true
  },
  "kernelspec": {
   "display_name": "Python 3 (ipykernel)",
   "language": "python",
   "name": "python3"
  },
  "language_info": {
   "codemirror_mode": {
    "name": "ipython",
    "version": 3
   },
   "file_extension": ".py",
   "mimetype": "text/x-python",
   "name": "python",
   "nbconvert_exporter": "python",
   "pygments_lexer": "ipython3",
   "version": "3.9.7"
  },
  "vscode": {
   "interpreter": {
    "hash": "5ceedeb2e16b599b2579900e9b9cf383e3bb99df67e58f3faa71afe03aab7404"
   }
  }
 },
 "nbformat": 4,
 "nbformat_minor": 4
}
